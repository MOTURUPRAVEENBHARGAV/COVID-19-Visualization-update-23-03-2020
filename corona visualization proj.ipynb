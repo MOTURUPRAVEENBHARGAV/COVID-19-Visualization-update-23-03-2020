{
 "cells": [
  {
   "cell_type": "code",
   "execution_count": 1,
   "metadata": {},
   "outputs": [],
   "source": [
    "import pandas as pd\n",
    "import numpy as np\n",
    "import matplotlib.pyplot as plt\n",
    "%matplotlib inline\n",
    "import seaborn as sns"
   ]
  },
  {
   "cell_type": "code",
   "execution_count": 61,
   "metadata": {},
   "outputs": [
    {
     "data": {
      "text/html": [
       "<div>\n",
       "<style scoped>\n",
       "    .dataframe tbody tr th:only-of-type {\n",
       "        vertical-align: middle;\n",
       "    }\n",
       "\n",
       "    .dataframe tbody tr th {\n",
       "        vertical-align: top;\n",
       "    }\n",
       "\n",
       "    .dataframe thead th {\n",
       "        text-align: right;\n",
       "    }\n",
       "</style>\n",
       "<table border=\"1\" class=\"dataframe\">\n",
       "  <thead>\n",
       "    <tr style=\"text-align: right;\">\n",
       "      <th></th>\n",
       "      <th>Country,Other</th>\n",
       "      <th>TotalCases</th>\n",
       "      <th>NewCases</th>\n",
       "      <th>TotalDeaths</th>\n",
       "      <th>NewDeaths</th>\n",
       "      <th>TotalRecovered</th>\n",
       "      <th>ActiveCases</th>\n",
       "      <th>Serious,Critical</th>\n",
       "      <th>Tot Cases/1M pop</th>\n",
       "    </tr>\n",
       "  </thead>\n",
       "  <tbody>\n",
       "    <tr>\n",
       "      <td>0</td>\n",
       "      <td>China</td>\n",
       "      <td>81054</td>\n",
       "      <td>+46</td>\n",
       "      <td>3261.0</td>\n",
       "      <td>6.0</td>\n",
       "      <td>72440.0</td>\n",
       "      <td>5353</td>\n",
       "      <td>1845.0</td>\n",
       "      <td>56.00</td>\n",
       "    </tr>\n",
       "    <tr>\n",
       "      <td>1</td>\n",
       "      <td>Italy</td>\n",
       "      <td>59138</td>\n",
       "      <td>+5,560</td>\n",
       "      <td>5476.0</td>\n",
       "      <td>651.0</td>\n",
       "      <td>7024.0</td>\n",
       "      <td>46638</td>\n",
       "      <td>3000.0</td>\n",
       "      <td>978.00</td>\n",
       "    </tr>\n",
       "    <tr>\n",
       "      <td>2</td>\n",
       "      <td>USA</td>\n",
       "      <td>38167</td>\n",
       "      <td>+13,960</td>\n",
       "      <td>396.0</td>\n",
       "      <td>94.0</td>\n",
       "      <td>178.0</td>\n",
       "      <td>37593</td>\n",
       "      <td>708.0</td>\n",
       "      <td>115.00</td>\n",
       "    </tr>\n",
       "    <tr>\n",
       "      <td>3</td>\n",
       "      <td>Spain</td>\n",
       "      <td>28603</td>\n",
       "      <td>+3,107</td>\n",
       "      <td>1756.0</td>\n",
       "      <td>375.0</td>\n",
       "      <td>2125.0</td>\n",
       "      <td>24722</td>\n",
       "      <td>1785.0</td>\n",
       "      <td>612.00</td>\n",
       "    </tr>\n",
       "    <tr>\n",
       "      <td>4</td>\n",
       "      <td>Germany</td>\n",
       "      <td>24806</td>\n",
       "      <td>+2,442</td>\n",
       "      <td>93.0</td>\n",
       "      <td>9.0</td>\n",
       "      <td>266.0</td>\n",
       "      <td>24447</td>\n",
       "      <td>2.0</td>\n",
       "      <td>296.00</td>\n",
       "    </tr>\n",
       "    <tr>\n",
       "      <td>...</td>\n",
       "      <td>...</td>\n",
       "      <td>...</td>\n",
       "      <td>...</td>\n",
       "      <td>...</td>\n",
       "      <td>...</td>\n",
       "      <td>...</td>\n",
       "      <td>...</td>\n",
       "      <td>...</td>\n",
       "      <td>...</td>\n",
       "    </tr>\n",
       "    <tr>\n",
       "      <td>186</td>\n",
       "      <td>Sint Maarten</td>\n",
       "      <td>1</td>\n",
       "      <td>NaN</td>\n",
       "      <td>NaN</td>\n",
       "      <td>NaN</td>\n",
       "      <td>NaN</td>\n",
       "      <td>1</td>\n",
       "      <td>NaN</td>\n",
       "      <td>23.00</td>\n",
       "    </tr>\n",
       "    <tr>\n",
       "      <td>187</td>\n",
       "      <td>Somalia</td>\n",
       "      <td>1</td>\n",
       "      <td>NaN</td>\n",
       "      <td>NaN</td>\n",
       "      <td>NaN</td>\n",
       "      <td>NaN</td>\n",
       "      <td>1</td>\n",
       "      <td>NaN</td>\n",
       "      <td>0.06</td>\n",
       "    </tr>\n",
       "    <tr>\n",
       "      <td>188</td>\n",
       "      <td>Timor-Leste</td>\n",
       "      <td>1</td>\n",
       "      <td>NaN</td>\n",
       "      <td>NaN</td>\n",
       "      <td>NaN</td>\n",
       "      <td>NaN</td>\n",
       "      <td>1</td>\n",
       "      <td>NaN</td>\n",
       "      <td>0.80</td>\n",
       "    </tr>\n",
       "    <tr>\n",
       "      <td>189</td>\n",
       "      <td>Uganda</td>\n",
       "      <td>1</td>\n",
       "      <td>NaN</td>\n",
       "      <td>NaN</td>\n",
       "      <td>NaN</td>\n",
       "      <td>NaN</td>\n",
       "      <td>1</td>\n",
       "      <td>NaN</td>\n",
       "      <td>0.02</td>\n",
       "    </tr>\n",
       "    <tr>\n",
       "      <td>190</td>\n",
       "      <td>Total:</td>\n",
       "      <td>338104</td>\n",
       "      <td>33114</td>\n",
       "      <td>14456.0</td>\n",
       "      <td>1449.0</td>\n",
       "      <td>96958.0</td>\n",
       "      <td>226690</td>\n",
       "      <td>10298.0</td>\n",
       "      <td>43.40</td>\n",
       "    </tr>\n",
       "  </tbody>\n",
       "</table>\n",
       "<p>191 rows × 9 columns</p>\n",
       "</div>"
      ],
      "text/plain": [
       "    Country,Other  TotalCases NewCases  TotalDeaths  NewDeaths  \\\n",
       "0           China       81054      +46       3261.0        6.0   \n",
       "1           Italy       59138   +5,560       5476.0      651.0   \n",
       "2             USA       38167  +13,960        396.0       94.0   \n",
       "3           Spain       28603   +3,107       1756.0      375.0   \n",
       "4         Germany       24806   +2,442         93.0        9.0   \n",
       "..            ...         ...      ...          ...        ...   \n",
       "186  Sint Maarten           1      NaN          NaN        NaN   \n",
       "187       Somalia           1      NaN          NaN        NaN   \n",
       "188   Timor-Leste           1      NaN          NaN        NaN   \n",
       "189        Uganda           1      NaN          NaN        NaN   \n",
       "190        Total:      338104    33114      14456.0     1449.0   \n",
       "\n",
       "     TotalRecovered  ActiveCases  Serious,Critical  Tot Cases/1M pop  \n",
       "0           72440.0         5353            1845.0             56.00  \n",
       "1            7024.0        46638            3000.0            978.00  \n",
       "2             178.0        37593             708.0            115.00  \n",
       "3            2125.0        24722            1785.0            612.00  \n",
       "4             266.0        24447               2.0            296.00  \n",
       "..              ...          ...               ...               ...  \n",
       "186             NaN            1               NaN             23.00  \n",
       "187             NaN            1               NaN              0.06  \n",
       "188             NaN            1               NaN              0.80  \n",
       "189             NaN            1               NaN              0.02  \n",
       "190         96958.0       226690           10298.0             43.40  \n",
       "\n",
       "[191 rows x 9 columns]"
      ]
     },
     "execution_count": 61,
     "metadata": {},
     "output_type": "execute_result"
    }
   ],
   "source": [
    "df,d = pd.read_html(\"https://www.worldometers.info/coronavirus/\")\n",
    "df"
   ]
  },
  {
   "cell_type": "code",
   "execution_count": 62,
   "metadata": {},
   "outputs": [],
   "source": [
    "copy=df.copy()"
   ]
  },
  {
   "cell_type": "code",
   "execution_count": 63,
   "metadata": {},
   "outputs": [],
   "source": [
    "# df.fillna(value=0,inplace=True)"
   ]
  },
  {
   "cell_type": "code",
   "execution_count": 64,
   "metadata": {},
   "outputs": [
    {
     "data": {
      "text/plain": [
       "Country,Other         0\n",
       "TotalCases            0\n",
       "NewCases             82\n",
       "TotalDeaths          98\n",
       "NewDeaths           152\n",
       "TotalRecovered       84\n",
       "ActiveCases           0\n",
       "Serious,Critical    115\n",
       "Tot Cases/1M pop      1\n",
       "dtype: int64"
      ]
     },
     "execution_count": 64,
     "metadata": {},
     "output_type": "execute_result"
    }
   ],
   "source": [
    "df.isnull().sum()"
   ]
  },
  {
   "cell_type": "code",
   "execution_count": 65,
   "metadata": {},
   "outputs": [
    {
     "name": "stdout",
     "output_type": "stream",
     "text": [
      "<class 'pandas.core.frame.DataFrame'>\n",
      "RangeIndex: 191 entries, 0 to 190\n",
      "Data columns (total 9 columns):\n",
      "Country,Other       191 non-null object\n",
      "TotalCases          191 non-null int64\n",
      "NewCases            109 non-null object\n",
      "TotalDeaths         93 non-null float64\n",
      "NewDeaths           39 non-null float64\n",
      "TotalRecovered      107 non-null float64\n",
      "ActiveCases         191 non-null int64\n",
      "Serious,Critical    76 non-null float64\n",
      "Tot Cases/1M pop    190 non-null float64\n",
      "dtypes: float64(5), int64(2), object(2)\n",
      "memory usage: 13.6+ KB\n"
     ]
    }
   ],
   "source": [
    "df.info()"
   ]
  },
  {
   "cell_type": "code",
   "execution_count": 66,
   "metadata": {},
   "outputs": [
    {
     "data": {
      "text/plain": [
       "0        46\n",
       "1     5,560\n",
       "2    13,960\n",
       "3     3,107\n",
       "4     2,442\n",
       "Name: NewCases, dtype: object"
      ]
     },
     "execution_count": 66,
     "metadata": {},
     "output_type": "execute_result"
    }
   ],
   "source": [
    "df[\"NewCases\"]=df[\"NewCases\"].str[1:]\n",
    "df[\"NewCases\"].head()"
   ]
  },
  {
   "cell_type": "code",
   "execution_count": 67,
   "metadata": {},
   "outputs": [],
   "source": [
    "def remove(x):\n",
    "    a=\",\"\n",
    "    if (isinstance (x,str)==True):\n",
    "        if a in x:\n",
    "            x=x.split(a)\n",
    "            b=x[0]\n",
    "            c=x[1]\n",
    "            x=b+c\n",
    "            return int(x)\n",
    "        elif(x==\" \"):\n",
    "            return(0)\n",
    "        else:\n",
    "            return(int(x))\n",
    "    else:\n",
    "        return (x)\n",
    "#     x=str(x).split(\",\")\n",
    "#     a=str(x[0])\n",
    "#     b=str(x[1])\n",
    "#     x=a+b\n",
    "#     return int(x)"
   ]
  },
  {
   "cell_type": "code",
   "execution_count": 68,
   "metadata": {},
   "outputs": [
    {
     "data": {
      "text/plain": [
       "0       46.0\n",
       "1     5560.0\n",
       "2    13960.0\n",
       "3     3107.0\n",
       "4     2442.0\n",
       "Name: NewCases, dtype: float64"
      ]
     },
     "execution_count": 68,
     "metadata": {},
     "output_type": "execute_result"
    }
   ],
   "source": [
    "df['NewCases']=df['NewCases'].apply(remove)\n",
    "df['NewCases'].head()"
   ]
  },
  {
   "cell_type": "code",
   "execution_count": 69,
   "metadata": {},
   "outputs": [],
   "source": [
    "df.to_csv(\"corona.csv\")"
   ]
  },
  {
   "cell_type": "code",
   "execution_count": 70,
   "metadata": {},
   "outputs": [
    {
     "data": {
      "text/html": [
       "<div>\n",
       "<style scoped>\n",
       "    .dataframe tbody tr th:only-of-type {\n",
       "        vertical-align: middle;\n",
       "    }\n",
       "\n",
       "    .dataframe tbody tr th {\n",
       "        vertical-align: top;\n",
       "    }\n",
       "\n",
       "    .dataframe thead th {\n",
       "        text-align: right;\n",
       "    }\n",
       "</style>\n",
       "<table border=\"1\" class=\"dataframe\">\n",
       "  <thead>\n",
       "    <tr style=\"text-align: right;\">\n",
       "      <th></th>\n",
       "      <th>Unnamed: 0</th>\n",
       "      <th>Country,Other</th>\n",
       "      <th>TotalCases</th>\n",
       "      <th>NewCases</th>\n",
       "      <th>TotalDeaths</th>\n",
       "      <th>NewDeaths</th>\n",
       "      <th>TotalRecovered</th>\n",
       "      <th>ActiveCases</th>\n",
       "      <th>Serious,Critical</th>\n",
       "      <th>Tot Cases/1M pop</th>\n",
       "    </tr>\n",
       "  </thead>\n",
       "  <tbody>\n",
       "    <tr>\n",
       "      <td>0</td>\n",
       "      <td>0</td>\n",
       "      <td>China</td>\n",
       "      <td>81054</td>\n",
       "      <td>46.0</td>\n",
       "      <td>3261.0</td>\n",
       "      <td>6.0</td>\n",
       "      <td>72440.0</td>\n",
       "      <td>5353</td>\n",
       "      <td>1845.0</td>\n",
       "      <td>56.0</td>\n",
       "    </tr>\n",
       "    <tr>\n",
       "      <td>1</td>\n",
       "      <td>1</td>\n",
       "      <td>Italy</td>\n",
       "      <td>59138</td>\n",
       "      <td>5560.0</td>\n",
       "      <td>5476.0</td>\n",
       "      <td>651.0</td>\n",
       "      <td>7024.0</td>\n",
       "      <td>46638</td>\n",
       "      <td>3000.0</td>\n",
       "      <td>978.0</td>\n",
       "    </tr>\n",
       "    <tr>\n",
       "      <td>2</td>\n",
       "      <td>2</td>\n",
       "      <td>USA</td>\n",
       "      <td>38167</td>\n",
       "      <td>13960.0</td>\n",
       "      <td>396.0</td>\n",
       "      <td>94.0</td>\n",
       "      <td>178.0</td>\n",
       "      <td>37593</td>\n",
       "      <td>708.0</td>\n",
       "      <td>115.0</td>\n",
       "    </tr>\n",
       "    <tr>\n",
       "      <td>3</td>\n",
       "      <td>3</td>\n",
       "      <td>Spain</td>\n",
       "      <td>28603</td>\n",
       "      <td>3107.0</td>\n",
       "      <td>1756.0</td>\n",
       "      <td>375.0</td>\n",
       "      <td>2125.0</td>\n",
       "      <td>24722</td>\n",
       "      <td>1785.0</td>\n",
       "      <td>612.0</td>\n",
       "    </tr>\n",
       "    <tr>\n",
       "      <td>4</td>\n",
       "      <td>4</td>\n",
       "      <td>Germany</td>\n",
       "      <td>24806</td>\n",
       "      <td>2442.0</td>\n",
       "      <td>93.0</td>\n",
       "      <td>9.0</td>\n",
       "      <td>266.0</td>\n",
       "      <td>24447</td>\n",
       "      <td>2.0</td>\n",
       "      <td>296.0</td>\n",
       "    </tr>\n",
       "  </tbody>\n",
       "</table>\n",
       "</div>"
      ],
      "text/plain": [
       "   Unnamed: 0 Country,Other  TotalCases  NewCases  TotalDeaths  NewDeaths  \\\n",
       "0           0         China       81054      46.0       3261.0        6.0   \n",
       "1           1         Italy       59138    5560.0       5476.0      651.0   \n",
       "2           2           USA       38167   13960.0        396.0       94.0   \n",
       "3           3         Spain       28603    3107.0       1756.0      375.0   \n",
       "4           4       Germany       24806    2442.0         93.0        9.0   \n",
       "\n",
       "   TotalRecovered  ActiveCases  Serious,Critical  Tot Cases/1M pop  \n",
       "0         72440.0         5353            1845.0              56.0  \n",
       "1          7024.0        46638            3000.0             978.0  \n",
       "2           178.0        37593             708.0             115.0  \n",
       "3          2125.0        24722            1785.0             612.0  \n",
       "4           266.0        24447               2.0             296.0  "
      ]
     },
     "execution_count": 70,
     "metadata": {},
     "output_type": "execute_result"
    }
   ],
   "source": [
    "corona=pd.read_csv('corona.csv')\n",
    "corona.head()"
   ]
  },
  {
   "cell_type": "code",
   "execution_count": 71,
   "metadata": {},
   "outputs": [
    {
     "name": "stdout",
     "output_type": "stream",
     "text": [
      "Index(['Unnamed: 0', 'Country,Other', 'TotalCases', 'NewCases', 'TotalDeaths',\n",
      "       'NewDeaths', 'TotalRecovered', 'ActiveCases', 'Serious,Critical',\n",
      "       'Tot Cases/1M pop'],\n",
      "      dtype='object')\n"
     ]
    }
   ],
   "source": [
    "print(corona.columns)\n",
    "df=corona"
   ]
  },
  {
   "cell_type": "code",
   "execution_count": 72,
   "metadata": {},
   "outputs": [
    {
     "data": {
      "text/html": [
       "<div>\n",
       "<style scoped>\n",
       "    .dataframe tbody tr th:only-of-type {\n",
       "        vertical-align: middle;\n",
       "    }\n",
       "\n",
       "    .dataframe tbody tr th {\n",
       "        vertical-align: top;\n",
       "    }\n",
       "\n",
       "    .dataframe thead th {\n",
       "        text-align: right;\n",
       "    }\n",
       "</style>\n",
       "<table border=\"1\" class=\"dataframe\">\n",
       "  <thead>\n",
       "    <tr style=\"text-align: right;\">\n",
       "      <th></th>\n",
       "      <th>Country,Other</th>\n",
       "      <th>TotalCases</th>\n",
       "      <th>NewCases</th>\n",
       "      <th>TotalDeaths</th>\n",
       "      <th>NewDeaths</th>\n",
       "      <th>TotalRecovered</th>\n",
       "      <th>ActiveCases</th>\n",
       "      <th>Serious,Critical</th>\n",
       "      <th>Tot Cases/1M pop</th>\n",
       "    </tr>\n",
       "  </thead>\n",
       "  <tbody>\n",
       "    <tr>\n",
       "      <td>0</td>\n",
       "      <td>China</td>\n",
       "      <td>81054</td>\n",
       "      <td>46.0</td>\n",
       "      <td>3261.0</td>\n",
       "      <td>6.0</td>\n",
       "      <td>72440.0</td>\n",
       "      <td>5353</td>\n",
       "      <td>1845.0</td>\n",
       "      <td>56.00</td>\n",
       "    </tr>\n",
       "    <tr>\n",
       "      <td>1</td>\n",
       "      <td>Italy</td>\n",
       "      <td>59138</td>\n",
       "      <td>5560.0</td>\n",
       "      <td>5476.0</td>\n",
       "      <td>651.0</td>\n",
       "      <td>7024.0</td>\n",
       "      <td>46638</td>\n",
       "      <td>3000.0</td>\n",
       "      <td>978.00</td>\n",
       "    </tr>\n",
       "    <tr>\n",
       "      <td>2</td>\n",
       "      <td>USA</td>\n",
       "      <td>38167</td>\n",
       "      <td>13960.0</td>\n",
       "      <td>396.0</td>\n",
       "      <td>94.0</td>\n",
       "      <td>178.0</td>\n",
       "      <td>37593</td>\n",
       "      <td>708.0</td>\n",
       "      <td>115.00</td>\n",
       "    </tr>\n",
       "    <tr>\n",
       "      <td>3</td>\n",
       "      <td>Spain</td>\n",
       "      <td>28603</td>\n",
       "      <td>3107.0</td>\n",
       "      <td>1756.0</td>\n",
       "      <td>375.0</td>\n",
       "      <td>2125.0</td>\n",
       "      <td>24722</td>\n",
       "      <td>1785.0</td>\n",
       "      <td>612.00</td>\n",
       "    </tr>\n",
       "    <tr>\n",
       "      <td>4</td>\n",
       "      <td>Germany</td>\n",
       "      <td>24806</td>\n",
       "      <td>2442.0</td>\n",
       "      <td>93.0</td>\n",
       "      <td>9.0</td>\n",
       "      <td>266.0</td>\n",
       "      <td>24447</td>\n",
       "      <td>2.0</td>\n",
       "      <td>296.00</td>\n",
       "    </tr>\n",
       "    <tr>\n",
       "      <td>...</td>\n",
       "      <td>...</td>\n",
       "      <td>...</td>\n",
       "      <td>...</td>\n",
       "      <td>...</td>\n",
       "      <td>...</td>\n",
       "      <td>...</td>\n",
       "      <td>...</td>\n",
       "      <td>...</td>\n",
       "      <td>...</td>\n",
       "    </tr>\n",
       "    <tr>\n",
       "      <td>185</td>\n",
       "      <td>St. Vincent Grenadines</td>\n",
       "      <td>1</td>\n",
       "      <td>NaN</td>\n",
       "      <td>NaN</td>\n",
       "      <td>NaN</td>\n",
       "      <td>NaN</td>\n",
       "      <td>1</td>\n",
       "      <td>NaN</td>\n",
       "      <td>9.00</td>\n",
       "    </tr>\n",
       "    <tr>\n",
       "      <td>186</td>\n",
       "      <td>Sint Maarten</td>\n",
       "      <td>1</td>\n",
       "      <td>NaN</td>\n",
       "      <td>NaN</td>\n",
       "      <td>NaN</td>\n",
       "      <td>NaN</td>\n",
       "      <td>1</td>\n",
       "      <td>NaN</td>\n",
       "      <td>23.00</td>\n",
       "    </tr>\n",
       "    <tr>\n",
       "      <td>187</td>\n",
       "      <td>Somalia</td>\n",
       "      <td>1</td>\n",
       "      <td>NaN</td>\n",
       "      <td>NaN</td>\n",
       "      <td>NaN</td>\n",
       "      <td>NaN</td>\n",
       "      <td>1</td>\n",
       "      <td>NaN</td>\n",
       "      <td>0.06</td>\n",
       "    </tr>\n",
       "    <tr>\n",
       "      <td>188</td>\n",
       "      <td>Timor-Leste</td>\n",
       "      <td>1</td>\n",
       "      <td>NaN</td>\n",
       "      <td>NaN</td>\n",
       "      <td>NaN</td>\n",
       "      <td>NaN</td>\n",
       "      <td>1</td>\n",
       "      <td>NaN</td>\n",
       "      <td>0.80</td>\n",
       "    </tr>\n",
       "    <tr>\n",
       "      <td>189</td>\n",
       "      <td>Uganda</td>\n",
       "      <td>1</td>\n",
       "      <td>NaN</td>\n",
       "      <td>NaN</td>\n",
       "      <td>NaN</td>\n",
       "      <td>NaN</td>\n",
       "      <td>1</td>\n",
       "      <td>NaN</td>\n",
       "      <td>0.02</td>\n",
       "    </tr>\n",
       "  </tbody>\n",
       "</table>\n",
       "<p>190 rows × 9 columns</p>\n",
       "</div>"
      ],
      "text/plain": [
       "              Country,Other  TotalCases  NewCases  TotalDeaths  NewDeaths  \\\n",
       "0                     China       81054      46.0       3261.0        6.0   \n",
       "1                     Italy       59138    5560.0       5476.0      651.0   \n",
       "2                       USA       38167   13960.0        396.0       94.0   \n",
       "3                     Spain       28603    3107.0       1756.0      375.0   \n",
       "4                   Germany       24806    2442.0         93.0        9.0   \n",
       "..                      ...         ...       ...          ...        ...   \n",
       "185  St. Vincent Grenadines           1       NaN          NaN        NaN   \n",
       "186            Sint Maarten           1       NaN          NaN        NaN   \n",
       "187                 Somalia           1       NaN          NaN        NaN   \n",
       "188             Timor-Leste           1       NaN          NaN        NaN   \n",
       "189                  Uganda           1       NaN          NaN        NaN   \n",
       "\n",
       "     TotalRecovered  ActiveCases  Serious,Critical  Tot Cases/1M pop  \n",
       "0           72440.0         5353            1845.0             56.00  \n",
       "1            7024.0        46638            3000.0            978.00  \n",
       "2             178.0        37593             708.0            115.00  \n",
       "3            2125.0        24722            1785.0            612.00  \n",
       "4             266.0        24447               2.0            296.00  \n",
       "..              ...          ...               ...               ...  \n",
       "185             NaN            1               NaN              9.00  \n",
       "186             NaN            1               NaN             23.00  \n",
       "187             NaN            1               NaN              0.06  \n",
       "188             NaN            1               NaN              0.80  \n",
       "189             NaN            1               NaN              0.02  \n",
       "\n",
       "[190 rows x 9 columns]"
      ]
     },
     "execution_count": 72,
     "metadata": {},
     "output_type": "execute_result"
    }
   ],
   "source": [
    "dff=df.iloc[0:-1,1:]\n",
    "dff"
   ]
  },
  {
   "cell_type": "code",
   "execution_count": 73,
   "metadata": {},
   "outputs": [
    {
     "data": {
      "text/plain": [
       "Country,Other        0.0\n",
       "TotalCases           0.0\n",
       "NewCases            43.2\n",
       "TotalDeaths         51.6\n",
       "NewDeaths           80.0\n",
       "TotalRecovered      44.2\n",
       "ActiveCases          0.0\n",
       "Serious,Critical    60.5\n",
       "Tot Cases/1M pop     0.5\n",
       "dtype: float64"
      ]
     },
     "execution_count": 73,
     "metadata": {},
     "output_type": "execute_result"
    }
   ],
   "source": [
    "#Percentage of missing values\n",
    "round((dff.isnull().sum()/len(dff))*100,1)"
   ]
  },
  {
   "cell_type": "code",
   "execution_count": 74,
   "metadata": {},
   "outputs": [
    {
     "name": "stdout",
     "output_type": "stream",
     "text": [
      "Categorical columns:  ['Country,Other']\n"
     ]
    }
   ],
   "source": [
    "catcols=list(dff.select_dtypes(include=['object']).columns)\n",
    "print(\"Categorical columns: \",catcols)"
   ]
  },
  {
   "cell_type": "code",
   "execution_count": 75,
   "metadata": {},
   "outputs": [
    {
     "name": "stdout",
     "output_type": "stream",
     "text": [
      "Continuous columns: \n",
      " ['TotalCases', 'NewCases', 'TotalDeaths', 'NewDeaths', 'TotalRecovered', 'ActiveCases', 'Serious,Critical', 'Tot\\xa0Cases/1M pop']\n"
     ]
    }
   ],
   "source": [
    "numcols=list(dff.select_dtypes(exclude=['object']).columns)\n",
    "print(\"Continuous columns: \\n\",numcols)"
   ]
  },
  {
   "cell_type": "code",
   "execution_count": 76,
   "metadata": {},
   "outputs": [],
   "source": [
    "# Those are null values not missing values, lets impute with 0"
   ]
  },
  {
   "cell_type": "markdown",
   "metadata": {},
   "source": [
    "#### Data Imputation"
   ]
  },
  {
   "cell_type": "code",
   "execution_count": 77,
   "metadata": {},
   "outputs": [
    {
     "data": {
      "text/html": [
       "<div>\n",
       "<style scoped>\n",
       "    .dataframe tbody tr th:only-of-type {\n",
       "        vertical-align: middle;\n",
       "    }\n",
       "\n",
       "    .dataframe tbody tr th {\n",
       "        vertical-align: top;\n",
       "    }\n",
       "\n",
       "    .dataframe thead th {\n",
       "        text-align: right;\n",
       "    }\n",
       "</style>\n",
       "<table border=\"1\" class=\"dataframe\">\n",
       "  <thead>\n",
       "    <tr style=\"text-align: right;\">\n",
       "      <th></th>\n",
       "      <th>Country,Other</th>\n",
       "      <th>TotalCases</th>\n",
       "      <th>NewCases</th>\n",
       "      <th>TotalDeaths</th>\n",
       "      <th>NewDeaths</th>\n",
       "      <th>TotalRecovered</th>\n",
       "      <th>ActiveCases</th>\n",
       "      <th>Serious,Critical</th>\n",
       "      <th>Tot Cases/1M pop</th>\n",
       "    </tr>\n",
       "  </thead>\n",
       "  <tbody>\n",
       "    <tr>\n",
       "      <td>0</td>\n",
       "      <td>China</td>\n",
       "      <td>81054</td>\n",
       "      <td>46.0</td>\n",
       "      <td>3261.0</td>\n",
       "      <td>6.0</td>\n",
       "      <td>72440.0</td>\n",
       "      <td>5353</td>\n",
       "      <td>1845.0</td>\n",
       "      <td>56.0</td>\n",
       "    </tr>\n",
       "    <tr>\n",
       "      <td>1</td>\n",
       "      <td>Italy</td>\n",
       "      <td>59138</td>\n",
       "      <td>5560.0</td>\n",
       "      <td>5476.0</td>\n",
       "      <td>651.0</td>\n",
       "      <td>7024.0</td>\n",
       "      <td>46638</td>\n",
       "      <td>3000.0</td>\n",
       "      <td>978.0</td>\n",
       "    </tr>\n",
       "    <tr>\n",
       "      <td>2</td>\n",
       "      <td>USA</td>\n",
       "      <td>38167</td>\n",
       "      <td>13960.0</td>\n",
       "      <td>396.0</td>\n",
       "      <td>94.0</td>\n",
       "      <td>178.0</td>\n",
       "      <td>37593</td>\n",
       "      <td>708.0</td>\n",
       "      <td>115.0</td>\n",
       "    </tr>\n",
       "    <tr>\n",
       "      <td>3</td>\n",
       "      <td>Spain</td>\n",
       "      <td>28603</td>\n",
       "      <td>3107.0</td>\n",
       "      <td>1756.0</td>\n",
       "      <td>375.0</td>\n",
       "      <td>2125.0</td>\n",
       "      <td>24722</td>\n",
       "      <td>1785.0</td>\n",
       "      <td>612.0</td>\n",
       "    </tr>\n",
       "    <tr>\n",
       "      <td>4</td>\n",
       "      <td>Germany</td>\n",
       "      <td>24806</td>\n",
       "      <td>2442.0</td>\n",
       "      <td>93.0</td>\n",
       "      <td>9.0</td>\n",
       "      <td>266.0</td>\n",
       "      <td>24447</td>\n",
       "      <td>2.0</td>\n",
       "      <td>296.0</td>\n",
       "    </tr>\n",
       "  </tbody>\n",
       "</table>\n",
       "</div>"
      ],
      "text/plain": [
       "  Country,Other  TotalCases  NewCases  TotalDeaths  NewDeaths  TotalRecovered  \\\n",
       "0         China       81054      46.0       3261.0        6.0         72440.0   \n",
       "1         Italy       59138    5560.0       5476.0      651.0          7024.0   \n",
       "2           USA       38167   13960.0        396.0       94.0           178.0   \n",
       "3         Spain       28603    3107.0       1756.0      375.0          2125.0   \n",
       "4       Germany       24806    2442.0         93.0        9.0           266.0   \n",
       "\n",
       "   ActiveCases  Serious,Critical  Tot Cases/1M pop  \n",
       "0         5353            1845.0              56.0  \n",
       "1        46638            3000.0             978.0  \n",
       "2        37593             708.0             115.0  \n",
       "3        24722            1785.0             612.0  \n",
       "4        24447               2.0             296.0  "
      ]
     },
     "execution_count": 77,
     "metadata": {},
     "output_type": "execute_result"
    }
   ],
   "source": [
    "dff.fillna(0,inplace=True)\n",
    "dff.head()"
   ]
  },
  {
   "cell_type": "code",
   "execution_count": 78,
   "metadata": {},
   "outputs": [
    {
     "name": "stdout",
     "output_type": "stream",
     "text": [
      "<class 'pandas.core.frame.DataFrame'>\n",
      "RangeIndex: 190 entries, 0 to 189\n",
      "Data columns (total 9 columns):\n",
      "Country,Other       190 non-null object\n",
      "TotalCases          190 non-null int64\n",
      "NewCases            190 non-null float64\n",
      "TotalDeaths         190 non-null float64\n",
      "NewDeaths           190 non-null float64\n",
      "TotalRecovered      190 non-null float64\n",
      "ActiveCases         190 non-null int64\n",
      "Serious,Critical    190 non-null float64\n",
      "Tot Cases/1M pop    190 non-null float64\n",
      "dtypes: float64(6), int64(2), object(1)\n",
      "memory usage: 13.5+ KB\n"
     ]
    }
   ],
   "source": [
    "dff.info()"
   ]
  },
  {
   "cell_type": "code",
   "execution_count": 79,
   "metadata": {},
   "outputs": [
    {
     "name": "stdout",
     "output_type": "stream",
     "text": [
      "Percentage of missing values: \n"
     ]
    },
    {
     "data": {
      "text/plain": [
       "Country,Other       0.0\n",
       "TotalCases          0.0\n",
       "NewCases            0.0\n",
       "TotalDeaths         0.0\n",
       "NewDeaths           0.0\n",
       "TotalRecovered      0.0\n",
       "ActiveCases         0.0\n",
       "Serious,Critical    0.0\n",
       "Tot Cases/1M pop    0.0\n",
       "dtype: float64"
      ]
     },
     "execution_count": 79,
     "metadata": {},
     "output_type": "execute_result"
    }
   ],
   "source": [
    "print(\"Percentage of missing values: \")\n",
    "round((dff.isnull().sum()/len(dff))*100,1)"
   ]
  },
  {
   "cell_type": "code",
   "execution_count": 80,
   "metadata": {},
   "outputs": [
    {
     "data": {
      "text/html": [
       "<div>\n",
       "<style scoped>\n",
       "    .dataframe tbody tr th:only-of-type {\n",
       "        vertical-align: middle;\n",
       "    }\n",
       "\n",
       "    .dataframe tbody tr th {\n",
       "        vertical-align: top;\n",
       "    }\n",
       "\n",
       "    .dataframe thead th {\n",
       "        text-align: right;\n",
       "    }\n",
       "</style>\n",
       "<table border=\"1\" class=\"dataframe\">\n",
       "  <thead>\n",
       "    <tr style=\"text-align: right;\">\n",
       "      <th></th>\n",
       "      <th>Country</th>\n",
       "      <th>TotalCases</th>\n",
       "      <th>NewCases</th>\n",
       "      <th>TotalDeaths</th>\n",
       "      <th>NewDeaths</th>\n",
       "      <th>TotalRecovered</th>\n",
       "      <th>ActiveCases</th>\n",
       "      <th>Serious,Critical</th>\n",
       "      <th>Tot Cases/1M pop</th>\n",
       "    </tr>\n",
       "  </thead>\n",
       "  <tbody>\n",
       "    <tr>\n",
       "      <td>0</td>\n",
       "      <td>China</td>\n",
       "      <td>81054</td>\n",
       "      <td>46.0</td>\n",
       "      <td>3261.0</td>\n",
       "      <td>6.0</td>\n",
       "      <td>72440.0</td>\n",
       "      <td>5353</td>\n",
       "      <td>1845.0</td>\n",
       "      <td>56.0</td>\n",
       "    </tr>\n",
       "    <tr>\n",
       "      <td>1</td>\n",
       "      <td>Italy</td>\n",
       "      <td>59138</td>\n",
       "      <td>5560.0</td>\n",
       "      <td>5476.0</td>\n",
       "      <td>651.0</td>\n",
       "      <td>7024.0</td>\n",
       "      <td>46638</td>\n",
       "      <td>3000.0</td>\n",
       "      <td>978.0</td>\n",
       "    </tr>\n",
       "    <tr>\n",
       "      <td>2</td>\n",
       "      <td>USA</td>\n",
       "      <td>38167</td>\n",
       "      <td>13960.0</td>\n",
       "      <td>396.0</td>\n",
       "      <td>94.0</td>\n",
       "      <td>178.0</td>\n",
       "      <td>37593</td>\n",
       "      <td>708.0</td>\n",
       "      <td>115.0</td>\n",
       "    </tr>\n",
       "    <tr>\n",
       "      <td>3</td>\n",
       "      <td>Spain</td>\n",
       "      <td>28603</td>\n",
       "      <td>3107.0</td>\n",
       "      <td>1756.0</td>\n",
       "      <td>375.0</td>\n",
       "      <td>2125.0</td>\n",
       "      <td>24722</td>\n",
       "      <td>1785.0</td>\n",
       "      <td>612.0</td>\n",
       "    </tr>\n",
       "    <tr>\n",
       "      <td>4</td>\n",
       "      <td>Germany</td>\n",
       "      <td>24806</td>\n",
       "      <td>2442.0</td>\n",
       "      <td>93.0</td>\n",
       "      <td>9.0</td>\n",
       "      <td>266.0</td>\n",
       "      <td>24447</td>\n",
       "      <td>2.0</td>\n",
       "      <td>296.0</td>\n",
       "    </tr>\n",
       "  </tbody>\n",
       "</table>\n",
       "</div>"
      ],
      "text/plain": [
       "   Country  TotalCases  NewCases  TotalDeaths  NewDeaths  TotalRecovered  \\\n",
       "0    China       81054      46.0       3261.0        6.0         72440.0   \n",
       "1    Italy       59138    5560.0       5476.0      651.0          7024.0   \n",
       "2      USA       38167   13960.0        396.0       94.0           178.0   \n",
       "3    Spain       28603    3107.0       1756.0      375.0          2125.0   \n",
       "4  Germany       24806    2442.0         93.0        9.0           266.0   \n",
       "\n",
       "   ActiveCases  Serious,Critical  Tot Cases/1M pop  \n",
       "0         5353            1845.0              56.0  \n",
       "1        46638            3000.0             978.0  \n",
       "2        37593             708.0             115.0  \n",
       "3        24722            1785.0             612.0  \n",
       "4        24447               2.0             296.0  "
      ]
     },
     "execution_count": 80,
     "metadata": {},
     "output_type": "execute_result"
    }
   ],
   "source": [
    "dff.rename(columns={\"Country,Other\":\"Country\"},inplace=True)\n",
    "dff.head()"
   ]
  },
  {
   "cell_type": "code",
   "execution_count": 81,
   "metadata": {},
   "outputs": [
    {
     "data": {
      "text/html": [
       "<div>\n",
       "<style scoped>\n",
       "    .dataframe tbody tr th:only-of-type {\n",
       "        vertical-align: middle;\n",
       "    }\n",
       "\n",
       "    .dataframe tbody tr th {\n",
       "        vertical-align: top;\n",
       "    }\n",
       "\n",
       "    .dataframe thead th {\n",
       "        text-align: right;\n",
       "    }\n",
       "</style>\n",
       "<table border=\"1\" class=\"dataframe\">\n",
       "  <thead>\n",
       "    <tr style=\"text-align: right;\">\n",
       "      <th></th>\n",
       "      <th>count</th>\n",
       "      <th>mean</th>\n",
       "      <th>std</th>\n",
       "      <th>min</th>\n",
       "      <th>25%</th>\n",
       "      <th>50%</th>\n",
       "      <th>75%</th>\n",
       "      <th>max</th>\n",
       "    </tr>\n",
       "  </thead>\n",
       "  <tbody>\n",
       "    <tr>\n",
       "      <td>TotalCases</td>\n",
       "      <td>190.0</td>\n",
       "      <td>1779.494737</td>\n",
       "      <td>8380.310393</td>\n",
       "      <td>1.0</td>\n",
       "      <td>6.0</td>\n",
       "      <td>57.5</td>\n",
       "      <td>323.75</td>\n",
       "      <td>81054.0</td>\n",
       "    </tr>\n",
       "    <tr>\n",
       "      <td>NewCases</td>\n",
       "      <td>190.0</td>\n",
       "      <td>174.284211</td>\n",
       "      <td>1124.058211</td>\n",
       "      <td>0.0</td>\n",
       "      <td>0.0</td>\n",
       "      <td>3.0</td>\n",
       "      <td>31.00</td>\n",
       "      <td>13960.0</td>\n",
       "    </tr>\n",
       "    <tr>\n",
       "      <td>TotalDeaths</td>\n",
       "      <td>190.0</td>\n",
       "      <td>76.084211</td>\n",
       "      <td>493.720958</td>\n",
       "      <td>0.0</td>\n",
       "      <td>0.0</td>\n",
       "      <td>0.0</td>\n",
       "      <td>3.00</td>\n",
       "      <td>5476.0</td>\n",
       "    </tr>\n",
       "    <tr>\n",
       "      <td>NewDeaths</td>\n",
       "      <td>190.0</td>\n",
       "      <td>7.626316</td>\n",
       "      <td>55.578938</td>\n",
       "      <td>0.0</td>\n",
       "      <td>0.0</td>\n",
       "      <td>0.0</td>\n",
       "      <td>0.00</td>\n",
       "      <td>651.0</td>\n",
       "    </tr>\n",
       "    <tr>\n",
       "      <td>TotalRecovered</td>\n",
       "      <td>190.0</td>\n",
       "      <td>510.305263</td>\n",
       "      <td>5306.418802</td>\n",
       "      <td>0.0</td>\n",
       "      <td>0.0</td>\n",
       "      <td>1.0</td>\n",
       "      <td>9.75</td>\n",
       "      <td>72440.0</td>\n",
       "    </tr>\n",
       "    <tr>\n",
       "      <td>ActiveCases</td>\n",
       "      <td>190.0</td>\n",
       "      <td>1193.105263</td>\n",
       "      <td>5164.145628</td>\n",
       "      <td>0.0</td>\n",
       "      <td>6.0</td>\n",
       "      <td>53.0</td>\n",
       "      <td>244.25</td>\n",
       "      <td>46638.0</td>\n",
       "    </tr>\n",
       "    <tr>\n",
       "      <td>Serious,Critical</td>\n",
       "      <td>190.0</td>\n",
       "      <td>54.200000</td>\n",
       "      <td>309.516438</td>\n",
       "      <td>0.0</td>\n",
       "      <td>0.0</td>\n",
       "      <td>0.0</td>\n",
       "      <td>3.00</td>\n",
       "      <td>3000.0</td>\n",
       "    </tr>\n",
       "    <tr>\n",
       "      <td>Tot Cases/1M pop</td>\n",
       "      <td>190.0</td>\n",
       "      <td>136.449947</td>\n",
       "      <td>469.210124</td>\n",
       "      <td>0.0</td>\n",
       "      <td>2.0</td>\n",
       "      <td>14.0</td>\n",
       "      <td>64.25</td>\n",
       "      <td>5158.0</td>\n",
       "    </tr>\n",
       "  </tbody>\n",
       "</table>\n",
       "</div>"
      ],
      "text/plain": [
       "                  count         mean          std  min  25%   50%     75%  \\\n",
       "TotalCases        190.0  1779.494737  8380.310393  1.0  6.0  57.5  323.75   \n",
       "NewCases          190.0   174.284211  1124.058211  0.0  0.0   3.0   31.00   \n",
       "TotalDeaths       190.0    76.084211   493.720958  0.0  0.0   0.0    3.00   \n",
       "NewDeaths         190.0     7.626316    55.578938  0.0  0.0   0.0    0.00   \n",
       "TotalRecovered    190.0   510.305263  5306.418802  0.0  0.0   1.0    9.75   \n",
       "ActiveCases       190.0  1193.105263  5164.145628  0.0  6.0  53.0  244.25   \n",
       "Serious,Critical  190.0    54.200000   309.516438  0.0  0.0   0.0    3.00   \n",
       "Tot Cases/1M pop  190.0   136.449947   469.210124  0.0  2.0  14.0   64.25   \n",
       "\n",
       "                      max  \n",
       "TotalCases        81054.0  \n",
       "NewCases          13960.0  \n",
       "TotalDeaths        5476.0  \n",
       "NewDeaths           651.0  \n",
       "TotalRecovered    72440.0  \n",
       "ActiveCases       46638.0  \n",
       "Serious,Critical   3000.0  \n",
       "Tot Cases/1M pop   5158.0  "
      ]
     },
     "execution_count": 81,
     "metadata": {},
     "output_type": "execute_result"
    }
   ],
   "source": [
    "dff.describe().T"
   ]
  },
  {
   "cell_type": "code",
   "execution_count": 82,
   "metadata": {},
   "outputs": [],
   "source": [
    "import chart_studio.plotly as py\n",
    "import plotly.graph_objs as go\n",
    "from plotly.offline import iplot, init_notebook_mode\n",
    "import cufflinks\n",
    "from plotly.offline import iplot\n",
    "# cufflinks.go_offline(connected=True)\n",
    "# init_notebook_mode(connected=True)"
   ]
  },
  {
   "cell_type": "code",
   "execution_count": 83,
   "metadata": {},
   "outputs": [],
   "source": [
    "### Top 5 cities with total no. of cases"
   ]
  },
  {
   "cell_type": "code",
   "execution_count": 84,
   "metadata": {},
   "outputs": [
    {
     "data": {
      "text/html": [
       "<div>\n",
       "<style scoped>\n",
       "    .dataframe tbody tr th:only-of-type {\n",
       "        vertical-align: middle;\n",
       "    }\n",
       "\n",
       "    .dataframe tbody tr th {\n",
       "        vertical-align: top;\n",
       "    }\n",
       "\n",
       "    .dataframe thead th {\n",
       "        text-align: right;\n",
       "    }\n",
       "</style>\n",
       "<table border=\"1\" class=\"dataframe\">\n",
       "  <thead>\n",
       "    <tr style=\"text-align: right;\">\n",
       "      <th></th>\n",
       "      <th>Country</th>\n",
       "      <th>TotalCases</th>\n",
       "      <th>NewCases</th>\n",
       "      <th>TotalDeaths</th>\n",
       "      <th>NewDeaths</th>\n",
       "      <th>TotalRecovered</th>\n",
       "      <th>ActiveCases</th>\n",
       "      <th>Serious,Critical</th>\n",
       "      <th>Tot Cases/1M pop</th>\n",
       "    </tr>\n",
       "  </thead>\n",
       "  <tbody>\n",
       "    <tr>\n",
       "      <td>0</td>\n",
       "      <td>China</td>\n",
       "      <td>81054</td>\n",
       "      <td>46.0</td>\n",
       "      <td>3261.0</td>\n",
       "      <td>6.0</td>\n",
       "      <td>72440.0</td>\n",
       "      <td>5353</td>\n",
       "      <td>1845.0</td>\n",
       "      <td>56.0</td>\n",
       "    </tr>\n",
       "    <tr>\n",
       "      <td>1</td>\n",
       "      <td>Italy</td>\n",
       "      <td>59138</td>\n",
       "      <td>5560.0</td>\n",
       "      <td>5476.0</td>\n",
       "      <td>651.0</td>\n",
       "      <td>7024.0</td>\n",
       "      <td>46638</td>\n",
       "      <td>3000.0</td>\n",
       "      <td>978.0</td>\n",
       "    </tr>\n",
       "    <tr>\n",
       "      <td>2</td>\n",
       "      <td>USA</td>\n",
       "      <td>38167</td>\n",
       "      <td>13960.0</td>\n",
       "      <td>396.0</td>\n",
       "      <td>94.0</td>\n",
       "      <td>178.0</td>\n",
       "      <td>37593</td>\n",
       "      <td>708.0</td>\n",
       "      <td>115.0</td>\n",
       "    </tr>\n",
       "    <tr>\n",
       "      <td>3</td>\n",
       "      <td>Spain</td>\n",
       "      <td>28603</td>\n",
       "      <td>3107.0</td>\n",
       "      <td>1756.0</td>\n",
       "      <td>375.0</td>\n",
       "      <td>2125.0</td>\n",
       "      <td>24722</td>\n",
       "      <td>1785.0</td>\n",
       "      <td>612.0</td>\n",
       "    </tr>\n",
       "    <tr>\n",
       "      <td>4</td>\n",
       "      <td>Germany</td>\n",
       "      <td>24806</td>\n",
       "      <td>2442.0</td>\n",
       "      <td>93.0</td>\n",
       "      <td>9.0</td>\n",
       "      <td>266.0</td>\n",
       "      <td>24447</td>\n",
       "      <td>2.0</td>\n",
       "      <td>296.0</td>\n",
       "    </tr>\n",
       "  </tbody>\n",
       "</table>\n",
       "</div>"
      ],
      "text/plain": [
       "   Country  TotalCases  NewCases  TotalDeaths  NewDeaths  TotalRecovered  \\\n",
       "0    China       81054      46.0       3261.0        6.0         72440.0   \n",
       "1    Italy       59138    5560.0       5476.0      651.0          7024.0   \n",
       "2      USA       38167   13960.0        396.0       94.0           178.0   \n",
       "3    Spain       28603    3107.0       1756.0      375.0          2125.0   \n",
       "4  Germany       24806    2442.0         93.0        9.0           266.0   \n",
       "\n",
       "   ActiveCases  Serious,Critical  Tot Cases/1M pop  \n",
       "0         5353            1845.0              56.0  \n",
       "1        46638            3000.0             978.0  \n",
       "2        37593             708.0             115.0  \n",
       "3        24722            1785.0             612.0  \n",
       "4        24447               2.0             296.0  "
      ]
     },
     "execution_count": 84,
     "metadata": {},
     "output_type": "execute_result"
    }
   ],
   "source": [
    "dff.sort_values(by=['TotalCases'],ascending=False,axis=0,inplace=True)\n",
    "d=dff.head()\n",
    "d"
   ]
  },
  {
   "cell_type": "code",
   "execution_count": 85,
   "metadata": {},
   "outputs": [
    {
     "data": {
      "application/vnd.plotly.v1+json": {
       "config": {
        "plotlyServerURL": "https://plot.ly"
       },
       "data": [
        {
         "marker": {
          "color": [
           "lightslategray",
           "crimson",
           "lightslategray",
           "lightslategray",
           "lightslategray"
          ]
         },
         "text": [
          3261,
          5476,
          396,
          1756,
          93,
          1685,
          562,
          104,
          98,
          281,
          179,
          75,
          16,
          7,
          21,
          14,
          20,
          13,
          7,
          10,
          18,
          null,
          36,
          21,
          1,
          8,
          14,
          3,
          8,
          4,
          1,
          7,
          1,
          15,
          1,
          1,
          48,
          null,
          null,
          2,
          2,
          2,
          7,
          25,
          1,
          5,
          2,
          null,
          4,
          10,
          1,
          2,
          4,
          3,
          null,
          20,
          2,
          4,
          2,
          3,
          17,
          null,
          null,
          3,
          null,
          20,
          2,
          2,
          null,
          null,
          6,
          1,
          2,
          1,
          null,
          1,
          null,
          null,
          3,
          1,
          1,
          1,
          null,
          2,
          null,
          null,
          null,
          null,
          4,
          3,
          null,
          null,
          1,
          null,
          null,
          1,
          null,
          null,
          null,
          null,
          3,
          null,
          null,
          null,
          1,
          null,
          1,
          1,
          null,
          1,
          null,
          2,
          1,
          null,
          2,
          null,
          1,
          1,
          null,
          1,
          1,
          1,
          null,
          null,
          1,
          null,
          null,
          null,
          null,
          null,
          null,
          null,
          null,
          null,
          null,
          null,
          null,
          null,
          null,
          null,
          null,
          null,
          null,
          1,
          null,
          null,
          null,
          null,
          null,
          null,
          1,
          1,
          null,
          null,
          null,
          null,
          null,
          null,
          null,
          null,
          null,
          null,
          1,
          null,
          null,
          null,
          null,
          null,
          null,
          null,
          null,
          null,
          null,
          null,
          null,
          null,
          null,
          null,
          null,
          null,
          null,
          null,
          null,
          null,
          null,
          null,
          null,
          null,
          null,
          null,
          14456
         ],
         "textposition": "auto",
         "type": "bar",
         "x": [
          "China",
          "Italy",
          "USA",
          "Spain",
          "Germany"
         ],
         "y": [
          3261,
          5476,
          396,
          1756,
          93
         ]
        }
       ],
       "layout": {
        "template": {
         "data": {
          "bar": [
           {
            "error_x": {
             "color": "#2a3f5f"
            },
            "error_y": {
             "color": "#2a3f5f"
            },
            "marker": {
             "line": {
              "color": "#E5ECF6",
              "width": 0.5
             }
            },
            "type": "bar"
           }
          ],
          "barpolar": [
           {
            "marker": {
             "line": {
              "color": "#E5ECF6",
              "width": 0.5
             }
            },
            "type": "barpolar"
           }
          ],
          "carpet": [
           {
            "aaxis": {
             "endlinecolor": "#2a3f5f",
             "gridcolor": "white",
             "linecolor": "white",
             "minorgridcolor": "white",
             "startlinecolor": "#2a3f5f"
            },
            "baxis": {
             "endlinecolor": "#2a3f5f",
             "gridcolor": "white",
             "linecolor": "white",
             "minorgridcolor": "white",
             "startlinecolor": "#2a3f5f"
            },
            "type": "carpet"
           }
          ],
          "choropleth": [
           {
            "colorbar": {
             "outlinewidth": 0,
             "ticks": ""
            },
            "type": "choropleth"
           }
          ],
          "contour": [
           {
            "colorbar": {
             "outlinewidth": 0,
             "ticks": ""
            },
            "colorscale": [
             [
              0,
              "#0d0887"
             ],
             [
              0.1111111111111111,
              "#46039f"
             ],
             [
              0.2222222222222222,
              "#7201a8"
             ],
             [
              0.3333333333333333,
              "#9c179e"
             ],
             [
              0.4444444444444444,
              "#bd3786"
             ],
             [
              0.5555555555555556,
              "#d8576b"
             ],
             [
              0.6666666666666666,
              "#ed7953"
             ],
             [
              0.7777777777777778,
              "#fb9f3a"
             ],
             [
              0.8888888888888888,
              "#fdca26"
             ],
             [
              1,
              "#f0f921"
             ]
            ],
            "type": "contour"
           }
          ],
          "contourcarpet": [
           {
            "colorbar": {
             "outlinewidth": 0,
             "ticks": ""
            },
            "type": "contourcarpet"
           }
          ],
          "heatmap": [
           {
            "colorbar": {
             "outlinewidth": 0,
             "ticks": ""
            },
            "colorscale": [
             [
              0,
              "#0d0887"
             ],
             [
              0.1111111111111111,
              "#46039f"
             ],
             [
              0.2222222222222222,
              "#7201a8"
             ],
             [
              0.3333333333333333,
              "#9c179e"
             ],
             [
              0.4444444444444444,
              "#bd3786"
             ],
             [
              0.5555555555555556,
              "#d8576b"
             ],
             [
              0.6666666666666666,
              "#ed7953"
             ],
             [
              0.7777777777777778,
              "#fb9f3a"
             ],
             [
              0.8888888888888888,
              "#fdca26"
             ],
             [
              1,
              "#f0f921"
             ]
            ],
            "type": "heatmap"
           }
          ],
          "heatmapgl": [
           {
            "colorbar": {
             "outlinewidth": 0,
             "ticks": ""
            },
            "colorscale": [
             [
              0,
              "#0d0887"
             ],
             [
              0.1111111111111111,
              "#46039f"
             ],
             [
              0.2222222222222222,
              "#7201a8"
             ],
             [
              0.3333333333333333,
              "#9c179e"
             ],
             [
              0.4444444444444444,
              "#bd3786"
             ],
             [
              0.5555555555555556,
              "#d8576b"
             ],
             [
              0.6666666666666666,
              "#ed7953"
             ],
             [
              0.7777777777777778,
              "#fb9f3a"
             ],
             [
              0.8888888888888888,
              "#fdca26"
             ],
             [
              1,
              "#f0f921"
             ]
            ],
            "type": "heatmapgl"
           }
          ],
          "histogram": [
           {
            "marker": {
             "colorbar": {
              "outlinewidth": 0,
              "ticks": ""
             }
            },
            "type": "histogram"
           }
          ],
          "histogram2d": [
           {
            "colorbar": {
             "outlinewidth": 0,
             "ticks": ""
            },
            "colorscale": [
             [
              0,
              "#0d0887"
             ],
             [
              0.1111111111111111,
              "#46039f"
             ],
             [
              0.2222222222222222,
              "#7201a8"
             ],
             [
              0.3333333333333333,
              "#9c179e"
             ],
             [
              0.4444444444444444,
              "#bd3786"
             ],
             [
              0.5555555555555556,
              "#d8576b"
             ],
             [
              0.6666666666666666,
              "#ed7953"
             ],
             [
              0.7777777777777778,
              "#fb9f3a"
             ],
             [
              0.8888888888888888,
              "#fdca26"
             ],
             [
              1,
              "#f0f921"
             ]
            ],
            "type": "histogram2d"
           }
          ],
          "histogram2dcontour": [
           {
            "colorbar": {
             "outlinewidth": 0,
             "ticks": ""
            },
            "colorscale": [
             [
              0,
              "#0d0887"
             ],
             [
              0.1111111111111111,
              "#46039f"
             ],
             [
              0.2222222222222222,
              "#7201a8"
             ],
             [
              0.3333333333333333,
              "#9c179e"
             ],
             [
              0.4444444444444444,
              "#bd3786"
             ],
             [
              0.5555555555555556,
              "#d8576b"
             ],
             [
              0.6666666666666666,
              "#ed7953"
             ],
             [
              0.7777777777777778,
              "#fb9f3a"
             ],
             [
              0.8888888888888888,
              "#fdca26"
             ],
             [
              1,
              "#f0f921"
             ]
            ],
            "type": "histogram2dcontour"
           }
          ],
          "mesh3d": [
           {
            "colorbar": {
             "outlinewidth": 0,
             "ticks": ""
            },
            "type": "mesh3d"
           }
          ],
          "parcoords": [
           {
            "line": {
             "colorbar": {
              "outlinewidth": 0,
              "ticks": ""
             }
            },
            "type": "parcoords"
           }
          ],
          "pie": [
           {
            "automargin": true,
            "type": "pie"
           }
          ],
          "scatter": [
           {
            "marker": {
             "colorbar": {
              "outlinewidth": 0,
              "ticks": ""
             }
            },
            "type": "scatter"
           }
          ],
          "scatter3d": [
           {
            "line": {
             "colorbar": {
              "outlinewidth": 0,
              "ticks": ""
             }
            },
            "marker": {
             "colorbar": {
              "outlinewidth": 0,
              "ticks": ""
             }
            },
            "type": "scatter3d"
           }
          ],
          "scattercarpet": [
           {
            "marker": {
             "colorbar": {
              "outlinewidth": 0,
              "ticks": ""
             }
            },
            "type": "scattercarpet"
           }
          ],
          "scattergeo": [
           {
            "marker": {
             "colorbar": {
              "outlinewidth": 0,
              "ticks": ""
             }
            },
            "type": "scattergeo"
           }
          ],
          "scattergl": [
           {
            "marker": {
             "colorbar": {
              "outlinewidth": 0,
              "ticks": ""
             }
            },
            "type": "scattergl"
           }
          ],
          "scattermapbox": [
           {
            "marker": {
             "colorbar": {
              "outlinewidth": 0,
              "ticks": ""
             }
            },
            "type": "scattermapbox"
           }
          ],
          "scatterpolar": [
           {
            "marker": {
             "colorbar": {
              "outlinewidth": 0,
              "ticks": ""
             }
            },
            "type": "scatterpolar"
           }
          ],
          "scatterpolargl": [
           {
            "marker": {
             "colorbar": {
              "outlinewidth": 0,
              "ticks": ""
             }
            },
            "type": "scatterpolargl"
           }
          ],
          "scatterternary": [
           {
            "marker": {
             "colorbar": {
              "outlinewidth": 0,
              "ticks": ""
             }
            },
            "type": "scatterternary"
           }
          ],
          "surface": [
           {
            "colorbar": {
             "outlinewidth": 0,
             "ticks": ""
            },
            "colorscale": [
             [
              0,
              "#0d0887"
             ],
             [
              0.1111111111111111,
              "#46039f"
             ],
             [
              0.2222222222222222,
              "#7201a8"
             ],
             [
              0.3333333333333333,
              "#9c179e"
             ],
             [
              0.4444444444444444,
              "#bd3786"
             ],
             [
              0.5555555555555556,
              "#d8576b"
             ],
             [
              0.6666666666666666,
              "#ed7953"
             ],
             [
              0.7777777777777778,
              "#fb9f3a"
             ],
             [
              0.8888888888888888,
              "#fdca26"
             ],
             [
              1,
              "#f0f921"
             ]
            ],
            "type": "surface"
           }
          ],
          "table": [
           {
            "cells": {
             "fill": {
              "color": "#EBF0F8"
             },
             "line": {
              "color": "white"
             }
            },
            "header": {
             "fill": {
              "color": "#C8D4E3"
             },
             "line": {
              "color": "white"
             }
            },
            "type": "table"
           }
          ]
         },
         "layout": {
          "annotationdefaults": {
           "arrowcolor": "#2a3f5f",
           "arrowhead": 0,
           "arrowwidth": 1
          },
          "coloraxis": {
           "colorbar": {
            "outlinewidth": 0,
            "ticks": ""
           }
          },
          "colorscale": {
           "diverging": [
            [
             0,
             "#8e0152"
            ],
            [
             0.1,
             "#c51b7d"
            ],
            [
             0.2,
             "#de77ae"
            ],
            [
             0.3,
             "#f1b6da"
            ],
            [
             0.4,
             "#fde0ef"
            ],
            [
             0.5,
             "#f7f7f7"
            ],
            [
             0.6,
             "#e6f5d0"
            ],
            [
             0.7,
             "#b8e186"
            ],
            [
             0.8,
             "#7fbc41"
            ],
            [
             0.9,
             "#4d9221"
            ],
            [
             1,
             "#276419"
            ]
           ],
           "sequential": [
            [
             0,
             "#0d0887"
            ],
            [
             0.1111111111111111,
             "#46039f"
            ],
            [
             0.2222222222222222,
             "#7201a8"
            ],
            [
             0.3333333333333333,
             "#9c179e"
            ],
            [
             0.4444444444444444,
             "#bd3786"
            ],
            [
             0.5555555555555556,
             "#d8576b"
            ],
            [
             0.6666666666666666,
             "#ed7953"
            ],
            [
             0.7777777777777778,
             "#fb9f3a"
            ],
            [
             0.8888888888888888,
             "#fdca26"
            ],
            [
             1,
             "#f0f921"
            ]
           ],
           "sequentialminus": [
            [
             0,
             "#0d0887"
            ],
            [
             0.1111111111111111,
             "#46039f"
            ],
            [
             0.2222222222222222,
             "#7201a8"
            ],
            [
             0.3333333333333333,
             "#9c179e"
            ],
            [
             0.4444444444444444,
             "#bd3786"
            ],
            [
             0.5555555555555556,
             "#d8576b"
            ],
            [
             0.6666666666666666,
             "#ed7953"
            ],
            [
             0.7777777777777778,
             "#fb9f3a"
            ],
            [
             0.8888888888888888,
             "#fdca26"
            ],
            [
             1,
             "#f0f921"
            ]
           ]
          },
          "colorway": [
           "#636efa",
           "#EF553B",
           "#00cc96",
           "#ab63fa",
           "#FFA15A",
           "#19d3f3",
           "#FF6692",
           "#B6E880",
           "#FF97FF",
           "#FECB52"
          ],
          "font": {
           "color": "#2a3f5f"
          },
          "geo": {
           "bgcolor": "white",
           "lakecolor": "white",
           "landcolor": "#E5ECF6",
           "showlakes": true,
           "showland": true,
           "subunitcolor": "white"
          },
          "hoverlabel": {
           "align": "left"
          },
          "hovermode": "closest",
          "mapbox": {
           "style": "light"
          },
          "paper_bgcolor": "white",
          "plot_bgcolor": "#E5ECF6",
          "polar": {
           "angularaxis": {
            "gridcolor": "white",
            "linecolor": "white",
            "ticks": ""
           },
           "bgcolor": "#E5ECF6",
           "radialaxis": {
            "gridcolor": "white",
            "linecolor": "white",
            "ticks": ""
           }
          },
          "scene": {
           "xaxis": {
            "backgroundcolor": "#E5ECF6",
            "gridcolor": "white",
            "gridwidth": 2,
            "linecolor": "white",
            "showbackground": true,
            "ticks": "",
            "zerolinecolor": "white"
           },
           "yaxis": {
            "backgroundcolor": "#E5ECF6",
            "gridcolor": "white",
            "gridwidth": 2,
            "linecolor": "white",
            "showbackground": true,
            "ticks": "",
            "zerolinecolor": "white"
           },
           "zaxis": {
            "backgroundcolor": "#E5ECF6",
            "gridcolor": "white",
            "gridwidth": 2,
            "linecolor": "white",
            "showbackground": true,
            "ticks": "",
            "zerolinecolor": "white"
           }
          },
          "shapedefaults": {
           "line": {
            "color": "#2a3f5f"
           }
          },
          "ternary": {
           "aaxis": {
            "gridcolor": "white",
            "linecolor": "white",
            "ticks": ""
           },
           "baxis": {
            "gridcolor": "white",
            "linecolor": "white",
            "ticks": ""
           },
           "bgcolor": "#E5ECF6",
           "caxis": {
            "gridcolor": "white",
            "linecolor": "white",
            "ticks": ""
           }
          },
          "title": {
           "x": 0.05
          },
          "xaxis": {
           "automargin": true,
           "gridcolor": "white",
           "linecolor": "white",
           "ticks": "",
           "title": {
            "standoff": 15
           },
           "zerolinecolor": "white",
           "zerolinewidth": 2
          },
          "yaxis": {
           "automargin": true,
           "gridcolor": "white",
           "linecolor": "white",
           "ticks": "",
           "title": {
            "standoff": 15
           },
           "zerolinecolor": "white",
           "zerolinewidth": 2
          }
         }
        },
        "title": {
         "text": "Top 5 Countries having Total no. of Deaths"
        }
       }
      },
      "text/html": [
       "<div>\n",
       "        \n",
       "        \n",
       "            <div id=\"ea311c31-69d0-42e3-9cc3-1e3fe18e6c40\" class=\"plotly-graph-div\" style=\"height:525px; width:100%;\"></div>\n",
       "            <script type=\"text/javascript\">\n",
       "                require([\"plotly\"], function(Plotly) {\n",
       "                    window.PLOTLYENV=window.PLOTLYENV || {};\n",
       "                    \n",
       "                if (document.getElementById(\"ea311c31-69d0-42e3-9cc3-1e3fe18e6c40\")) {\n",
       "                    Plotly.newPlot(\n",
       "                        'ea311c31-69d0-42e3-9cc3-1e3fe18e6c40',\n",
       "                        [{\"marker\": {\"color\": [\"lightslategray\", \"crimson\", \"lightslategray\", \"lightslategray\", \"lightslategray\"]}, \"text\": [3261.0, 5476.0, 396.0, 1756.0, 93.0, 1685.0, 562.0, 104.0, 98.0, 281.0, 179.0, 75.0, 16.0, 7.0, 21.0, 14.0, 20.0, 13.0, 7.0, 10.0, 18.0, null, 36.0, 21.0, 1.0, 8.0, 14.0, 3.0, 8.0, 4.0, 1.0, 7.0, 1.0, 15.0, 1.0, 1.0, 48.0, null, null, 2.0, 2.0, 2.0, 7.0, 25.0, 1.0, 5.0, 2.0, null, 4.0, 10.0, 1.0, 2.0, 4.0, 3.0, null, 20.0, 2.0, 4.0, 2.0, 3.0, 17.0, null, null, 3.0, null, 20.0, 2.0, 2.0, null, null, 6.0, 1.0, 2.0, 1.0, null, 1.0, null, null, 3.0, 1.0, 1.0, 1.0, null, 2.0, null, null, null, null, 4.0, 3.0, null, null, 1.0, null, null, 1.0, null, null, null, null, 3.0, null, null, null, 1.0, null, 1.0, 1.0, null, 1.0, null, 2.0, 1.0, null, 2.0, null, 1.0, 1.0, null, 1.0, 1.0, 1.0, null, null, 1.0, null, null, null, null, null, null, null, null, null, null, null, null, null, null, null, null, null, null, 1.0, null, null, null, null, null, null, 1.0, 1.0, null, null, null, null, null, null, null, null, null, null, 1.0, null, null, null, null, null, null, null, null, null, null, null, null, null, null, null, null, null, null, null, null, null, null, null, null, null, null, null, 14456.0], \"textposition\": \"auto\", \"type\": \"bar\", \"x\": [\"China\", \"Italy\", \"USA\", \"Spain\", \"Germany\"], \"y\": [3261.0, 5476.0, 396.0, 1756.0, 93.0]}],\n",
       "                        {\"template\": {\"data\": {\"bar\": [{\"error_x\": {\"color\": \"#2a3f5f\"}, \"error_y\": {\"color\": \"#2a3f5f\"}, \"marker\": {\"line\": {\"color\": \"#E5ECF6\", \"width\": 0.5}}, \"type\": \"bar\"}], \"barpolar\": [{\"marker\": {\"line\": {\"color\": \"#E5ECF6\", \"width\": 0.5}}, \"type\": \"barpolar\"}], \"carpet\": [{\"aaxis\": {\"endlinecolor\": \"#2a3f5f\", \"gridcolor\": \"white\", \"linecolor\": \"white\", \"minorgridcolor\": \"white\", \"startlinecolor\": \"#2a3f5f\"}, \"baxis\": {\"endlinecolor\": \"#2a3f5f\", \"gridcolor\": \"white\", \"linecolor\": \"white\", \"minorgridcolor\": \"white\", \"startlinecolor\": \"#2a3f5f\"}, \"type\": \"carpet\"}], \"choropleth\": [{\"colorbar\": {\"outlinewidth\": 0, \"ticks\": \"\"}, \"type\": \"choropleth\"}], \"contour\": [{\"colorbar\": {\"outlinewidth\": 0, \"ticks\": \"\"}, \"colorscale\": [[0.0, \"#0d0887\"], [0.1111111111111111, \"#46039f\"], [0.2222222222222222, \"#7201a8\"], [0.3333333333333333, \"#9c179e\"], [0.4444444444444444, \"#bd3786\"], [0.5555555555555556, \"#d8576b\"], [0.6666666666666666, \"#ed7953\"], [0.7777777777777778, \"#fb9f3a\"], [0.8888888888888888, \"#fdca26\"], [1.0, \"#f0f921\"]], \"type\": \"contour\"}], \"contourcarpet\": [{\"colorbar\": {\"outlinewidth\": 0, \"ticks\": \"\"}, \"type\": \"contourcarpet\"}], \"heatmap\": [{\"colorbar\": {\"outlinewidth\": 0, \"ticks\": \"\"}, \"colorscale\": [[0.0, \"#0d0887\"], [0.1111111111111111, \"#46039f\"], [0.2222222222222222, \"#7201a8\"], [0.3333333333333333, \"#9c179e\"], [0.4444444444444444, \"#bd3786\"], [0.5555555555555556, \"#d8576b\"], [0.6666666666666666, \"#ed7953\"], [0.7777777777777778, \"#fb9f3a\"], [0.8888888888888888, \"#fdca26\"], [1.0, \"#f0f921\"]], \"type\": \"heatmap\"}], \"heatmapgl\": [{\"colorbar\": {\"outlinewidth\": 0, \"ticks\": \"\"}, \"colorscale\": [[0.0, \"#0d0887\"], [0.1111111111111111, \"#46039f\"], [0.2222222222222222, \"#7201a8\"], [0.3333333333333333, \"#9c179e\"], [0.4444444444444444, \"#bd3786\"], [0.5555555555555556, \"#d8576b\"], [0.6666666666666666, \"#ed7953\"], [0.7777777777777778, \"#fb9f3a\"], [0.8888888888888888, \"#fdca26\"], [1.0, \"#f0f921\"]], \"type\": \"heatmapgl\"}], \"histogram\": [{\"marker\": {\"colorbar\": {\"outlinewidth\": 0, \"ticks\": \"\"}}, \"type\": \"histogram\"}], \"histogram2d\": [{\"colorbar\": {\"outlinewidth\": 0, \"ticks\": \"\"}, \"colorscale\": [[0.0, \"#0d0887\"], [0.1111111111111111, \"#46039f\"], [0.2222222222222222, \"#7201a8\"], [0.3333333333333333, \"#9c179e\"], [0.4444444444444444, \"#bd3786\"], [0.5555555555555556, \"#d8576b\"], [0.6666666666666666, \"#ed7953\"], [0.7777777777777778, \"#fb9f3a\"], [0.8888888888888888, \"#fdca26\"], [1.0, \"#f0f921\"]], \"type\": \"histogram2d\"}], \"histogram2dcontour\": [{\"colorbar\": {\"outlinewidth\": 0, \"ticks\": \"\"}, \"colorscale\": [[0.0, \"#0d0887\"], [0.1111111111111111, \"#46039f\"], [0.2222222222222222, \"#7201a8\"], [0.3333333333333333, \"#9c179e\"], [0.4444444444444444, \"#bd3786\"], [0.5555555555555556, \"#d8576b\"], [0.6666666666666666, \"#ed7953\"], [0.7777777777777778, \"#fb9f3a\"], [0.8888888888888888, \"#fdca26\"], [1.0, \"#f0f921\"]], \"type\": \"histogram2dcontour\"}], \"mesh3d\": [{\"colorbar\": {\"outlinewidth\": 0, \"ticks\": \"\"}, \"type\": \"mesh3d\"}], \"parcoords\": [{\"line\": {\"colorbar\": {\"outlinewidth\": 0, \"ticks\": \"\"}}, \"type\": \"parcoords\"}], \"pie\": [{\"automargin\": true, \"type\": \"pie\"}], \"scatter\": [{\"marker\": {\"colorbar\": {\"outlinewidth\": 0, \"ticks\": \"\"}}, \"type\": \"scatter\"}], \"scatter3d\": [{\"line\": {\"colorbar\": {\"outlinewidth\": 0, \"ticks\": \"\"}}, \"marker\": {\"colorbar\": {\"outlinewidth\": 0, \"ticks\": \"\"}}, \"type\": \"scatter3d\"}], \"scattercarpet\": [{\"marker\": {\"colorbar\": {\"outlinewidth\": 0, \"ticks\": \"\"}}, \"type\": \"scattercarpet\"}], \"scattergeo\": [{\"marker\": {\"colorbar\": {\"outlinewidth\": 0, \"ticks\": \"\"}}, \"type\": \"scattergeo\"}], \"scattergl\": [{\"marker\": {\"colorbar\": {\"outlinewidth\": 0, \"ticks\": \"\"}}, \"type\": \"scattergl\"}], \"scattermapbox\": [{\"marker\": {\"colorbar\": {\"outlinewidth\": 0, \"ticks\": \"\"}}, \"type\": \"scattermapbox\"}], \"scatterpolar\": [{\"marker\": {\"colorbar\": {\"outlinewidth\": 0, \"ticks\": \"\"}}, \"type\": \"scatterpolar\"}], \"scatterpolargl\": [{\"marker\": {\"colorbar\": {\"outlinewidth\": 0, \"ticks\": \"\"}}, \"type\": \"scatterpolargl\"}], \"scatterternary\": [{\"marker\": {\"colorbar\": {\"outlinewidth\": 0, \"ticks\": \"\"}}, \"type\": \"scatterternary\"}], \"surface\": [{\"colorbar\": {\"outlinewidth\": 0, \"ticks\": \"\"}, \"colorscale\": [[0.0, \"#0d0887\"], [0.1111111111111111, \"#46039f\"], [0.2222222222222222, \"#7201a8\"], [0.3333333333333333, \"#9c179e\"], [0.4444444444444444, \"#bd3786\"], [0.5555555555555556, \"#d8576b\"], [0.6666666666666666, \"#ed7953\"], [0.7777777777777778, \"#fb9f3a\"], [0.8888888888888888, \"#fdca26\"], [1.0, \"#f0f921\"]], \"type\": \"surface\"}], \"table\": [{\"cells\": {\"fill\": {\"color\": \"#EBF0F8\"}, \"line\": {\"color\": \"white\"}}, \"header\": {\"fill\": {\"color\": \"#C8D4E3\"}, \"line\": {\"color\": \"white\"}}, \"type\": \"table\"}]}, \"layout\": {\"annotationdefaults\": {\"arrowcolor\": \"#2a3f5f\", \"arrowhead\": 0, \"arrowwidth\": 1}, \"coloraxis\": {\"colorbar\": {\"outlinewidth\": 0, \"ticks\": \"\"}}, \"colorscale\": {\"diverging\": [[0, \"#8e0152\"], [0.1, \"#c51b7d\"], [0.2, \"#de77ae\"], [0.3, \"#f1b6da\"], [0.4, \"#fde0ef\"], [0.5, \"#f7f7f7\"], [0.6, \"#e6f5d0\"], [0.7, \"#b8e186\"], [0.8, \"#7fbc41\"], [0.9, \"#4d9221\"], [1, \"#276419\"]], \"sequential\": [[0.0, \"#0d0887\"], [0.1111111111111111, \"#46039f\"], [0.2222222222222222, \"#7201a8\"], [0.3333333333333333, \"#9c179e\"], [0.4444444444444444, \"#bd3786\"], [0.5555555555555556, \"#d8576b\"], [0.6666666666666666, \"#ed7953\"], [0.7777777777777778, \"#fb9f3a\"], [0.8888888888888888, \"#fdca26\"], [1.0, \"#f0f921\"]], \"sequentialminus\": [[0.0, \"#0d0887\"], [0.1111111111111111, \"#46039f\"], [0.2222222222222222, \"#7201a8\"], [0.3333333333333333, \"#9c179e\"], [0.4444444444444444, \"#bd3786\"], [0.5555555555555556, \"#d8576b\"], [0.6666666666666666, \"#ed7953\"], [0.7777777777777778, \"#fb9f3a\"], [0.8888888888888888, \"#fdca26\"], [1.0, \"#f0f921\"]]}, \"colorway\": [\"#636efa\", \"#EF553B\", \"#00cc96\", \"#ab63fa\", \"#FFA15A\", \"#19d3f3\", \"#FF6692\", \"#B6E880\", \"#FF97FF\", \"#FECB52\"], \"font\": {\"color\": \"#2a3f5f\"}, \"geo\": {\"bgcolor\": \"white\", \"lakecolor\": \"white\", \"landcolor\": \"#E5ECF6\", \"showlakes\": true, \"showland\": true, \"subunitcolor\": \"white\"}, \"hoverlabel\": {\"align\": \"left\"}, \"hovermode\": \"closest\", \"mapbox\": {\"style\": \"light\"}, \"paper_bgcolor\": \"white\", \"plot_bgcolor\": \"#E5ECF6\", \"polar\": {\"angularaxis\": {\"gridcolor\": \"white\", \"linecolor\": \"white\", \"ticks\": \"\"}, \"bgcolor\": \"#E5ECF6\", \"radialaxis\": {\"gridcolor\": \"white\", \"linecolor\": \"white\", \"ticks\": \"\"}}, \"scene\": {\"xaxis\": {\"backgroundcolor\": \"#E5ECF6\", \"gridcolor\": \"white\", \"gridwidth\": 2, \"linecolor\": \"white\", \"showbackground\": true, \"ticks\": \"\", \"zerolinecolor\": \"white\"}, \"yaxis\": {\"backgroundcolor\": \"#E5ECF6\", \"gridcolor\": \"white\", \"gridwidth\": 2, \"linecolor\": \"white\", \"showbackground\": true, \"ticks\": \"\", \"zerolinecolor\": \"white\"}, \"zaxis\": {\"backgroundcolor\": \"#E5ECF6\", \"gridcolor\": \"white\", \"gridwidth\": 2, \"linecolor\": \"white\", \"showbackground\": true, \"ticks\": \"\", \"zerolinecolor\": \"white\"}}, \"shapedefaults\": {\"line\": {\"color\": \"#2a3f5f\"}}, \"ternary\": {\"aaxis\": {\"gridcolor\": \"white\", \"linecolor\": \"white\", \"ticks\": \"\"}, \"baxis\": {\"gridcolor\": \"white\", \"linecolor\": \"white\", \"ticks\": \"\"}, \"bgcolor\": \"#E5ECF6\", \"caxis\": {\"gridcolor\": \"white\", \"linecolor\": \"white\", \"ticks\": \"\"}}, \"title\": {\"x\": 0.05}, \"xaxis\": {\"automargin\": true, \"gridcolor\": \"white\", \"linecolor\": \"white\", \"ticks\": \"\", \"title\": {\"standoff\": 15}, \"zerolinecolor\": \"white\", \"zerolinewidth\": 2}, \"yaxis\": {\"automargin\": true, \"gridcolor\": \"white\", \"linecolor\": \"white\", \"ticks\": \"\", \"title\": {\"standoff\": 15}, \"zerolinecolor\": \"white\", \"zerolinewidth\": 2}}}, \"title\": {\"text\": \"Top 5 Countries having Total no. of Deaths\"}},\n",
       "                        {\"responsive\": true}\n",
       "                    ).then(function(){\n",
       "                            \n",
       "var gd = document.getElementById('ea311c31-69d0-42e3-9cc3-1e3fe18e6c40');\n",
       "var x = new MutationObserver(function (mutations, observer) {{\n",
       "        var display = window.getComputedStyle(gd).display;\n",
       "        if (!display || display === 'none') {{\n",
       "            console.log([gd, 'removed!']);\n",
       "            Plotly.purge(gd);\n",
       "            observer.disconnect();\n",
       "        }}\n",
       "}});\n",
       "\n",
       "// Listen for the removal of the full notebook cells\n",
       "var notebookContainer = gd.closest('#notebook-container');\n",
       "if (notebookContainer) {{\n",
       "    x.observe(notebookContainer, {childList: true});\n",
       "}}\n",
       "\n",
       "// Listen for the clearing of the current output cell\n",
       "var outputEl = gd.closest('.output');\n",
       "if (outputEl) {{\n",
       "    x.observe(outputEl, {childList: true});\n",
       "}}\n",
       "\n",
       "                        })\n",
       "                };\n",
       "                });\n",
       "            </script>\n",
       "        </div>"
      ]
     },
     "metadata": {},
     "output_type": "display_data"
    }
   ],
   "source": [
    "import plotly.graph_objects as go\n",
    "\n",
    "colors = ['lightslategray',] * 5\n",
    "colors[1] = 'crimson'\n",
    "\n",
    "fig = go.Figure()\n",
    "fig.add_trace(go.Bar(\n",
    "    x=d[\"Country\"],\n",
    "    y=d.TotalDeaths,\n",
    "    \n",
    "    marker_color=colors,\n",
    "    text=df.TotalDeaths,\n",
    "    textposition='auto'\n",
    "))\n",
    "fig.update_layout(title_text='Top 5 Countries having Total no. of Deaths')\n",
    "fig.show()"
   ]
  },
  {
   "cell_type": "code",
   "execution_count": 46,
   "metadata": {},
   "outputs": [],
   "source": [
    "import matplotlib.patches as patches"
   ]
  },
  {
   "cell_type": "code",
   "execution_count": 107,
   "metadata": {},
   "outputs": [
    {
     "data": {
      "image/png": "[encoded data removed]",
      "text/plain": [
       "<Figure size 720x360 with 1 Axes>"
      ]
     },
     "metadata": {},
     "output_type": "display_data"
    }
   ],
   "source": [
    "fig, ax = plt.subplots(figsize=(10,5), facecolor='white')\n",
    "ax.vlines(x=d['Country'], ymin=0, ymax=d['TotalCases'], color='#7B68EE', alpha=0.9, linewidth=20,label='TotalCases')\n",
    "ax.vlines(x=d['Country'], ymin=0, ymax=d['TotalDeaths'], color='#FF0000', alpha=0.9, linewidth=20+10,label='TotalDeaths')\n",
    "\n",
    "# Annotate Text\n",
    "for i, cty in enumerate(d['TotalCases']):\n",
    "    ax.text(i, int(cty)+0.1, round(cty, 1), horizontalalignment='center')\n",
    "for i, cty in enumerate(d['TotalDeaths']):\n",
    "    ax.text(i, int(cty)+0.1, round(cty, 1), horizontalalignment='left')\n",
    "\n",
    "\n",
    "\n",
    "# Title, Label, Ticks and Ylim\n",
    "ax.set_title('Bar Chart for Top 5 Countries having TotalCases', fontdict={'size':15})\n",
    "ax.set(ylabel='Count')\n",
    "plt.xticks(d['Country'], d['Country'].str.upper(), rotation=0, horizontalalignment='center', fontsize=10)\n",
    "\n",
    "# Add patches to color the X axis labels\n",
    "p1 = patches.Rectangle((.57, -0.005), width=.33, height=.13, alpha=.1, facecolor='green', transform=fig.transFigure)\n",
    "p2 = patches.Rectangle((.124, -0.005), width=.446, height=.13, alpha=.1, facecolor='red', transform=fig.transFigure)\n",
    "fig.add_artist(p1)\n",
    "fig.add_artist(p2)\n",
    "plt.legend()\n",
    "plt.show()"
   ]
  },
  {
   "cell_type": "code",
   "execution_count": 108,
   "metadata": {},
   "outputs": [],
   "source": [
    "### Top 10 Cities suffering with Corona Virus severely"
   ]
  },
  {
   "cell_type": "code",
   "execution_count": 109,
   "metadata": {},
   "outputs": [
    {
     "name": "stdout",
     "output_type": "stream",
     "text": [
      "                1\n",
      "Italy        5476\n",
      "China        3261\n",
      "Spain        1756\n",
      "Iran         1685\n",
      "France        562\n",
      "USA           396\n",
      "UK            281\n",
      "Netherlands   179\n",
      "S. Korea      104\n"
     ]
    },
    {
     "data": {
      "image/png": "[encoded data removed]",
      "text/plain": [
       "<Figure size 432x288 with 1 Axes>"
      ]
     },
     "metadata": {
      "needs_background": "light"
     },
     "output_type": "display_data"
    }
   ],
   "source": [
    "stdeaths=dff.sort_values(by=[\"TotalDeaths\"],axis=0,ascending=False)\n",
    "d=stdeaths[['Country','TotalDeaths']].values[0:9]\n",
    "d=pd.DataFrame(d)\n",
    "d=d.rename({'1':'count'},axis=1)\n",
    "d.set_index(0,inplace=True)\n",
    "del d.index.name\n",
    "d.plot.bar(rot=60)\n",
    "plt.title('Top 10 Countries suffering with CORONA severely')\n",
    "print(d)\n",
    "plt.legend('Deaths')\n",
    "plt.show()"
   ]
  },
  {
   "cell_type": "code",
   "execution_count": 110,
   "metadata": {},
   "outputs": [
    {
     "data": {
      "application/vnd.plotly.v1+json": {
       "config": {
        "plotlyServerURL": "https://plot.ly"
       },
       "data": [
        {
         "marker": {
          "color": "#FAA460"
         },
         "name": "TotalCases",
         "text": [
          81054,
          59138,
          38167,
          28603,
          24806,
          21638,
          14459,
          8897,
          7474,
          5683,
          4204,
          3401,
          3302,
          2263,
          1931,
          1600,
          1426,
          1395,
          1353,
          1306,
          1209,
          1120,
          1086,
          338104
         ],
         "textposition": "auto",
         "type": "bar",
         "x": [
          "China",
          "Italy",
          "USA",
          "Spain",
          "Germany",
          "Iran",
          "France",
          "S. Korea",
          "Switzerland",
          "UK",
          "Netherlands",
          "Belgium",
          "Austria",
          "Norway",
          "Sweden",
          "Portugal",
          "Canada",
          "Denmark",
          "Australia",
          "Malaysia",
          "Brazil",
          "Czechia",
          "Japan"
         ],
         "y": [
          81054,
          59138,
          38167,
          28603,
          24806,
          21638,
          14459,
          8897,
          7474,
          5683,
          4204,
          3401,
          3302,
          2263,
          1931,
          1600,
          1426,
          1395,
          1353,
          1306,
          1209,
          1120,
          1086
         ]
        },
        {
         "marker": {
          "color": "#2ca02c"
         },
         "name": "TotalRecovered",
         "text": [
          72440,
          7024,
          178,
          2125,
          266,
          7635,
          1587,
          2909,
          131,
          93,
          2,
          263,
          9,
          6,
          16,
          5,
          14,
          1,
          46,
          139,
          2,
          6,
          235
         ],
         "textposition": "auto",
         "type": "bar",
         "x": [
          "China",
          "Italy",
          "USA",
          "Spain",
          "Germany",
          "Iran",
          "France",
          "S. Korea",
          "Switzerland",
          "UK",
          "Netherlands",
          "Belgium",
          "Austria",
          "Norway",
          "Sweden",
          "Portugal",
          "Canada",
          "Denmark",
          "Australia",
          "Malaysia",
          "Brazil",
          "Czechia",
          "Japan"
         ],
         "y": [
          72440,
          7024,
          178,
          2125,
          266,
          7635,
          1587,
          2909,
          131,
          93,
          2,
          263,
          9,
          6,
          16,
          5,
          14,
          1,
          46,
          139,
          2,
          6,
          235
         ]
        },
        {
         "marker": {
          "color": "#EF553B"
         },
         "name": "TotalDeaths",
         "text": [
          3261,
          5476,
          396,
          1756,
          93,
          1685,
          562,
          104,
          98,
          281,
          179,
          75,
          16,
          7,
          21,
          14,
          20,
          13,
          7,
          10,
          18,
          0,
          36
         ],
         "textposition": "auto",
         "type": "bar",
         "x": [
          "China",
          "Italy",
          "USA",
          "Spain",
          "Germany",
          "Iran",
          "France",
          "S. Korea",
          "Switzerland",
          "UK",
          "Netherlands",
          "Belgium",
          "Austria",
          "Norway",
          "Sweden",
          "Portugal",
          "Canada",
          "Denmark",
          "Australia",
          "Malaysia",
          "Brazil",
          "Czechia",
          "Japan"
         ],
         "y": [
          3261,
          5476,
          396,
          1756,
          93,
          1685,
          562,
          104,
          98,
          281,
          179,
          75,
          16,
          7,
          21,
          14,
          20,
          13,
          7,
          10,
          18,
          0,
          36
         ]
        }
       ],
       "layout": {
        "template": {
         "data": {
          "bar": [
           {
            "error_x": {
             "color": "#2a3f5f"
            },
            "error_y": {
             "color": "#2a3f5f"
            },
            "marker": {
             "line": {
              "color": "#E5ECF6",
              "width": 0.5
             }
            },
            "type": "bar"
           }
          ],
          "barpolar": [
           {
            "marker": {
             "line": {
              "color": "#E5ECF6",
              "width": 0.5
             }
            },
            "type": "barpolar"
           }
          ],
          "carpet": [
           {
            "aaxis": {
             "endlinecolor": "#2a3f5f",
             "gridcolor": "white",
             "linecolor": "white",
             "minorgridcolor": "white",
             "startlinecolor": "#2a3f5f"
            },
            "baxis": {
             "endlinecolor": "#2a3f5f",
             "gridcolor": "white",
             "linecolor": "white",
             "minorgridcolor": "white",
             "startlinecolor": "#2a3f5f"
            },
            "type": "carpet"
           }
          ],
          "choropleth": [
           {
            "colorbar": {
             "outlinewidth": 0,
             "ticks": ""
            },
            "type": "choropleth"
           }
          ],
          "contour": [
           {
            "colorbar": {
             "outlinewidth": 0,
             "ticks": ""
            },
            "colorscale": [
             [
              0,
              "#0d0887"
             ],
             [
              0.1111111111111111,
              "#46039f"
             ],
             [
              0.2222222222222222,
              "#7201a8"
             ],
             [
              0.3333333333333333,
              "#9c179e"
             ],
             [
              0.4444444444444444,
              "#bd3786"
             ],
             [
              0.5555555555555556,
              "#d8576b"
             ],
             [
              0.6666666666666666,
              "#ed7953"
             ],
             [
              0.7777777777777778,
              "#fb9f3a"
             ],
             [
              0.8888888888888888,
              "#fdca26"
             ],
             [
              1,
              "#f0f921"
             ]
            ],
            "type": "contour"
           }
          ],
          "contourcarpet": [
           {
            "colorbar": {
             "outlinewidth": 0,
             "ticks": ""
            },
            "type": "contourcarpet"
           }
          ],
          "heatmap": [
           {
            "colorbar": {
             "outlinewidth": 0,
             "ticks": ""
            },
            "colorscale": [
             [
              0,
              "#0d0887"
             ],
             [
              0.1111111111111111,
              "#46039f"
             ],
             [
              0.2222222222222222,
              "#7201a8"
             ],
             [
              0.3333333333333333,
              "#9c179e"
             ],
             [
              0.4444444444444444,
              "#bd3786"
             ],
             [
              0.5555555555555556,
              "#d8576b"
             ],
             [
              0.6666666666666666,
              "#ed7953"
             ],
             [
              0.7777777777777778,
              "#fb9f3a"
             ],
             [
              0.8888888888888888,
              "#fdca26"
             ],
             [
              1,
              "#f0f921"
             ]
            ],
            "type": "heatmap"
           }
          ],
          "heatmapgl": [
           {
            "colorbar": {
             "outlinewidth": 0,
             "ticks": ""
            },
            "colorscale": [
             [
              0,
              "#0d0887"
             ],
             [
              0.1111111111111111,
              "#46039f"
             ],
             [
              0.2222222222222222,
              "#7201a8"
             ],
             [
              0.3333333333333333,
              "#9c179e"
             ],
             [
              0.4444444444444444,
              "#bd3786"
             ],
             [
              0.5555555555555556,
              "#d8576b"
             ],
             [
              0.6666666666666666,
              "#ed7953"
             ],
             [
              0.7777777777777778,
              "#fb9f3a"
             ],
             [
              0.8888888888888888,
              "#fdca26"
             ],
             [
              1,
              "#f0f921"
             ]
            ],
            "type": "heatmapgl"
           }
          ],
          "histogram": [
           {
            "marker": {
             "colorbar": {
              "outlinewidth": 0,
              "ticks": ""
             }
            },
            "type": "histogram"
           }
          ],
          "histogram2d": [
           {
            "colorbar": {
             "outlinewidth": 0,
             "ticks": ""
            },
            "colorscale": [
             [
              0,
              "#0d0887"
             ],
             [
              0.1111111111111111,
              "#46039f"
             ],
             [
              0.2222222222222222,
              "#7201a8"
             ],
             [
              0.3333333333333333,
              "#9c179e"
             ],
             [
              0.4444444444444444,
              "#bd3786"
             ],
             [
              0.5555555555555556,
              "#d8576b"
             ],
             [
              0.6666666666666666,
              "#ed7953"
             ],
             [
              0.7777777777777778,
              "#fb9f3a"
             ],
             [
              0.8888888888888888,
              "#fdca26"
             ],
             [
              1,
              "#f0f921"
             ]
            ],
            "type": "histogram2d"
           }
          ],
          "histogram2dcontour": [
           {
            "colorbar": {
             "outlinewidth": 0,
             "ticks": ""
            },
            "colorscale": [
             [
              0,
              "#0d0887"
             ],
             [
              0.1111111111111111,
              "#46039f"
             ],
             [
              0.2222222222222222,
              "#7201a8"
             ],
             [
              0.3333333333333333,
              "#9c179e"
             ],
             [
              0.4444444444444444,
              "#bd3786"
             ],
             [
              0.5555555555555556,
              "#d8576b"
             ],
             [
              0.6666666666666666,
              "#ed7953"
             ],
             [
              0.7777777777777778,
              "#fb9f3a"
             ],
             [
              0.8888888888888888,
              "#fdca26"
             ],
             [
              1,
              "#f0f921"
             ]
            ],
            "type": "histogram2dcontour"
           }
          ],
          "mesh3d": [
           {
            "colorbar": {
             "outlinewidth": 0,
             "ticks": ""
            },
            "type": "mesh3d"
           }
          ],
          "parcoords": [
           {
            "line": {
             "colorbar": {
              "outlinewidth": 0,
              "ticks": ""
             }
            },
            "type": "parcoords"
           }
          ],
          "pie": [
           {
            "automargin": true,
            "type": "pie"
           }
          ],
          "scatter": [
           {
            "marker": {
             "colorbar": {
              "outlinewidth": 0,
              "ticks": ""
             }
            },
            "type": "scatter"
           }
          ],
          "scatter3d": [
           {
            "line": {
             "colorbar": {
              "outlinewidth": 0,
              "ticks": ""
             }
            },
            "marker": {
             "colorbar": {
              "outlinewidth": 0,
              "ticks": ""
             }
            },
            "type": "scatter3d"
           }
          ],
          "scattercarpet": [
           {
            "marker": {
             "colorbar": {
              "outlinewidth": 0,
              "ticks": ""
             }
            },
            "type": "scattercarpet"
           }
          ],
          "scattergeo": [
           {
            "marker": {
             "colorbar": {
              "outlinewidth": 0,
              "ticks": ""
             }
            },
            "type": "scattergeo"
           }
          ],
          "scattergl": [
           {
            "marker": {
             "colorbar": {
              "outlinewidth": 0,
              "ticks": ""
             }
            },
            "type": "scattergl"
           }
          ],
          "scattermapbox": [
           {
            "marker": {
             "colorbar": {
              "outlinewidth": 0,
              "ticks": ""
             }
            },
            "type": "scattermapbox"
           }
          ],
          "scatterpolar": [
           {
            "marker": {
             "colorbar": {
              "outlinewidth": 0,
              "ticks": ""
             }
            },
            "type": "scatterpolar"
           }
          ],
          "scatterpolargl": [
           {
            "marker": {
             "colorbar": {
              "outlinewidth": 0,
              "ticks": ""
             }
            },
            "type": "scatterpolargl"
           }
          ],
          "scatterternary": [
           {
            "marker": {
             "colorbar": {
              "outlinewidth": 0,
              "ticks": ""
             }
            },
            "type": "scatterternary"
           }
          ],
          "surface": [
           {
            "colorbar": {
             "outlinewidth": 0,
             "ticks": ""
            },
            "colorscale": [
             [
              0,
              "#0d0887"
             ],
             [
              0.1111111111111111,
              "#46039f"
             ],
             [
              0.2222222222222222,
              "#7201a8"
             ],
             [
              0.3333333333333333,
              "#9c179e"
             ],
             [
              0.4444444444444444,
              "#bd3786"
             ],
             [
              0.5555555555555556,
              "#d8576b"
             ],
             [
              0.6666666666666666,
              "#ed7953"
             ],
             [
              0.7777777777777778,
              "#fb9f3a"
             ],
             [
              0.8888888888888888,
              "#fdca26"
             ],
             [
              1,
              "#f0f921"
             ]
            ],
            "type": "surface"
           }
          ],
          "table": [
           {
            "cells": {
             "fill": {
              "color": "#EBF0F8"
             },
             "line": {
              "color": "white"
             }
            },
            "header": {
             "fill": {
              "color": "#C8D4E3"
             },
             "line": {
              "color": "white"
             }
            },
            "type": "table"
           }
          ]
         },
         "layout": {
          "annotationdefaults": {
           "arrowcolor": "#2a3f5f",
           "arrowhead": 0,
           "arrowwidth": 1
          },
          "coloraxis": {
           "colorbar": {
            "outlinewidth": 0,
            "ticks": ""
           }
          },
          "colorscale": {
           "diverging": [
            [
             0,
             "#8e0152"
            ],
            [
             0.1,
             "#c51b7d"
            ],
            [
             0.2,
             "#de77ae"
            ],
            [
             0.3,
             "#f1b6da"
            ],
            [
             0.4,
             "#fde0ef"
            ],
            [
             0.5,
             "#f7f7f7"
            ],
            [
             0.6,
             "#e6f5d0"
            ],
            [
             0.7,
             "#b8e186"
            ],
            [
             0.8,
             "#7fbc41"
            ],
            [
             0.9,
             "#4d9221"
            ],
            [
             1,
             "#276419"
            ]
           ],
           "sequential": [
            [
             0,
             "#0d0887"
            ],
            [
             0.1111111111111111,
             "#46039f"
            ],
            [
             0.2222222222222222,
             "#7201a8"
            ],
            [
             0.3333333333333333,
             "#9c179e"
            ],
            [
             0.4444444444444444,
             "#bd3786"
            ],
            [
             0.5555555555555556,
             "#d8576b"
            ],
            [
             0.6666666666666666,
             "#ed7953"
            ],
            [
             0.7777777777777778,
             "#fb9f3a"
            ],
            [
             0.8888888888888888,
             "#fdca26"
            ],
            [
             1,
             "#f0f921"
            ]
           ],
           "sequentialminus": [
            [
             0,
             "#0d0887"
            ],
            [
             0.1111111111111111,
             "#46039f"
            ],
            [
             0.2222222222222222,
             "#7201a8"
            ],
            [
             0.3333333333333333,
             "#9c179e"
            ],
            [
             0.4444444444444444,
             "#bd3786"
            ],
            [
             0.5555555555555556,
             "#d8576b"
            ],
            [
             0.6666666666666666,
             "#ed7953"
            ],
            [
             0.7777777777777778,
             "#fb9f3a"
            ],
            [
             0.8888888888888888,
             "#fdca26"
            ],
            [
             1,
             "#f0f921"
            ]
           ]
          },
          "colorway": [
           "#636efa",
           "#EF553B",
           "#00cc96",
           "#ab63fa",
           "#FFA15A",
           "#19d3f3",
           "#FF6692",
           "#B6E880",
           "#FF97FF",
           "#FECB52"
          ],
          "font": {
           "color": "#2a3f5f"
          },
          "geo": {
           "bgcolor": "white",
           "lakecolor": "white",
           "landcolor": "#E5ECF6",
           "showlakes": true,
           "showland": true,
           "subunitcolor": "white"
          },
          "hoverlabel": {
           "align": "left"
          },
          "hovermode": "closest",
          "mapbox": {
           "style": "light"
          },
          "paper_bgcolor": "white",
          "plot_bgcolor": "#E5ECF6",
          "polar": {
           "angularaxis": {
            "gridcolor": "white",
            "linecolor": "white",
            "ticks": ""
           },
           "bgcolor": "#E5ECF6",
           "radialaxis": {
            "gridcolor": "white",
            "linecolor": "white",
            "ticks": ""
           }
          },
          "scene": {
           "xaxis": {
            "backgroundcolor": "#E5ECF6",
            "gridcolor": "white",
            "gridwidth": 2,
            "linecolor": "white",
            "showbackground": true,
            "ticks": "",
            "zerolinecolor": "white"
           },
           "yaxis": {
            "backgroundcolor": "#E5ECF6",
            "gridcolor": "white",
            "gridwidth": 2,
            "linecolor": "white",
            "showbackground": true,
            "ticks": "",
            "zerolinecolor": "white"
           },
           "zaxis": {
            "backgroundcolor": "#E5ECF6",
            "gridcolor": "white",
            "gridwidth": 2,
            "linecolor": "white",
            "showbackground": true,
            "ticks": "",
            "zerolinecolor": "white"
           }
          },
          "shapedefaults": {
           "line": {
            "color": "#2a3f5f"
           }
          },
          "ternary": {
           "aaxis": {
            "gridcolor": "white",
            "linecolor": "white",
            "ticks": ""
           },
           "baxis": {
            "gridcolor": "white",
            "linecolor": "white",
            "ticks": ""
           },
           "bgcolor": "#E5ECF6",
           "caxis": {
            "gridcolor": "white",
            "linecolor": "white",
            "ticks": ""
           }
          },
          "title": {
           "x": 0.05
          },
          "xaxis": {
           "automargin": true,
           "gridcolor": "white",
           "linecolor": "white",
           "ticks": "",
           "title": {
            "standoff": 15
           },
           "zerolinecolor": "white",
           "zerolinewidth": 2
          },
          "yaxis": {
           "automargin": true,
           "gridcolor": "white",
           "linecolor": "white",
           "ticks": "",
           "title": {
            "standoff": 15
           },
           "zerolinecolor": "white",
           "zerolinewidth": 2
          }
         }
        },
        "title": {
         "text": "Corona virus TotalCase greater than 1000"
        },
        "xaxis": {
         "tickfont": {
          "size": 14
         }
        },
        "yaxis": {
         "tickfont": {
          "size": 14
         },
         "title": {
          "font": {
           "size": 16
          },
          "text": "COUNT"
         }
        }
       }
      },
      "text/html": [
       "<div>\n",
       "        \n",
       "        \n",
       "            <div id=\"268e3867-8a9c-479e-97ec-6e20c62b8f42\" class=\"plotly-graph-div\" style=\"height:525px; width:100%;\"></div>\n",
       "            <script type=\"text/javascript\">\n",
       "                require([\"plotly\"], function(Plotly) {\n",
       "                    window.PLOTLYENV=window.PLOTLYENV || {};\n",
       "                    \n",
       "                if (document.getElementById(\"268e3867-8a9c-479e-97ec-6e20c62b8f42\")) {\n",
       "                    Plotly.newPlot(\n",
       "                        '268e3867-8a9c-479e-97ec-6e20c62b8f42',\n",
       "                        [{\"marker\": {\"color\": \"#FAA460\"}, \"name\": \"TotalCases\", \"text\": [81054.0, 59138.0, 38167.0, 28603.0, 24806.0, 21638.0, 14459.0, 8897.0, 7474.0, 5683.0, 4204.0, 3401.0, 3302.0, 2263.0, 1931.0, 1600.0, 1426.0, 1395.0, 1353.0, 1306.0, 1209.0, 1120.0, 1086.0, 338104.0], \"textposition\": \"auto\", \"type\": \"bar\", \"x\": [\"China\", \"Italy\", \"USA\", \"Spain\", \"Germany\", \"Iran\", \"France\", \"S. Korea\", \"Switzerland\", \"UK\", \"Netherlands\", \"Belgium\", \"Austria\", \"Norway\", \"Sweden\", \"Portugal\", \"Canada\", \"Denmark\", \"Australia\", \"Malaysia\", \"Brazil\", \"Czechia\", \"Japan\"], \"y\": [81054, 59138, 38167, 28603, 24806, 21638, 14459, 8897, 7474, 5683, 4204, 3401, 3302, 2263, 1931, 1600, 1426, 1395, 1353, 1306, 1209, 1120, 1086]}, {\"marker\": {\"color\": \"#2ca02c\"}, \"name\": \"TotalRecovered\", \"text\": [72440.0, 7024.0, 178.0, 2125.0, 266.0, 7635.0, 1587.0, 2909.0, 131.0, 93.0, 2.0, 263.0, 9.0, 6.0, 16.0, 5.0, 14.0, 1.0, 46.0, 139.0, 2.0, 6.0, 235.0], \"textposition\": \"auto\", \"type\": \"bar\", \"x\": [\"China\", \"Italy\", \"USA\", \"Spain\", \"Germany\", \"Iran\", \"France\", \"S. Korea\", \"Switzerland\", \"UK\", \"Netherlands\", \"Belgium\", \"Austria\", \"Norway\", \"Sweden\", \"Portugal\", \"Canada\", \"Denmark\", \"Australia\", \"Malaysia\", \"Brazil\", \"Czechia\", \"Japan\"], \"y\": [72440.0, 7024.0, 178.0, 2125.0, 266.0, 7635.0, 1587.0, 2909.0, 131.0, 93.0, 2.0, 263.0, 9.0, 6.0, 16.0, 5.0, 14.0, 1.0, 46.0, 139.0, 2.0, 6.0, 235.0]}, {\"marker\": {\"color\": \"#EF553B\"}, \"name\": \"TotalDeaths\", \"text\": [3261.0, 5476.0, 396.0, 1756.0, 93.0, 1685.0, 562.0, 104.0, 98.0, 281.0, 179.0, 75.0, 16.0, 7.0, 21.0, 14.0, 20.0, 13.0, 7.0, 10.0, 18.0, 0.0, 36.0], \"textposition\": \"auto\", \"type\": \"bar\", \"x\": [\"China\", \"Italy\", \"USA\", \"Spain\", \"Germany\", \"Iran\", \"France\", \"S. Korea\", \"Switzerland\", \"UK\", \"Netherlands\", \"Belgium\", \"Austria\", \"Norway\", \"Sweden\", \"Portugal\", \"Canada\", \"Denmark\", \"Australia\", \"Malaysia\", \"Brazil\", \"Czechia\", \"Japan\"], \"y\": [3261.0, 5476.0, 396.0, 1756.0, 93.0, 1685.0, 562.0, 104.0, 98.0, 281.0, 179.0, 75.0, 16.0, 7.0, 21.0, 14.0, 20.0, 13.0, 7.0, 10.0, 18.0, 0.0, 36.0]}],\n",
       "                        {\"template\": {\"data\": {\"bar\": [{\"error_x\": {\"color\": \"#2a3f5f\"}, \"error_y\": {\"color\": \"#2a3f5f\"}, \"marker\": {\"line\": {\"color\": \"#E5ECF6\", \"width\": 0.5}}, \"type\": \"bar\"}], \"barpolar\": [{\"marker\": {\"line\": {\"color\": \"#E5ECF6\", \"width\": 0.5}}, \"type\": \"barpolar\"}], \"carpet\": [{\"aaxis\": {\"endlinecolor\": \"#2a3f5f\", \"gridcolor\": \"white\", \"linecolor\": \"white\", \"minorgridcolor\": \"white\", \"startlinecolor\": \"#2a3f5f\"}, \"baxis\": {\"endlinecolor\": \"#2a3f5f\", \"gridcolor\": \"white\", \"linecolor\": \"white\", \"minorgridcolor\": \"white\", \"startlinecolor\": \"#2a3f5f\"}, \"type\": \"carpet\"}], \"choropleth\": [{\"colorbar\": {\"outlinewidth\": 0, \"ticks\": \"\"}, \"type\": \"choropleth\"}], \"contour\": [{\"colorbar\": {\"outlinewidth\": 0, \"ticks\": \"\"}, \"colorscale\": [[0.0, \"#0d0887\"], [0.1111111111111111, \"#46039f\"], [0.2222222222222222, \"#7201a8\"], [0.3333333333333333, \"#9c179e\"], [0.4444444444444444, \"#bd3786\"], [0.5555555555555556, \"#d8576b\"], [0.6666666666666666, \"#ed7953\"], [0.7777777777777778, \"#fb9f3a\"], [0.8888888888888888, \"#fdca26\"], [1.0, \"#f0f921\"]], \"type\": \"contour\"}], \"contourcarpet\": [{\"colorbar\": {\"outlinewidth\": 0, \"ticks\": \"\"}, \"type\": \"contourcarpet\"}], \"heatmap\": [{\"colorbar\": {\"outlinewidth\": 0, \"ticks\": \"\"}, \"colorscale\": [[0.0, \"#0d0887\"], [0.1111111111111111, \"#46039f\"], [0.2222222222222222, \"#7201a8\"], [0.3333333333333333, \"#9c179e\"], [0.4444444444444444, \"#bd3786\"], [0.5555555555555556, \"#d8576b\"], [0.6666666666666666, \"#ed7953\"], [0.7777777777777778, \"#fb9f3a\"], [0.8888888888888888, \"#fdca26\"], [1.0, \"#f0f921\"]], \"type\": \"heatmap\"}], \"heatmapgl\": [{\"colorbar\": {\"outlinewidth\": 0, \"ticks\": \"\"}, \"colorscale\": [[0.0, \"#0d0887\"], [0.1111111111111111, \"#46039f\"], [0.2222222222222222, \"#7201a8\"], [0.3333333333333333, \"#9c179e\"], [0.4444444444444444, \"#bd3786\"], [0.5555555555555556, \"#d8576b\"], [0.6666666666666666, \"#ed7953\"], [0.7777777777777778, \"#fb9f3a\"], [0.8888888888888888, \"#fdca26\"], [1.0, \"#f0f921\"]], \"type\": \"heatmapgl\"}], \"histogram\": [{\"marker\": {\"colorbar\": {\"outlinewidth\": 0, \"ticks\": \"\"}}, \"type\": \"histogram\"}], \"histogram2d\": [{\"colorbar\": {\"outlinewidth\": 0, \"ticks\": \"\"}, \"colorscale\": [[0.0, \"#0d0887\"], [0.1111111111111111, \"#46039f\"], [0.2222222222222222, \"#7201a8\"], [0.3333333333333333, \"#9c179e\"], [0.4444444444444444, \"#bd3786\"], [0.5555555555555556, \"#d8576b\"], [0.6666666666666666, \"#ed7953\"], [0.7777777777777778, \"#fb9f3a\"], [0.8888888888888888, \"#fdca26\"], [1.0, \"#f0f921\"]], \"type\": \"histogram2d\"}], \"histogram2dcontour\": [{\"colorbar\": {\"outlinewidth\": 0, \"ticks\": \"\"}, \"colorscale\": [[0.0, \"#0d0887\"], [0.1111111111111111, \"#46039f\"], [0.2222222222222222, \"#7201a8\"], [0.3333333333333333, \"#9c179e\"], [0.4444444444444444, \"#bd3786\"], [0.5555555555555556, \"#d8576b\"], [0.6666666666666666, \"#ed7953\"], [0.7777777777777778, \"#fb9f3a\"], [0.8888888888888888, \"#fdca26\"], [1.0, \"#f0f921\"]], \"type\": \"histogram2dcontour\"}], \"mesh3d\": [{\"colorbar\": {\"outlinewidth\": 0, \"ticks\": \"\"}, \"type\": \"mesh3d\"}], \"parcoords\": [{\"line\": {\"colorbar\": {\"outlinewidth\": 0, \"ticks\": \"\"}}, \"type\": \"parcoords\"}], \"pie\": [{\"automargin\": true, \"type\": \"pie\"}], \"scatter\": [{\"marker\": {\"colorbar\": {\"outlinewidth\": 0, \"ticks\": \"\"}}, \"type\": \"scatter\"}], \"scatter3d\": [{\"line\": {\"colorbar\": {\"outlinewidth\": 0, \"ticks\": \"\"}}, \"marker\": {\"colorbar\": {\"outlinewidth\": 0, \"ticks\": \"\"}}, \"type\": \"scatter3d\"}], \"scattercarpet\": [{\"marker\": {\"colorbar\": {\"outlinewidth\": 0, \"ticks\": \"\"}}, \"type\": \"scattercarpet\"}], \"scattergeo\": [{\"marker\": {\"colorbar\": {\"outlinewidth\": 0, \"ticks\": \"\"}}, \"type\": \"scattergeo\"}], \"scattergl\": [{\"marker\": {\"colorbar\": {\"outlinewidth\": 0, \"ticks\": \"\"}}, \"type\": \"scattergl\"}], \"scattermapbox\": [{\"marker\": {\"colorbar\": {\"outlinewidth\": 0, \"ticks\": \"\"}}, \"type\": \"scattermapbox\"}], \"scatterpolar\": [{\"marker\": {\"colorbar\": {\"outlinewidth\": 0, \"ticks\": \"\"}}, \"type\": \"scatterpolar\"}], \"scatterpolargl\": [{\"marker\": {\"colorbar\": {\"outlinewidth\": 0, \"ticks\": \"\"}}, \"type\": \"scatterpolargl\"}], \"scatterternary\": [{\"marker\": {\"colorbar\": {\"outlinewidth\": 0, \"ticks\": \"\"}}, \"type\": \"scatterternary\"}], \"surface\": [{\"colorbar\": {\"outlinewidth\": 0, \"ticks\": \"\"}, \"colorscale\": [[0.0, \"#0d0887\"], [0.1111111111111111, \"#46039f\"], [0.2222222222222222, \"#7201a8\"], [0.3333333333333333, \"#9c179e\"], [0.4444444444444444, \"#bd3786\"], [0.5555555555555556, \"#d8576b\"], [0.6666666666666666, \"#ed7953\"], [0.7777777777777778, \"#fb9f3a\"], [0.8888888888888888, \"#fdca26\"], [1.0, \"#f0f921\"]], \"type\": \"surface\"}], \"table\": [{\"cells\": {\"fill\": {\"color\": \"#EBF0F8\"}, \"line\": {\"color\": \"white\"}}, \"header\": {\"fill\": {\"color\": \"#C8D4E3\"}, \"line\": {\"color\": \"white\"}}, \"type\": \"table\"}]}, \"layout\": {\"annotationdefaults\": {\"arrowcolor\": \"#2a3f5f\", \"arrowhead\": 0, \"arrowwidth\": 1}, \"coloraxis\": {\"colorbar\": {\"outlinewidth\": 0, \"ticks\": \"\"}}, \"colorscale\": {\"diverging\": [[0, \"#8e0152\"], [0.1, \"#c51b7d\"], [0.2, \"#de77ae\"], [0.3, \"#f1b6da\"], [0.4, \"#fde0ef\"], [0.5, \"#f7f7f7\"], [0.6, \"#e6f5d0\"], [0.7, \"#b8e186\"], [0.8, \"#7fbc41\"], [0.9, \"#4d9221\"], [1, \"#276419\"]], \"sequential\": [[0.0, \"#0d0887\"], [0.1111111111111111, \"#46039f\"], [0.2222222222222222, \"#7201a8\"], [0.3333333333333333, \"#9c179e\"], [0.4444444444444444, \"#bd3786\"], [0.5555555555555556, \"#d8576b\"], [0.6666666666666666, \"#ed7953\"], [0.7777777777777778, \"#fb9f3a\"], [0.8888888888888888, \"#fdca26\"], [1.0, \"#f0f921\"]], \"sequentialminus\": [[0.0, \"#0d0887\"], [0.1111111111111111, \"#46039f\"], [0.2222222222222222, \"#7201a8\"], [0.3333333333333333, \"#9c179e\"], [0.4444444444444444, \"#bd3786\"], [0.5555555555555556, \"#d8576b\"], [0.6666666666666666, \"#ed7953\"], [0.7777777777777778, \"#fb9f3a\"], [0.8888888888888888, \"#fdca26\"], [1.0, \"#f0f921\"]]}, \"colorway\": [\"#636efa\", \"#EF553B\", \"#00cc96\", \"#ab63fa\", \"#FFA15A\", \"#19d3f3\", \"#FF6692\", \"#B6E880\", \"#FF97FF\", \"#FECB52\"], \"font\": {\"color\": \"#2a3f5f\"}, \"geo\": {\"bgcolor\": \"white\", \"lakecolor\": \"white\", \"landcolor\": \"#E5ECF6\", \"showlakes\": true, \"showland\": true, \"subunitcolor\": \"white\"}, \"hoverlabel\": {\"align\": \"left\"}, \"hovermode\": \"closest\", \"mapbox\": {\"style\": \"light\"}, \"paper_bgcolor\": \"white\", \"plot_bgcolor\": \"#E5ECF6\", \"polar\": {\"angularaxis\": {\"gridcolor\": \"white\", \"linecolor\": \"white\", \"ticks\": \"\"}, \"bgcolor\": \"#E5ECF6\", \"radialaxis\": {\"gridcolor\": \"white\", \"linecolor\": \"white\", \"ticks\": \"\"}}, \"scene\": {\"xaxis\": {\"backgroundcolor\": \"#E5ECF6\", \"gridcolor\": \"white\", \"gridwidth\": 2, \"linecolor\": \"white\", \"showbackground\": true, \"ticks\": \"\", \"zerolinecolor\": \"white\"}, \"yaxis\": {\"backgroundcolor\": \"#E5ECF6\", \"gridcolor\": \"white\", \"gridwidth\": 2, \"linecolor\": \"white\", \"showbackground\": true, \"ticks\": \"\", \"zerolinecolor\": \"white\"}, \"zaxis\": {\"backgroundcolor\": \"#E5ECF6\", \"gridcolor\": \"white\", \"gridwidth\": 2, \"linecolor\": \"white\", \"showbackground\": true, \"ticks\": \"\", \"zerolinecolor\": \"white\"}}, \"shapedefaults\": {\"line\": {\"color\": \"#2a3f5f\"}}, \"ternary\": {\"aaxis\": {\"gridcolor\": \"white\", \"linecolor\": \"white\", \"ticks\": \"\"}, \"baxis\": {\"gridcolor\": \"white\", \"linecolor\": \"white\", \"ticks\": \"\"}, \"bgcolor\": \"#E5ECF6\", \"caxis\": {\"gridcolor\": \"white\", \"linecolor\": \"white\", \"ticks\": \"\"}}, \"title\": {\"x\": 0.05}, \"xaxis\": {\"automargin\": true, \"gridcolor\": \"white\", \"linecolor\": \"white\", \"ticks\": \"\", \"title\": {\"standoff\": 15}, \"zerolinecolor\": \"white\", \"zerolinewidth\": 2}, \"yaxis\": {\"automargin\": true, \"gridcolor\": \"white\", \"linecolor\": \"white\", \"ticks\": \"\", \"title\": {\"standoff\": 15}, \"zerolinecolor\": \"white\", \"zerolinewidth\": 2}}}, \"title\": {\"text\": \"Corona virus TotalCase greater than 1000\"}, \"xaxis\": {\"tickfont\": {\"size\": 14}}, \"yaxis\": {\"tickfont\": {\"size\": 14}, \"title\": {\"font\": {\"size\": 16}, \"text\": \"COUNT\"}}},\n",
       "                        {\"responsive\": true}\n",
       "                    ).then(function(){\n",
       "                            \n",
       "var gd = document.getElementById('268e3867-8a9c-479e-97ec-6e20c62b8f42');\n",
       "var x = new MutationObserver(function (mutations, observer) {{\n",
       "        var display = window.getComputedStyle(gd).display;\n",
       "        if (!display || display === 'none') {{\n",
       "            console.log([gd, 'removed!']);\n",
       "            Plotly.purge(gd);\n",
       "            observer.disconnect();\n",
       "        }}\n",
       "}});\n",
       "\n",
       "// Listen for the removal of the full notebook cells\n",
       "var notebookContainer = gd.closest('#notebook-container');\n",
       "if (notebookContainer) {{\n",
       "    x.observe(notebookContainer, {childList: true});\n",
       "}}\n",
       "\n",
       "// Listen for the clearing of the current output cell\n",
       "var outputEl = gd.closest('.output');\n",
       "if (outputEl) {{\n",
       "    x.observe(outputEl, {childList: true});\n",
       "}}\n",
       "\n",
       "                        })\n",
       "                };\n",
       "                });\n",
       "            </script>\n",
       "        </div>"
      ]
     },
     "metadata": {},
     "output_type": "display_data"
    }
   ],
   "source": [
    "fig = go.Figure()\n",
    "fig.add_trace(go.Bar(\n",
    "    x=dff[\"Country\"][dff.TotalCases>1000],\n",
    "    y=dff.TotalCases[dff.TotalCases>1000],\n",
    "    name='TotalCases',\n",
    "    marker_color='#FAA460',\n",
    "    text=df.TotalCases[df.TotalCases>1000],\n",
    "    textposition='auto'\n",
    "))\n",
    "fig.add_trace(go.Bar(\n",
    "    x=dff[\"Country\"][dff.TotalCases>1000],\n",
    "    y=dff[\"TotalRecovered\"][dff.TotalCases>1000],\n",
    "    name='TotalRecovered',\n",
    "    marker_color='#2ca02c',\n",
    "    text=dff.TotalRecovered[dff.TotalCases>1000],\n",
    "    textposition='auto'\n",
    "))\n",
    "\n",
    "fig.add_trace(go.Bar(\n",
    "    x=dff[\"Country\"][dff.TotalCases>1000],\n",
    "    y=dff.TotalDeaths[dff.TotalCases>1000],\n",
    "    name='TotalDeaths',\n",
    "    marker_color='#EF553B',\n",
    "    text=dff.TotalDeaths[dff.TotalCases>1000],\n",
    "    textposition='auto'\n",
    "))\n",
    "fig.update_layout(title_text='Corona virus TotalCase greater than 1000',xaxis_tickfont_size=14,\n",
    "    yaxis=dict(\n",
    "        title='COUNT',\n",
    "        titlefont_size=16,\n",
    "        tickfont_size=14))\n",
    "fig.show()"
   ]
  },
  {
   "cell_type": "code",
   "execution_count": 111,
   "metadata": {},
   "outputs": [
    {
     "name": "stdout",
     "output_type": "stream",
     "text": [
      "The countries whose Total Cases are less than 100: \n",
      "\n",
      "['Cyprus', 'Bosnia and Herzegovina', 'Moldova', 'Malta', 'Albania', 'Brunei', 'Cambodia', 'Sri Lanka', 'Belarus', 'Burkina Faso', 'Tunisia', 'Venezuela', 'New Zealand', 'Azerbaijan', 'Kazakhstan', 'Palestine', 'Senegal', 'Guadeloupe', 'Oman', 'Georgia', 'Trinidad and Tobago', 'Ukraine', 'Réunion', 'Uzbekistan', 'Cameroon', 'Martinique', 'Liechtenstein', 'Cuba', 'Afghanistan', 'Channel Islands', 'Nigeria', 'DRC', 'Bangladesh', 'Guam', 'Honduras', 'Mauritius', 'Bolivia', 'Puerto Rico', 'Paraguay', 'Macao', 'Ghana', 'Jamaica', 'French Guiana', 'Guyana', 'Monaco', 'Guatemala', 'Rwanda', 'Montenegro', 'Togo', 'French Polynesia', 'Gibraltar', 'Kenya', 'Barbados', 'Ivory Coast', 'Kyrgyzstan', 'Maldives', 'Tanzania', 'Ethiopia', 'Mayotte', 'Mongolia', 'Aruba', 'Seychelles', 'Equatorial Guinea', 'U.S. Virgin Islands', 'Saint Martin', 'Suriname', 'Gabon', 'Isle of Man', 'New Caledonia', 'Eswatini', 'Bahamas', 'Liberia', 'Zimbabwe', 'Zambia', 'St. Barth', 'Namibia', 'Madagascar', 'El Salvador', 'Congo', 'CAR', 'Cabo Verde', 'Curaçao', 'Cayman Islands', 'Saint Lucia', 'Niger', 'Nicaragua', 'Mauritania', 'Haiti', 'Guinea', 'Greenland', 'Fiji', 'Bermuda', 'Benin', 'Angola', 'Sudan', 'Bhutan', 'Montserrat', 'Timor-Leste', 'Somalia', 'Sint Maarten', 'St. Vincent Grenadines', 'Papua New Guinea', 'Mozambique', 'Eritrea', 'Vatican City', 'Gambia', 'Djibouti', 'Chad', 'Antigua and Barbuda', 'Nepal', 'Uganda']\n"
     ]
    }
   ],
   "source": [
    "d=dff[dff['TotalCases']<=100].Country.count()\n",
    "print(\"The countries whose Total Cases are less than 100: \\n\")\n",
    "print(list(dff[dff['TotalCases']<=100].Country))"
   ]
  },
  {
   "cell_type": "code",
   "execution_count": 112,
   "metadata": {},
   "outputs": [
    {
     "data": {
      "text/html": [
       "<div>\n",
       "<style scoped>\n",
       "    .dataframe tbody tr th:only-of-type {\n",
       "        vertical-align: middle;\n",
       "    }\n",
       "\n",
       "    .dataframe tbody tr th {\n",
       "        vertical-align: top;\n",
       "    }\n",
       "\n",
       "    .dataframe thead th {\n",
       "        text-align: right;\n",
       "    }\n",
       "</style>\n",
       "<table border=\"1\" class=\"dataframe\">\n",
       "  <thead>\n",
       "    <tr style=\"text-align: right;\">\n",
       "      <th></th>\n",
       "      <th>Country</th>\n",
       "      <th>TotalCases</th>\n",
       "      <th>NewCases</th>\n",
       "      <th>TotalDeaths</th>\n",
       "      <th>NewDeaths</th>\n",
       "      <th>TotalRecovered</th>\n",
       "      <th>ActiveCases</th>\n",
       "      <th>Serious,Critical</th>\n",
       "      <th>Tot Cases/1M pop</th>\n",
       "    </tr>\n",
       "  </thead>\n",
       "  <tbody>\n",
       "    <tr>\n",
       "      <td>42</td>\n",
       "      <td>India</td>\n",
       "      <td>396</td>\n",
       "      <td>64.0</td>\n",
       "      <td>7.0</td>\n",
       "      <td>2.0</td>\n",
       "      <td>24.0</td>\n",
       "      <td>365</td>\n",
       "      <td>0.0</td>\n",
       "      <td>0.3</td>\n",
       "    </tr>\n",
       "  </tbody>\n",
       "</table>\n",
       "</div>"
      ],
      "text/plain": [
       "   Country  TotalCases  NewCases  TotalDeaths  NewDeaths  TotalRecovered  \\\n",
       "42   India         396      64.0          7.0        2.0            24.0   \n",
       "\n",
       "    ActiveCases  Serious,Critical  Tot Cases/1M pop  \n",
       "42          365               0.0               0.3  "
      ]
     },
     "execution_count": 112,
     "metadata": {},
     "output_type": "execute_result"
    }
   ],
   "source": [
    "dff[dff['Country']=='India']"
   ]
  },
  {
   "cell_type": "markdown",
   "metadata": {},
   "source": [
    "#### Countries Ranks in their Deaths"
   ]
  },
  {
   "cell_type": "code",
   "execution_count": 113,
   "metadata": {},
   "outputs": [
    {
     "data": {
      "text/html": [
       "<div>\n",
       "<style scoped>\n",
       "    .dataframe tbody tr th:only-of-type {\n",
       "        vertical-align: middle;\n",
       "    }\n",
       "\n",
       "    .dataframe tbody tr th {\n",
       "        vertical-align: top;\n",
       "    }\n",
       "\n",
       "    .dataframe thead th {\n",
       "        text-align: right;\n",
       "    }\n",
       "</style>\n",
       "<table border=\"1\" class=\"dataframe\">\n",
       "  <thead>\n",
       "    <tr style=\"text-align: right;\">\n",
       "      <th></th>\n",
       "      <th>Country</th>\n",
       "      <th>TotalCases</th>\n",
       "      <th>NewCases</th>\n",
       "      <th>TotalDeaths</th>\n",
       "      <th>NewDeaths</th>\n",
       "      <th>TotalRecovered</th>\n",
       "      <th>ActiveCases</th>\n",
       "      <th>Serious,Critical</th>\n",
       "      <th>Tot Cases/1M pop</th>\n",
       "      <th>Rank_Deaths</th>\n",
       "    </tr>\n",
       "  </thead>\n",
       "  <tbody>\n",
       "    <tr>\n",
       "      <td>0</td>\n",
       "      <td>China</td>\n",
       "      <td>81054</td>\n",
       "      <td>46.0</td>\n",
       "      <td>3261.0</td>\n",
       "      <td>6.0</td>\n",
       "      <td>72440.0</td>\n",
       "      <td>5353</td>\n",
       "      <td>1845.0</td>\n",
       "      <td>56.0</td>\n",
       "      <td>2.0</td>\n",
       "    </tr>\n",
       "    <tr>\n",
       "      <td>1</td>\n",
       "      <td>Italy</td>\n",
       "      <td>59138</td>\n",
       "      <td>5560.0</td>\n",
       "      <td>5476.0</td>\n",
       "      <td>651.0</td>\n",
       "      <td>7024.0</td>\n",
       "      <td>46638</td>\n",
       "      <td>3000.0</td>\n",
       "      <td>978.0</td>\n",
       "      <td>1.0</td>\n",
       "    </tr>\n",
       "    <tr>\n",
       "      <td>2</td>\n",
       "      <td>USA</td>\n",
       "      <td>38167</td>\n",
       "      <td>13960.0</td>\n",
       "      <td>396.0</td>\n",
       "      <td>94.0</td>\n",
       "      <td>178.0</td>\n",
       "      <td>37593</td>\n",
       "      <td>708.0</td>\n",
       "      <td>115.0</td>\n",
       "      <td>6.0</td>\n",
       "    </tr>\n",
       "    <tr>\n",
       "      <td>3</td>\n",
       "      <td>Spain</td>\n",
       "      <td>28603</td>\n",
       "      <td>3107.0</td>\n",
       "      <td>1756.0</td>\n",
       "      <td>375.0</td>\n",
       "      <td>2125.0</td>\n",
       "      <td>24722</td>\n",
       "      <td>1785.0</td>\n",
       "      <td>612.0</td>\n",
       "      <td>3.0</td>\n",
       "    </tr>\n",
       "    <tr>\n",
       "      <td>4</td>\n",
       "      <td>Germany</td>\n",
       "      <td>24806</td>\n",
       "      <td>2442.0</td>\n",
       "      <td>93.0</td>\n",
       "      <td>9.0</td>\n",
       "      <td>266.0</td>\n",
       "      <td>24447</td>\n",
       "      <td>2.0</td>\n",
       "      <td>296.0</td>\n",
       "      <td>11.0</td>\n",
       "    </tr>\n",
       "  </tbody>\n",
       "</table>\n",
       "</div>"
      ],
      "text/plain": [
       "   Country  TotalCases  NewCases  TotalDeaths  NewDeaths  TotalRecovered  \\\n",
       "0    China       81054      46.0       3261.0        6.0         72440.0   \n",
       "1    Italy       59138    5560.0       5476.0      651.0          7024.0   \n",
       "2      USA       38167   13960.0        396.0       94.0           178.0   \n",
       "3    Spain       28603    3107.0       1756.0      375.0          2125.0   \n",
       "4  Germany       24806    2442.0         93.0        9.0           266.0   \n",
       "\n",
       "   ActiveCases  Serious,Critical  Tot Cases/1M pop  Rank_Deaths  \n",
       "0         5353            1845.0              56.0          2.0  \n",
       "1        46638            3000.0             978.0          1.0  \n",
       "2        37593             708.0             115.0          6.0  \n",
       "3        24722            1785.0             612.0          3.0  \n",
       "4        24447               2.0             296.0         11.0  "
      ]
     },
     "execution_count": 113,
     "metadata": {},
     "output_type": "execute_result"
    }
   ],
   "source": [
    "dff['Rank_Deaths']=dff[\"TotalDeaths\"].rank(ascending=False,method='dense',axis=0)\n",
    "dff.head()"
   ]
  },
  {
   "cell_type": "code",
   "execution_count": 114,
   "metadata": {},
   "outputs": [
    {
     "name": "stdout",
     "output_type": "stream",
     "text": [
      "The rank of INDIA in their Death Cases 26 out of 33\n"
     ]
    }
   ],
   "source": [
    "f=dff[dff['Country']=='India'].Rank_Deaths\n",
    "print(\"The rank of INDIA in their Death Cases %d out of %d\" %(f,dff['Rank_Deaths'].max()))\n"
   ]
  },
  {
   "cell_type": "code",
   "execution_count": 118,
   "metadata": {},
   "outputs": [
    {
     "name": "stdout",
     "output_type": "stream",
     "text": [
      "The countries whose death rate is low: \n",
      "\n",
      "['Norway', 'Australia', 'Poland', 'India']\n"
     ]
    }
   ],
   "source": [
    "print('The countries whose death rate is low: ')\n",
    "print()\n",
    "g=dff[\"Country\"][dff[\"Rank_Deaths\"]==26]\n",
    "print(list(g.unique()))"
   ]
  },
  {
   "cell_type": "code",
   "execution_count": 117,
   "metadata": {},
   "outputs": [
    {
     "data": {
      "application/vnd.plotly.v1+json": {
       "config": {
        "plotlyServerURL": "https://plot.ly"
       },
       "data": [
        {
         "autocolorscale": false,
         "colorscale": [
          [
           0,
           "rgb(243, 231, 155)"
          ],
          [
           0.16666666666666666,
           "rgb(250, 196, 132)"
          ],
          [
           0.3333333333333333,
           "rgb(248, 160, 126)"
          ],
          [
           0.5,
           "rgb(235, 127, 134)"
          ],
          [
           0.6666666666666666,
           "rgb(206, 102, 147)"
          ],
          [
           0.8333333333333334,
           "rgb(160, 89, 160)"
          ],
          [
           1,
           "rgb(92, 83, 165)"
          ]
         ],
         "geo": "geo",
         "locationmode": "country names",
         "locations": [
          "China",
          "Italy",
          "USA",
          "Spain",
          "Germany",
          "Iran",
          "France",
          "S. Korea",
          "Switzerland",
          "UK",
          "Netherlands",
          "Belgium",
          "Austria",
          "Norway",
          "Sweden",
          "Portugal",
          "Canada",
          "Denmark",
          "Australia",
          "Malaysia",
          "Brazil",
          "Czechia",
          "Japan",
          "Turkey",
          "Israel",
          "Luxembourg",
          "Ecuador",
          "Ireland",
          "Diamond Princess",
          "Pakistan",
          "Chile",
          "Poland",
          "Finland",
          "Greece",
          "Thailand",
          "Iceland",
          "Indonesia",
          "Saudi Arabia",
          "Qatar",
          "Singapore",
          "Romania",
          "Slovenia",
          "India",
          "Philippines",
          "Russia",
          "Peru",
          "Bahrain",
          "Estonia",
          "Hong Kong",
          "Egypt",
          "Croatia",
          "Mexico",
          "Lebanon",
          "Panama",
          "South Africa",
          "Iraq",
          "Colombia",
          "Argentina",
          "Serbia",
          "Dominican Republic",
          "Algeria",
          "Armenia",
          "Kuwait",
          "Bulgaria",
          "Slovakia",
          "San Marino",
          "Taiwan",
          "UAE",
          "Latvia",
          "Uruguay",
          "Hungary",
          "Lithuania",
          "Costa Rica",
          "North Macedonia",
          "Faeroe Islands",
          "Andorra",
          "Vietnam",
          "Jordan",
          "Morocco",
          "Cyprus",
          "Bosnia and Herzegovina",
          "Moldova",
          "Malta",
          "Albania",
          "Brunei",
          "Cambodia",
          "Sri Lanka",
          "Belarus",
          "Burkina Faso",
          "Tunisia",
          "Venezuela",
          "New Zealand",
          "Azerbaijan",
          "Kazakhstan",
          "Palestine",
          "Senegal",
          "Guadeloupe",
          "Oman",
          "Georgia",
          "Trinidad and Tobago",
          "Ukraine",
          "Réunion",
          "Uzbekistan",
          "Cameroon",
          "Martinique",
          "Liechtenstein",
          "Cuba",
          "Afghanistan",
          "Channel Islands",
          "Nigeria",
          "DRC",
          "Bangladesh",
          "Guam",
          "Honduras",
          "Mauritius",
          "Bolivia",
          "Puerto Rico",
          "Paraguay",
          "Macao",
          "Ghana",
          "Jamaica",
          "French Guiana",
          "Guyana",
          "Monaco",
          "Guatemala",
          "Rwanda",
          "Montenegro",
          "Togo",
          "French Polynesia",
          "Gibraltar",
          "Kenya",
          "Barbados",
          "Ivory Coast",
          "Kyrgyzstan",
          "Maldives",
          "Tanzania",
          "Ethiopia",
          "Mayotte",
          "Mongolia",
          "Aruba",
          "Seychelles",
          "Equatorial Guinea",
          "U.S. Virgin Islands",
          "Saint Martin",
          "Suriname",
          "Gabon",
          "Isle of Man",
          "New Caledonia",
          "Eswatini",
          "Bahamas",
          "Liberia",
          "Zimbabwe",
          "Zambia",
          "St. Barth",
          "Namibia",
          "Madagascar",
          "El Salvador",
          "Congo",
          "CAR",
          "Cabo Verde",
          "Curaçao",
          "Cayman Islands",
          "Saint Lucia",
          "Niger",
          "Nicaragua",
          "Mauritania",
          "Haiti",
          "Guinea",
          "Greenland",
          "Fiji",
          "Bermuda",
          "Benin",
          "Angola",
          "Sudan",
          "Bhutan",
          "Montserrat",
          "Timor-Leste",
          "Somalia",
          "Sint Maarten",
          "St. Vincent Grenadines",
          "Papua New Guinea",
          "Mozambique",
          "Eritrea",
          "Vatican City",
          "Gambia",
          "Djibouti",
          "Chad",
          "Antigua and Barbuda",
          "Nepal",
          "Uganda"
         ],
         "showscale": true,
         "text": [
          "China",
          "Italy",
          "USA",
          "Spain",
          "Germany",
          "Iran",
          "France",
          "S. Korea",
          "Switzerland",
          "UK",
          "Netherlands",
          "Belgium",
          "Austria",
          "Norway",
          "Sweden",
          "Portugal",
          "Canada",
          "Denmark",
          "Australia",
          "Malaysia",
          "Brazil",
          "Czechia",
          "Japan",
          "Turkey",
          "Israel",
          "Luxembourg",
          "Ecuador",
          "Ireland",
          "Diamond Princess",
          "Pakistan",
          "Chile",
          "Poland",
          "Finland",
          "Greece",
          "Thailand",
          "Iceland",
          "Indonesia",
          "Saudi Arabia",
          "Qatar",
          "Singapore",
          "Romania",
          "Slovenia",
          "India",
          "Philippines",
          "Russia",
          "Peru",
          "Bahrain",
          "Estonia",
          "Hong Kong",
          "Egypt",
          "Croatia",
          "Mexico",
          "Lebanon",
          "Panama",
          "South Africa",
          "Iraq",
          "Colombia",
          "Argentina",
          "Serbia",
          "Dominican Republic",
          "Algeria",
          "Armenia",
          "Kuwait",
          "Bulgaria",
          "Slovakia",
          "San Marino",
          "Taiwan",
          "UAE",
          "Latvia",
          "Uruguay",
          "Hungary",
          "Lithuania",
          "Costa Rica",
          "North Macedonia",
          "Faeroe Islands",
          "Andorra",
          "Vietnam",
          "Jordan",
          "Morocco",
          "Cyprus",
          "Bosnia and Herzegovina",
          "Moldova",
          "Malta",
          "Albania",
          "Brunei",
          "Cambodia",
          "Sri Lanka",
          "Belarus",
          "Burkina Faso",
          "Tunisia",
          "Venezuela",
          "New Zealand",
          "Azerbaijan",
          "Kazakhstan",
          "Palestine",
          "Senegal",
          "Guadeloupe",
          "Oman",
          "Georgia",
          "Trinidad and Tobago",
          "Ukraine",
          "Réunion",
          "Uzbekistan",
          "Cameroon",
          "Martinique",
          "Liechtenstein",
          "Cuba",
          "Afghanistan",
          "Channel Islands",
          "Nigeria",
          "DRC",
          "Bangladesh",
          "Guam",
          "Honduras",
          "Mauritius",
          "Bolivia",
          "Puerto Rico",
          "Paraguay",
          "Macao",
          "Ghana",
          "Jamaica",
          "French Guiana",
          "Guyana",
          "Monaco",
          "Guatemala",
          "Rwanda",
          "Montenegro",
          "Togo",
          "French Polynesia",
          "Gibraltar",
          "Kenya",
          "Barbados",
          "Ivory Coast",
          "Kyrgyzstan",
          "Maldives",
          "Tanzania",
          "Ethiopia",
          "Mayotte",
          "Mongolia",
          "Aruba",
          "Seychelles",
          "Equatorial Guinea",
          "U.S. Virgin Islands",
          "Saint Martin",
          "Suriname",
          "Gabon",
          "Isle of Man",
          "New Caledonia",
          "Eswatini",
          "Bahamas",
          "Liberia",
          "Zimbabwe",
          "Zambia",
          "St. Barth",
          "Namibia",
          "Madagascar",
          "El Salvador",
          "Congo",
          "CAR",
          "Cabo Verde",
          "Curaçao",
          "Cayman Islands",
          "Saint Lucia",
          "Niger",
          "Nicaragua",
          "Mauritania",
          "Haiti",
          "Guinea",
          "Greenland",
          "Fiji",
          "Bermuda",
          "Benin",
          "Angola",
          "Sudan",
          "Bhutan",
          "Montserrat",
          "Timor-Leste",
          "Somalia",
          "Sint Maarten",
          "St. Vincent Grenadines",
          "Papua New Guinea",
          "Mozambique",
          "Eritrea",
          "Vatican City",
          "Gambia",
          "Djibouti",
          "Chad",
          "Antigua and Barbuda",
          "Nepal",
          "Uganda"
         ],
         "type": "choropleth",
         "z": [
          81054,
          59138,
          38167,
          28603,
          24806,
          21638,
          14459,
          8897,
          7474,
          5683,
          4204,
          3401,
          3302,
          2263,
          1931,
          1600,
          1426,
          1395,
          1353,
          1306,
          1209,
          1120,
          1086,
          947,
          945,
          798,
          789,
          785,
          712,
          646,
          632,
          627,
          626,
          624,
          599,
          568,
          514,
          511,
          481,
          455,
          433,
          414,
          396,
          380,
          367,
          363,
          332,
          326,
          317,
          294,
          254,
          251,
          248,
          245,
          240,
          233,
          231,
          225,
          222,
          202,
          201,
          194,
          188,
          185,
          185,
          175,
          169,
          153,
          139,
          135,
          131,
          129,
          117,
          115,
          115,
          113,
          113,
          112,
          109,
          95,
          94,
          94,
          90,
          89,
          88,
          84,
          82,
          76,
          75,
          75,
          70,
          66,
          65,
          59,
          59,
          56,
          56,
          55,
          54,
          50,
          47,
          47,
          43,
          40,
          37,
          37,
          35,
          34,
          32,
          30,
          30,
          27,
          27,
          26,
          24,
          24,
          23,
          22,
          22,
          21,
          19,
          18,
          18,
          18,
          17,
          17,
          16,
          16,
          15,
          15,
          15,
          14,
          14,
          14,
          13,
          12,
          11,
          11,
          10,
          8,
          7,
          6,
          6,
          5,
          5,
          5,
          5,
          4,
          4,
          4,
          3,
          3,
          3,
          3,
          3,
          3,
          3,
          3,
          3,
          3,
          3,
          3,
          2,
          2,
          2,
          2,
          2,
          2,
          2,
          2,
          2,
          2,
          2,
          2,
          2,
          1,
          1,
          1,
          1,
          1,
          1,
          1,
          1,
          1,
          1,
          1,
          1,
          1,
          1,
          1
         ]
        }
       ],
       "layout": {
        "template": {
         "data": {
          "bar": [
           {
            "error_x": {
             "color": "#2a3f5f"
            },
            "error_y": {
             "color": "#2a3f5f"
            },
            "marker": {
             "line": {
              "color": "#E5ECF6",
              "width": 0.5
             }
            },
            "type": "bar"
           }
          ],
          "barpolar": [
           {
            "marker": {
             "line": {
              "color": "#E5ECF6",
              "width": 0.5
             }
            },
            "type": "barpolar"
           }
          ],
          "carpet": [
           {
            "aaxis": {
             "endlinecolor": "#2a3f5f",
             "gridcolor": "white",
             "linecolor": "white",
             "minorgridcolor": "white",
             "startlinecolor": "#2a3f5f"
            },
            "baxis": {
             "endlinecolor": "#2a3f5f",
             "gridcolor": "white",
             "linecolor": "white",
             "minorgridcolor": "white",
             "startlinecolor": "#2a3f5f"
            },
            "type": "carpet"
           }
          ],
          "choropleth": [
           {
            "colorbar": {
             "outlinewidth": 0,
             "ticks": ""
            },
            "type": "choropleth"
           }
          ],
          "contour": [
           {
            "colorbar": {
             "outlinewidth": 0,
             "ticks": ""
            },
            "colorscale": [
             [
              0,
              "#0d0887"
             ],
             [
              0.1111111111111111,
              "#46039f"
             ],
             [
              0.2222222222222222,
              "#7201a8"
             ],
             [
              0.3333333333333333,
              "#9c179e"
             ],
             [
              0.4444444444444444,
              "#bd3786"
             ],
             [
              0.5555555555555556,
              "#d8576b"
             ],
             [
              0.6666666666666666,
              "#ed7953"
             ],
             [
              0.7777777777777778,
              "#fb9f3a"
             ],
             [
              0.8888888888888888,
              "#fdca26"
             ],
             [
              1,
              "#f0f921"
             ]
            ],
            "type": "contour"
           }
          ],
          "contourcarpet": [
           {
            "colorbar": {
             "outlinewidth": 0,
             "ticks": ""
            },
            "type": "contourcarpet"
           }
          ],
          "heatmap": [
           {
            "colorbar": {
             "outlinewidth": 0,
             "ticks": ""
            },
            "colorscale": [
             [
              0,
              "#0d0887"
             ],
             [
              0.1111111111111111,
              "#46039f"
             ],
             [
              0.2222222222222222,
              "#7201a8"
             ],
             [
              0.3333333333333333,
              "#9c179e"
             ],
             [
              0.4444444444444444,
              "#bd3786"
             ],
             [
              0.5555555555555556,
              "#d8576b"
             ],
             [
              0.6666666666666666,
              "#ed7953"
             ],
             [
              0.7777777777777778,
              "#fb9f3a"
             ],
             [
              0.8888888888888888,
              "#fdca26"
             ],
             [
              1,
              "#f0f921"
             ]
            ],
            "type": "heatmap"
           }
          ],
          "heatmapgl": [
           {
            "colorbar": {
             "outlinewidth": 0,
             "ticks": ""
            },
            "colorscale": [
             [
              0,
              "#0d0887"
             ],
             [
              0.1111111111111111,
              "#46039f"
             ],
             [
              0.2222222222222222,
              "#7201a8"
             ],
             [
              0.3333333333333333,
              "#9c179e"
             ],
             [
              0.4444444444444444,
              "#bd3786"
             ],
             [
              0.5555555555555556,
              "#d8576b"
             ],
             [
              0.6666666666666666,
              "#ed7953"
             ],
             [
              0.7777777777777778,
              "#fb9f3a"
             ],
             [
              0.8888888888888888,
              "#fdca26"
             ],
             [
              1,
              "#f0f921"
             ]
            ],
            "type": "heatmapgl"
           }
          ],
          "histogram": [
           {
            "marker": {
             "colorbar": {
              "outlinewidth": 0,
              "ticks": ""
             }
            },
            "type": "histogram"
           }
          ],
          "histogram2d": [
           {
            "colorbar": {
             "outlinewidth": 0,
             "ticks": ""
            },
            "colorscale": [
             [
              0,
              "#0d0887"
             ],
             [
              0.1111111111111111,
              "#46039f"
             ],
             [
              0.2222222222222222,
              "#7201a8"
             ],
             [
              0.3333333333333333,
              "#9c179e"
             ],
             [
              0.4444444444444444,
              "#bd3786"
             ],
             [
              0.5555555555555556,
              "#d8576b"
             ],
             [
              0.6666666666666666,
              "#ed7953"
             ],
             [
              0.7777777777777778,
              "#fb9f3a"
             ],
             [
              0.8888888888888888,
              "#fdca26"
             ],
             [
              1,
              "#f0f921"
             ]
            ],
            "type": "histogram2d"
           }
          ],
          "histogram2dcontour": [
           {
            "colorbar": {
             "outlinewidth": 0,
             "ticks": ""
            },
            "colorscale": [
             [
              0,
              "#0d0887"
             ],
             [
              0.1111111111111111,
              "#46039f"
             ],
             [
              0.2222222222222222,
              "#7201a8"
             ],
             [
              0.3333333333333333,
              "#9c179e"
             ],
             [
              0.4444444444444444,
              "#bd3786"
             ],
             [
              0.5555555555555556,
              "#d8576b"
             ],
             [
              0.6666666666666666,
              "#ed7953"
             ],
             [
              0.7777777777777778,
              "#fb9f3a"
             ],
             [
              0.8888888888888888,
              "#fdca26"
             ],
             [
              1,
              "#f0f921"
             ]
            ],
            "type": "histogram2dcontour"
           }
          ],
          "mesh3d": [
           {
            "colorbar": {
             "outlinewidth": 0,
             "ticks": ""
            },
            "type": "mesh3d"
           }
          ],
          "parcoords": [
           {
            "line": {
             "colorbar": {
              "outlinewidth": 0,
              "ticks": ""
             }
            },
            "type": "parcoords"
           }
          ],
          "pie": [
           {
            "automargin": true,
            "type": "pie"
           }
          ],
          "scatter": [
           {
            "marker": {
             "colorbar": {
              "outlinewidth": 0,
              "ticks": ""
             }
            },
            "type": "scatter"
           }
          ],
          "scatter3d": [
           {
            "line": {
             "colorbar": {
              "outlinewidth": 0,
              "ticks": ""
             }
            },
            "marker": {
             "colorbar": {
              "outlinewidth": 0,
              "ticks": ""
             }
            },
            "type": "scatter3d"
           }
          ],
          "scattercarpet": [
           {
            "marker": {
             "colorbar": {
              "outlinewidth": 0,
              "ticks": ""
             }
            },
            "type": "scattercarpet"
           }
          ],
          "scattergeo": [
           {
            "marker": {
             "colorbar": {
              "outlinewidth": 0,
              "ticks": ""
             }
            },
            "type": "scattergeo"
           }
          ],
          "scattergl": [
           {
            "marker": {
             "colorbar": {
              "outlinewidth": 0,
              "ticks": ""
             }
            },
            "type": "scattergl"
           }
          ],
          "scattermapbox": [
           {
            "marker": {
             "colorbar": {
              "outlinewidth": 0,
              "ticks": ""
             }
            },
            "type": "scattermapbox"
           }
          ],
          "scatterpolar": [
           {
            "marker": {
             "colorbar": {
              "outlinewidth": 0,
              "ticks": ""
             }
            },
            "type": "scatterpolar"
           }
          ],
          "scatterpolargl": [
           {
            "marker": {
             "colorbar": {
              "outlinewidth": 0,
              "ticks": ""
             }
            },
            "type": "scatterpolargl"
           }
          ],
          "scatterternary": [
           {
            "marker": {
             "colorbar": {
              "outlinewidth": 0,
              "ticks": ""
             }
            },
            "type": "scatterternary"
           }
          ],
          "surface": [
           {
            "colorbar": {
             "outlinewidth": 0,
             "ticks": ""
            },
            "colorscale": [
             [
              0,
              "#0d0887"
             ],
             [
              0.1111111111111111,
              "#46039f"
             ],
             [
              0.2222222222222222,
              "#7201a8"
             ],
             [
              0.3333333333333333,
              "#9c179e"
             ],
             [
              0.4444444444444444,
              "#bd3786"
             ],
             [
              0.5555555555555556,
              "#d8576b"
             ],
             [
              0.6666666666666666,
              "#ed7953"
             ],
             [
              0.7777777777777778,
              "#fb9f3a"
             ],
             [
              0.8888888888888888,
              "#fdca26"
             ],
             [
              1,
              "#f0f921"
             ]
            ],
            "type": "surface"
           }
          ],
          "table": [
           {
            "cells": {
             "fill": {
              "color": "#EBF0F8"
             },
             "line": {
              "color": "white"
             }
            },
            "header": {
             "fill": {
              "color": "#C8D4E3"
             },
             "line": {
              "color": "white"
             }
            },
            "type": "table"
           }
          ]
         },
         "layout": {
          "annotationdefaults": {
           "arrowcolor": "#2a3f5f",
           "arrowhead": 0,
           "arrowwidth": 1
          },
          "coloraxis": {
           "colorbar": {
            "outlinewidth": 0,
            "ticks": ""
           }
          },
          "colorscale": {
           "diverging": [
            [
             0,
             "#8e0152"
            ],
            [
             0.1,
             "#c51b7d"
            ],
            [
             0.2,
             "#de77ae"
            ],
            [
             0.3,
             "#f1b6da"
            ],
            [
             0.4,
             "#fde0ef"
            ],
            [
             0.5,
             "#f7f7f7"
            ],
            [
             0.6,
             "#e6f5d0"
            ],
            [
             0.7,
             "#b8e186"
            ],
            [
             0.8,
             "#7fbc41"
            ],
            [
             0.9,
             "#4d9221"
            ],
            [
             1,
             "#276419"
            ]
           ],
           "sequential": [
            [
             0,
             "#0d0887"
            ],
            [
             0.1111111111111111,
             "#46039f"
            ],
            [
             0.2222222222222222,
             "#7201a8"
            ],
            [
             0.3333333333333333,
             "#9c179e"
            ],
            [
             0.4444444444444444,
             "#bd3786"
            ],
            [
             0.5555555555555556,
             "#d8576b"
            ],
            [
             0.6666666666666666,
             "#ed7953"
            ],
            [
             0.7777777777777778,
             "#fb9f3a"
            ],
            [
             0.8888888888888888,
             "#fdca26"
            ],
            [
             1,
             "#f0f921"
            ]
           ],
           "sequentialminus": [
            [
             0,
             "#0d0887"
            ],
            [
             0.1111111111111111,
             "#46039f"
            ],
            [
             0.2222222222222222,
             "#7201a8"
            ],
            [
             0.3333333333333333,
             "#9c179e"
            ],
            [
             0.4444444444444444,
             "#bd3786"
            ],
            [
             0.5555555555555556,
             "#d8576b"
            ],
            [
             0.6666666666666666,
             "#ed7953"
            ],
            [
             0.7777777777777778,
             "#fb9f3a"
            ],
            [
             0.8888888888888888,
             "#fdca26"
            ],
            [
             1,
             "#f0f921"
            ]
           ]
          },
          "colorway": [
           "#636efa",
           "#EF553B",
           "#00cc96",
           "#ab63fa",
           "#FFA15A",
           "#19d3f3",
           "#FF6692",
           "#B6E880",
           "#FF97FF",
           "#FECB52"
          ],
          "font": {
           "color": "#2a3f5f"
          },
          "geo": {
           "bgcolor": "white",
           "lakecolor": "white",
           "landcolor": "#E5ECF6",
           "showlakes": true,
           "showland": true,
           "subunitcolor": "white"
          },
          "hoverlabel": {
           "align": "left"
          },
          "hovermode": "closest",
          "mapbox": {
           "style": "light"
          },
          "paper_bgcolor": "white",
          "plot_bgcolor": "#E5ECF6",
          "polar": {
           "angularaxis": {
            "gridcolor": "white",
            "linecolor": "white",
            "ticks": ""
           },
           "bgcolor": "#E5ECF6",
           "radialaxis": {
            "gridcolor": "white",
            "linecolor": "white",
            "ticks": ""
           }
          },
          "scene": {
           "xaxis": {
            "backgroundcolor": "#E5ECF6",
            "gridcolor": "white",
            "gridwidth": 2,
            "linecolor": "white",
            "showbackground": true,
            "ticks": "",
            "zerolinecolor": "white"
           },
           "yaxis": {
            "backgroundcolor": "#E5ECF6",
            "gridcolor": "white",
            "gridwidth": 2,
            "linecolor": "white",
            "showbackground": true,
            "ticks": "",
            "zerolinecolor": "white"
           },
           "zaxis": {
            "backgroundcolor": "#E5ECF6",
            "gridcolor": "white",
            "gridwidth": 2,
            "linecolor": "white",
            "showbackground": true,
            "ticks": "",
            "zerolinecolor": "white"
           }
          },
          "shapedefaults": {
           "line": {
            "color": "#2a3f5f"
           }
          },
          "ternary": {
           "aaxis": {
            "gridcolor": "white",
            "linecolor": "white",
            "ticks": ""
           },
           "baxis": {
            "gridcolor": "white",
            "linecolor": "white",
            "ticks": ""
           },
           "bgcolor": "#E5ECF6",
           "caxis": {
            "gridcolor": "white",
            "linecolor": "white",
            "ticks": ""
           }
          },
          "title": {
           "x": 0.05
          },
          "xaxis": {
           "automargin": true,
           "gridcolor": "white",
           "linecolor": "white",
           "ticks": "",
           "title": {
            "standoff": 15
           },
           "zerolinecolor": "white",
           "zerolinewidth": 2
          },
          "yaxis": {
           "automargin": true,
           "gridcolor": "white",
           "linecolor": "white",
           "ticks": "",
           "title": {
            "standoff": 15
           },
           "zerolinecolor": "white",
           "zerolinewidth": 2
          }
         }
        },
        "title": {
         "text": "Corona virus affected countries"
        }
       }
      },
      "text/html": [
       "<div>\n",
       "        \n",
       "        \n",
       "            <div id=\"8f9bb033-d25a-43ac-a523-8e45ef91c153\" class=\"plotly-graph-div\" style=\"height:525px; width:100%;\"></div>\n",
       "            <script type=\"text/javascript\">\n",
       "                require([\"plotly\"], function(Plotly) {\n",
       "                    window.PLOTLYENV=window.PLOTLYENV || {};\n",
       "                    \n",
       "                if (document.getElementById(\"8f9bb033-d25a-43ac-a523-8e45ef91c153\")) {\n",
       "                    Plotly.newPlot(\n",
       "                        '8f9bb033-d25a-43ac-a523-8e45ef91c153',\n",
       "                        [{\"autocolorscale\": false, \"colorscale\": [[0.0, \"rgb(243, 231, 155)\"], [0.16666666666666666, \"rgb(250, 196, 132)\"], [0.3333333333333333, \"rgb(248, 160, 126)\"], [0.5, \"rgb(235, 127, 134)\"], [0.6666666666666666, \"rgb(206, 102, 147)\"], [0.8333333333333334, \"rgb(160, 89, 160)\"], [1.0, \"rgb(92, 83, 165)\"]], \"geo\": \"geo\", \"locationmode\": \"country names\", \"locations\": [\"China\", \"Italy\", \"USA\", \"Spain\", \"Germany\", \"Iran\", \"France\", \"S. Korea\", \"Switzerland\", \"UK\", \"Netherlands\", \"Belgium\", \"Austria\", \"Norway\", \"Sweden\", \"Portugal\", \"Canada\", \"Denmark\", \"Australia\", \"Malaysia\", \"Brazil\", \"Czechia\", \"Japan\", \"Turkey\", \"Israel\", \"Luxembourg\", \"Ecuador\", \"Ireland\", \"Diamond Princess\", \"Pakistan\", \"Chile\", \"Poland\", \"Finland\", \"Greece\", \"Thailand\", \"Iceland\", \"Indonesia\", \"Saudi Arabia\", \"Qatar\", \"Singapore\", \"Romania\", \"Slovenia\", \"India\", \"Philippines\", \"Russia\", \"Peru\", \"Bahrain\", \"Estonia\", \"Hong Kong\", \"Egypt\", \"Croatia\", \"Mexico\", \"Lebanon\", \"Panama\", \"South Africa\", \"Iraq\", \"Colombia\", \"Argentina\", \"Serbia\", \"Dominican Republic\", \"Algeria\", \"Armenia\", \"Kuwait\", \"Bulgaria\", \"Slovakia\", \"San Marino\", \"Taiwan\", \"UAE\", \"Latvia\", \"Uruguay\", \"Hungary\", \"Lithuania\", \"Costa Rica\", \"North Macedonia\", \"Faeroe Islands\", \"Andorra\", \"Vietnam\", \"Jordan\", \"Morocco\", \"Cyprus\", \"Bosnia and Herzegovina\", \"Moldova\", \"Malta\", \"Albania\", \"Brunei\", \"Cambodia\", \"Sri Lanka\", \"Belarus\", \"Burkina Faso\", \"Tunisia\", \"Venezuela\", \"New Zealand\", \"Azerbaijan\", \"Kazakhstan\", \"Palestine\", \"Senegal\", \"Guadeloupe\", \"Oman\", \"Georgia\", \"Trinidad and Tobago\", \"Ukraine\", \"R\\u00e9union\", \"Uzbekistan\", \"Cameroon\", \"Martinique\", \"Liechtenstein\", \"Cuba\", \"Afghanistan\", \"Channel Islands\", \"Nigeria\", \"DRC\", \"Bangladesh\", \"Guam\", \"Honduras\", \"Mauritius\", \"Bolivia\", \"Puerto Rico\", \"Paraguay\", \"Macao\", \"Ghana\", \"Jamaica\", \"French Guiana\", \"Guyana\", \"Monaco\", \"Guatemala\", \"Rwanda\", \"Montenegro\", \"Togo\", \"French Polynesia\", \"Gibraltar\", \"Kenya\", \"Barbados\", \"Ivory Coast\", \"Kyrgyzstan\", \"Maldives\", \"Tanzania\", \"Ethiopia\", \"Mayotte\", \"Mongolia\", \"Aruba\", \"Seychelles\", \"Equatorial Guinea\", \"U.S. Virgin Islands\", \"Saint Martin\", \"Suriname\", \"Gabon\", \"Isle of Man\", \"New Caledonia\", \"Eswatini\", \"Bahamas\", \"Liberia\", \"Zimbabwe\", \"Zambia\", \"St. Barth\", \"Namibia\", \"Madagascar\", \"El Salvador\", \"Congo\", \"CAR\", \"Cabo Verde\", \"Cura\\u00e7ao\", \"Cayman Islands\", \"Saint Lucia\", \"Niger\", \"Nicaragua\", \"Mauritania\", \"Haiti\", \"Guinea\", \"Greenland\", \"Fiji\", \"Bermuda\", \"Benin\", \"Angola\", \"Sudan\", \"Bhutan\", \"Montserrat\", \"Timor-Leste\", \"Somalia\", \"Sint Maarten\", \"St. Vincent Grenadines\", \"Papua New Guinea\", \"Mozambique\", \"Eritrea\", \"Vatican City\", \"Gambia\", \"Djibouti\", \"Chad\", \"Antigua and Barbuda\", \"Nepal\", \"Uganda\"], \"showscale\": true, \"text\": [\"China\", \"Italy\", \"USA\", \"Spain\", \"Germany\", \"Iran\", \"France\", \"S. Korea\", \"Switzerland\", \"UK\", \"Netherlands\", \"Belgium\", \"Austria\", \"Norway\", \"Sweden\", \"Portugal\", \"Canada\", \"Denmark\", \"Australia\", \"Malaysia\", \"Brazil\", \"Czechia\", \"Japan\", \"Turkey\", \"Israel\", \"Luxembourg\", \"Ecuador\", \"Ireland\", \"Diamond Princess\", \"Pakistan\", \"Chile\", \"Poland\", \"Finland\", \"Greece\", \"Thailand\", \"Iceland\", \"Indonesia\", \"Saudi Arabia\", \"Qatar\", \"Singapore\", \"Romania\", \"Slovenia\", \"India\", \"Philippines\", \"Russia\", \"Peru\", \"Bahrain\", \"Estonia\", \"Hong Kong\", \"Egypt\", \"Croatia\", \"Mexico\", \"Lebanon\", \"Panama\", \"South Africa\", \"Iraq\", \"Colombia\", \"Argentina\", \"Serbia\", \"Dominican Republic\", \"Algeria\", \"Armenia\", \"Kuwait\", \"Bulgaria\", \"Slovakia\", \"San Marino\", \"Taiwan\", \"UAE\", \"Latvia\", \"Uruguay\", \"Hungary\", \"Lithuania\", \"Costa Rica\", \"North Macedonia\", \"Faeroe Islands\", \"Andorra\", \"Vietnam\", \"Jordan\", \"Morocco\", \"Cyprus\", \"Bosnia and Herzegovina\", \"Moldova\", \"Malta\", \"Albania\", \"Brunei\", \"Cambodia\", \"Sri Lanka\", \"Belarus\", \"Burkina Faso\", \"Tunisia\", \"Venezuela\", \"New Zealand\", \"Azerbaijan\", \"Kazakhstan\", \"Palestine\", \"Senegal\", \"Guadeloupe\", \"Oman\", \"Georgia\", \"Trinidad and Tobago\", \"Ukraine\", \"R\\u00e9union\", \"Uzbekistan\", \"Cameroon\", \"Martinique\", \"Liechtenstein\", \"Cuba\", \"Afghanistan\", \"Channel Islands\", \"Nigeria\", \"DRC\", \"Bangladesh\", \"Guam\", \"Honduras\", \"Mauritius\", \"Bolivia\", \"Puerto Rico\", \"Paraguay\", \"Macao\", \"Ghana\", \"Jamaica\", \"French Guiana\", \"Guyana\", \"Monaco\", \"Guatemala\", \"Rwanda\", \"Montenegro\", \"Togo\", \"French Polynesia\", \"Gibraltar\", \"Kenya\", \"Barbados\", \"Ivory Coast\", \"Kyrgyzstan\", \"Maldives\", \"Tanzania\", \"Ethiopia\", \"Mayotte\", \"Mongolia\", \"Aruba\", \"Seychelles\", \"Equatorial Guinea\", \"U.S. Virgin Islands\", \"Saint Martin\", \"Suriname\", \"Gabon\", \"Isle of Man\", \"New Caledonia\", \"Eswatini\", \"Bahamas\", \"Liberia\", \"Zimbabwe\", \"Zambia\", \"St. Barth\", \"Namibia\", \"Madagascar\", \"El Salvador\", \"Congo\", \"CAR\", \"Cabo Verde\", \"Cura\\u00e7ao\", \"Cayman Islands\", \"Saint Lucia\", \"Niger\", \"Nicaragua\", \"Mauritania\", \"Haiti\", \"Guinea\", \"Greenland\", \"Fiji\", \"Bermuda\", \"Benin\", \"Angola\", \"Sudan\", \"Bhutan\", \"Montserrat\", \"Timor-Leste\", \"Somalia\", \"Sint Maarten\", \"St. Vincent Grenadines\", \"Papua New Guinea\", \"Mozambique\", \"Eritrea\", \"Vatican City\", \"Gambia\", \"Djibouti\", \"Chad\", \"Antigua and Barbuda\", \"Nepal\", \"Uganda\"], \"type\": \"choropleth\", \"z\": [81054, 59138, 38167, 28603, 24806, 21638, 14459, 8897, 7474, 5683, 4204, 3401, 3302, 2263, 1931, 1600, 1426, 1395, 1353, 1306, 1209, 1120, 1086, 947, 945, 798, 789, 785, 712, 646, 632, 627, 626, 624, 599, 568, 514, 511, 481, 455, 433, 414, 396, 380, 367, 363, 332, 326, 317, 294, 254, 251, 248, 245, 240, 233, 231, 225, 222, 202, 201, 194, 188, 185, 185, 175, 169, 153, 139, 135, 131, 129, 117, 115, 115, 113, 113, 112, 109, 95, 94, 94, 90, 89, 88, 84, 82, 76, 75, 75, 70, 66, 65, 59, 59, 56, 56, 55, 54, 50, 47, 47, 43, 40, 37, 37, 35, 34, 32, 30, 30, 27, 27, 26, 24, 24, 23, 22, 22, 21, 19, 18, 18, 18, 17, 17, 16, 16, 15, 15, 15, 14, 14, 14, 13, 12, 11, 11, 10, 8, 7, 6, 6, 5, 5, 5, 5, 4, 4, 4, 3, 3, 3, 3, 3, 3, 3, 3, 3, 3, 3, 3, 2, 2, 2, 2, 2, 2, 2, 2, 2, 2, 2, 2, 2, 1, 1, 1, 1, 1, 1, 1, 1, 1, 1, 1, 1, 1, 1, 1]}],\n",
       "                        {\"template\": {\"data\": {\"bar\": [{\"error_x\": {\"color\": \"#2a3f5f\"}, \"error_y\": {\"color\": \"#2a3f5f\"}, \"marker\": {\"line\": {\"color\": \"#E5ECF6\", \"width\": 0.5}}, \"type\": \"bar\"}], \"barpolar\": [{\"marker\": {\"line\": {\"color\": \"#E5ECF6\", \"width\": 0.5}}, \"type\": \"barpolar\"}], \"carpet\": [{\"aaxis\": {\"endlinecolor\": \"#2a3f5f\", \"gridcolor\": \"white\", \"linecolor\": \"white\", \"minorgridcolor\": \"white\", \"startlinecolor\": \"#2a3f5f\"}, \"baxis\": {\"endlinecolor\": \"#2a3f5f\", \"gridcolor\": \"white\", \"linecolor\": \"white\", \"minorgridcolor\": \"white\", \"startlinecolor\": \"#2a3f5f\"}, \"type\": \"carpet\"}], \"choropleth\": [{\"colorbar\": {\"outlinewidth\": 0, \"ticks\": \"\"}, \"type\": \"choropleth\"}], \"contour\": [{\"colorbar\": {\"outlinewidth\": 0, \"ticks\": \"\"}, \"colorscale\": [[0.0, \"#0d0887\"], [0.1111111111111111, \"#46039f\"], [0.2222222222222222, \"#7201a8\"], [0.3333333333333333, \"#9c179e\"], [0.4444444444444444, \"#bd3786\"], [0.5555555555555556, \"#d8576b\"], [0.6666666666666666, \"#ed7953\"], [0.7777777777777778, \"#fb9f3a\"], [0.8888888888888888, \"#fdca26\"], [1.0, \"#f0f921\"]], \"type\": \"contour\"}], \"contourcarpet\": [{\"colorbar\": {\"outlinewidth\": 0, \"ticks\": \"\"}, \"type\": \"contourcarpet\"}], \"heatmap\": [{\"colorbar\": {\"outlinewidth\": 0, \"ticks\": \"\"}, \"colorscale\": [[0.0, \"#0d0887\"], [0.1111111111111111, \"#46039f\"], [0.2222222222222222, \"#7201a8\"], [0.3333333333333333, \"#9c179e\"], [0.4444444444444444, \"#bd3786\"], [0.5555555555555556, \"#d8576b\"], [0.6666666666666666, \"#ed7953\"], [0.7777777777777778, \"#fb9f3a\"], [0.8888888888888888, \"#fdca26\"], [1.0, \"#f0f921\"]], \"type\": \"heatmap\"}], \"heatmapgl\": [{\"colorbar\": {\"outlinewidth\": 0, \"ticks\": \"\"}, \"colorscale\": [[0.0, \"#0d0887\"], [0.1111111111111111, \"#46039f\"], [0.2222222222222222, \"#7201a8\"], [0.3333333333333333, \"#9c179e\"], [0.4444444444444444, \"#bd3786\"], [0.5555555555555556, \"#d8576b\"], [0.6666666666666666, \"#ed7953\"], [0.7777777777777778, \"#fb9f3a\"], [0.8888888888888888, \"#fdca26\"], [1.0, \"#f0f921\"]], \"type\": \"heatmapgl\"}], \"histogram\": [{\"marker\": {\"colorbar\": {\"outlinewidth\": 0, \"ticks\": \"\"}}, \"type\": \"histogram\"}], \"histogram2d\": [{\"colorbar\": {\"outlinewidth\": 0, \"ticks\": \"\"}, \"colorscale\": [[0.0, \"#0d0887\"], [0.1111111111111111, \"#46039f\"], [0.2222222222222222, \"#7201a8\"], [0.3333333333333333, \"#9c179e\"], [0.4444444444444444, \"#bd3786\"], [0.5555555555555556, \"#d8576b\"], [0.6666666666666666, \"#ed7953\"], [0.7777777777777778, \"#fb9f3a\"], [0.8888888888888888, \"#fdca26\"], [1.0, \"#f0f921\"]], \"type\": \"histogram2d\"}], \"histogram2dcontour\": [{\"colorbar\": {\"outlinewidth\": 0, \"ticks\": \"\"}, \"colorscale\": [[0.0, \"#0d0887\"], [0.1111111111111111, \"#46039f\"], [0.2222222222222222, \"#7201a8\"], [0.3333333333333333, \"#9c179e\"], [0.4444444444444444, \"#bd3786\"], [0.5555555555555556, \"#d8576b\"], [0.6666666666666666, \"#ed7953\"], [0.7777777777777778, \"#fb9f3a\"], [0.8888888888888888, \"#fdca26\"], [1.0, \"#f0f921\"]], \"type\": \"histogram2dcontour\"}], \"mesh3d\": [{\"colorbar\": {\"outlinewidth\": 0, \"ticks\": \"\"}, \"type\": \"mesh3d\"}], \"parcoords\": [{\"line\": {\"colorbar\": {\"outlinewidth\": 0, \"ticks\": \"\"}}, \"type\": \"parcoords\"}], \"pie\": [{\"automargin\": true, \"type\": \"pie\"}], \"scatter\": [{\"marker\": {\"colorbar\": {\"outlinewidth\": 0, \"ticks\": \"\"}}, \"type\": \"scatter\"}], \"scatter3d\": [{\"line\": {\"colorbar\": {\"outlinewidth\": 0, \"ticks\": \"\"}}, \"marker\": {\"colorbar\": {\"outlinewidth\": 0, \"ticks\": \"\"}}, \"type\": \"scatter3d\"}], \"scattercarpet\": [{\"marker\": {\"colorbar\": {\"outlinewidth\": 0, \"ticks\": \"\"}}, \"type\": \"scattercarpet\"}], \"scattergeo\": [{\"marker\": {\"colorbar\": {\"outlinewidth\": 0, \"ticks\": \"\"}}, \"type\": \"scattergeo\"}], \"scattergl\": [{\"marker\": {\"colorbar\": {\"outlinewidth\": 0, \"ticks\": \"\"}}, \"type\": \"scattergl\"}], \"scattermapbox\": [{\"marker\": {\"colorbar\": {\"outlinewidth\": 0, \"ticks\": \"\"}}, \"type\": \"scattermapbox\"}], \"scatterpolar\": [{\"marker\": {\"colorbar\": {\"outlinewidth\": 0, \"ticks\": \"\"}}, \"type\": \"scatterpolar\"}], \"scatterpolargl\": [{\"marker\": {\"colorbar\": {\"outlinewidth\": 0, \"ticks\": \"\"}}, \"type\": \"scatterpolargl\"}], \"scatterternary\": [{\"marker\": {\"colorbar\": {\"outlinewidth\": 0, \"ticks\": \"\"}}, \"type\": \"scatterternary\"}], \"surface\": [{\"colorbar\": {\"outlinewidth\": 0, \"ticks\": \"\"}, \"colorscale\": [[0.0, \"#0d0887\"], [0.1111111111111111, \"#46039f\"], [0.2222222222222222, \"#7201a8\"], [0.3333333333333333, \"#9c179e\"], [0.4444444444444444, \"#bd3786\"], [0.5555555555555556, \"#d8576b\"], [0.6666666666666666, \"#ed7953\"], [0.7777777777777778, \"#fb9f3a\"], [0.8888888888888888, \"#fdca26\"], [1.0, \"#f0f921\"]], \"type\": \"surface\"}], \"table\": [{\"cells\": {\"fill\": {\"color\": \"#EBF0F8\"}, \"line\": {\"color\": \"white\"}}, \"header\": {\"fill\": {\"color\": \"#C8D4E3\"}, \"line\": {\"color\": \"white\"}}, \"type\": \"table\"}]}, \"layout\": {\"annotationdefaults\": {\"arrowcolor\": \"#2a3f5f\", \"arrowhead\": 0, \"arrowwidth\": 1}, \"coloraxis\": {\"colorbar\": {\"outlinewidth\": 0, \"ticks\": \"\"}}, \"colorscale\": {\"diverging\": [[0, \"#8e0152\"], [0.1, \"#c51b7d\"], [0.2, \"#de77ae\"], [0.3, \"#f1b6da\"], [0.4, \"#fde0ef\"], [0.5, \"#f7f7f7\"], [0.6, \"#e6f5d0\"], [0.7, \"#b8e186\"], [0.8, \"#7fbc41\"], [0.9, \"#4d9221\"], [1, \"#276419\"]], \"sequential\": [[0.0, \"#0d0887\"], [0.1111111111111111, \"#46039f\"], [0.2222222222222222, \"#7201a8\"], [0.3333333333333333, \"#9c179e\"], [0.4444444444444444, \"#bd3786\"], [0.5555555555555556, \"#d8576b\"], [0.6666666666666666, \"#ed7953\"], [0.7777777777777778, \"#fb9f3a\"], [0.8888888888888888, \"#fdca26\"], [1.0, \"#f0f921\"]], \"sequentialminus\": [[0.0, \"#0d0887\"], [0.1111111111111111, \"#46039f\"], [0.2222222222222222, \"#7201a8\"], [0.3333333333333333, \"#9c179e\"], [0.4444444444444444, \"#bd3786\"], [0.5555555555555556, \"#d8576b\"], [0.6666666666666666, \"#ed7953\"], [0.7777777777777778, \"#fb9f3a\"], [0.8888888888888888, \"#fdca26\"], [1.0, \"#f0f921\"]]}, \"colorway\": [\"#636efa\", \"#EF553B\", \"#00cc96\", \"#ab63fa\", \"#FFA15A\", \"#19d3f3\", \"#FF6692\", \"#B6E880\", \"#FF97FF\", \"#FECB52\"], \"font\": {\"color\": \"#2a3f5f\"}, \"geo\": {\"bgcolor\": \"white\", \"lakecolor\": \"white\", \"landcolor\": \"#E5ECF6\", \"showlakes\": true, \"showland\": true, \"subunitcolor\": \"white\"}, \"hoverlabel\": {\"align\": \"left\"}, \"hovermode\": \"closest\", \"mapbox\": {\"style\": \"light\"}, \"paper_bgcolor\": \"white\", \"plot_bgcolor\": \"#E5ECF6\", \"polar\": {\"angularaxis\": {\"gridcolor\": \"white\", \"linecolor\": \"white\", \"ticks\": \"\"}, \"bgcolor\": \"#E5ECF6\", \"radialaxis\": {\"gridcolor\": \"white\", \"linecolor\": \"white\", \"ticks\": \"\"}}, \"scene\": {\"xaxis\": {\"backgroundcolor\": \"#E5ECF6\", \"gridcolor\": \"white\", \"gridwidth\": 2, \"linecolor\": \"white\", \"showbackground\": true, \"ticks\": \"\", \"zerolinecolor\": \"white\"}, \"yaxis\": {\"backgroundcolor\": \"#E5ECF6\", \"gridcolor\": \"white\", \"gridwidth\": 2, \"linecolor\": \"white\", \"showbackground\": true, \"ticks\": \"\", \"zerolinecolor\": \"white\"}, \"zaxis\": {\"backgroundcolor\": \"#E5ECF6\", \"gridcolor\": \"white\", \"gridwidth\": 2, \"linecolor\": \"white\", \"showbackground\": true, \"ticks\": \"\", \"zerolinecolor\": \"white\"}}, \"shapedefaults\": {\"line\": {\"color\": \"#2a3f5f\"}}, \"ternary\": {\"aaxis\": {\"gridcolor\": \"white\", \"linecolor\": \"white\", \"ticks\": \"\"}, \"baxis\": {\"gridcolor\": \"white\", \"linecolor\": \"white\", \"ticks\": \"\"}, \"bgcolor\": \"#E5ECF6\", \"caxis\": {\"gridcolor\": \"white\", \"linecolor\": \"white\", \"ticks\": \"\"}}, \"title\": {\"x\": 0.05}, \"xaxis\": {\"automargin\": true, \"gridcolor\": \"white\", \"linecolor\": \"white\", \"ticks\": \"\", \"title\": {\"standoff\": 15}, \"zerolinecolor\": \"white\", \"zerolinewidth\": 2}, \"yaxis\": {\"automargin\": true, \"gridcolor\": \"white\", \"linecolor\": \"white\", \"ticks\": \"\", \"title\": {\"standoff\": 15}, \"zerolinecolor\": \"white\", \"zerolinewidth\": 2}}}, \"title\": {\"text\": \"Corona virus affected countries\"}},\n",
       "                        {\"responsive\": true}\n",
       "                    ).then(function(){\n",
       "                            \n",
       "var gd = document.getElementById('8f9bb033-d25a-43ac-a523-8e45ef91c153');\n",
       "var x = new MutationObserver(function (mutations, observer) {{\n",
       "        var display = window.getComputedStyle(gd).display;\n",
       "        if (!display || display === 'none') {{\n",
       "            console.log([gd, 'removed!']);\n",
       "            Plotly.purge(gd);\n",
       "            observer.disconnect();\n",
       "        }}\n",
       "}});\n",
       "\n",
       "// Listen for the removal of the full notebook cells\n",
       "var notebookContainer = gd.closest('#notebook-container');\n",
       "if (notebookContainer) {{\n",
       "    x.observe(notebookContainer, {childList: true});\n",
       "}}\n",
       "\n",
       "// Listen for the clearing of the current output cell\n",
       "var outputEl = gd.closest('.output');\n",
       "if (outputEl) {{\n",
       "    x.observe(outputEl, {childList: true});\n",
       "}}\n",
       "\n",
       "                        })\n",
       "                };\n",
       "                });\n",
       "            </script>\n",
       "        </div>"
      ]
     },
     "metadata": {},
     "output_type": "display_data"
    }
   ],
   "source": [
    "fig = go.Figure()\n",
    "fig.add_trace(go.Choropleth(\n",
    "        locationmode = 'country names',\n",
    "        locations = dff[\"Country\"],\n",
    "        z = dff.TotalCases,\n",
    "        text = dff[\"Country\"],\n",
    "        colorscale='sunset',\n",
    "        autocolorscale = False,\n",
    "        showscale = True,\n",
    "        geo = 'geo'\n",
    "    ))\n",
    "fig.update_layout(title_text='Corona virus affected countries')"
   ]
  },
  {
   "cell_type": "code",
   "execution_count": 59,
   "metadata": {},
   "outputs": [
    {
     "data": {
      "application/vnd.plotly.v1+json": {
       "config": {
        "plotlyServerURL": "https://plot.ly"
       },
       "data": [
        {
         "autocolorscale": false,
         "colorscale": [
          [
           0,
           "rgb(243, 231, 155)"
          ],
          [
           0.16666666666666666,
           "rgb(250, 196, 132)"
          ],
          [
           0.3333333333333333,
           "rgb(248, 160, 126)"
          ],
          [
           0.5,
           "rgb(235, 127, 134)"
          ],
          [
           0.6666666666666666,
           "rgb(206, 102, 147)"
          ],
          [
           0.8333333333333334,
           "rgb(160, 89, 160)"
          ],
          [
           1,
           "rgb(92, 83, 165)"
          ]
         ],
         "geo": "geo",
         "locationmode": "country names",
         "locations": [
          "China",
          "Italy",
          "USA",
          "Spain",
          "Germany",
          "Iran",
          "France",
          "S. Korea",
          "Switzerland",
          "UK",
          "Netherlands",
          "Belgium",
          "Austria",
          "Norway",
          "Sweden",
          "Portugal",
          "Canada",
          "Denmark",
          "Australia",
          "Malaysia",
          "Brazil",
          "Czechia",
          "Japan",
          "Turkey",
          "Israel",
          "Luxembourg",
          "Ecuador",
          "Ireland",
          "Diamond Princess",
          "Pakistan",
          "Chile",
          "Poland",
          "Finland",
          "Greece",
          "Thailand",
          "Iceland",
          "Indonesia",
          "Saudi Arabia",
          "Qatar",
          "Singapore",
          "Romania",
          "Slovenia",
          "India",
          "Philippines",
          "Russia",
          "Peru",
          "Bahrain",
          "Estonia",
          "Hong Kong",
          "Egypt",
          "Croatia",
          "Mexico",
          "Lebanon",
          "Panama",
          "South Africa",
          "Iraq",
          "Colombia",
          "Argentina",
          "Serbia",
          "Dominican Republic",
          "Algeria",
          "Armenia",
          "Kuwait",
          "Bulgaria",
          "Slovakia",
          "San Marino",
          "Taiwan",
          "UAE",
          "Latvia",
          "Uruguay",
          "Hungary",
          "Lithuania",
          "Costa Rica",
          "North Macedonia",
          "Faeroe Islands",
          "Andorra",
          "Vietnam",
          "Morocco",
          "Jordan",
          "Cyprus",
          "Bosnia and Herzegovina",
          "Moldova",
          "Malta",
          "Albania",
          "Brunei",
          "Cambodia",
          "Sri Lanka",
          "Belarus",
          "Burkina Faso",
          "Tunisia",
          "Venezuela",
          "New Zealand",
          "Azerbaijan",
          "Kazakhstan",
          "Palestine",
          "Senegal",
          "Guadeloupe",
          "Oman",
          "Georgia",
          "Trinidad and Tobago",
          "Ukraine",
          "Réunion",
          "Uzbekistan",
          "Cameroon",
          "Martinique",
          "Liechtenstein",
          "Cuba",
          "Afghanistan",
          "Channel Islands",
          "Nigeria",
          "DRC",
          "Bangladesh",
          "Guam",
          "Honduras",
          "Mauritius",
          "Bolivia",
          "Puerto Rico",
          "Paraguay",
          "Macao",
          "Ghana",
          "Jamaica",
          "French Guiana",
          "Guyana",
          "Monaco",
          "Guatemala",
          "Rwanda",
          "Montenegro",
          "Togo",
          "French Polynesia",
          "Gibraltar",
          "Kenya",
          "Barbados",
          "Ivory Coast",
          "Kyrgyzstan",
          "Maldives",
          "Tanzania",
          "Ethiopia",
          "Mayotte",
          "Mongolia",
          "Aruba",
          "Seychelles",
          "Equatorial Guinea",
          "U.S. Virgin Islands",
          "Saint Martin",
          "Suriname",
          "Gabon",
          "Isle of Man",
          "New Caledonia",
          "Eswatini",
          "Bahamas",
          "Liberia",
          "Zimbabwe",
          "Zambia",
          "St. Barth",
          "Namibia",
          "Madagascar",
          "El Salvador",
          "Congo",
          "CAR",
          "Cabo Verde",
          "Curaçao",
          "Cayman Islands",
          "Saint Lucia",
          "Niger",
          "Nicaragua",
          "Mauritania",
          "Haiti",
          "Guinea",
          "Greenland",
          "Fiji",
          "Bermuda",
          "Benin",
          "Angola",
          "Sudan",
          "Bhutan",
          "Montserrat",
          "Timor-Leste",
          "Somalia",
          "Sint Maarten",
          "St. Vincent Grenadines",
          "Papua New Guinea",
          "Mozambique",
          "Eritrea",
          "Vatican City",
          "Gambia",
          "Djibouti",
          "Chad",
          "Antigua and Barbuda",
          "Nepal",
          "Uganda"
         ],
         "showscale": true,
         "text": [
          "China",
          "Italy",
          "USA",
          "Spain",
          "Germany",
          "Iran",
          "France",
          "S. Korea",
          "Switzerland",
          "UK",
          "Netherlands",
          "Belgium",
          "Austria",
          "Norway",
          "Sweden",
          "Portugal",
          "Canada",
          "Denmark",
          "Australia",
          "Malaysia",
          "Brazil",
          "Czechia",
          "Japan",
          "Turkey",
          "Israel",
          "Luxembourg",
          "Ecuador",
          "Ireland",
          "Diamond Princess",
          "Pakistan",
          "Chile",
          "Poland",
          "Finland",
          "Greece",
          "Thailand",
          "Iceland",
          "Indonesia",
          "Saudi Arabia",
          "Qatar",
          "Singapore",
          "Romania",
          "Slovenia",
          "India",
          "Philippines",
          "Russia",
          "Peru",
          "Bahrain",
          "Estonia",
          "Hong Kong",
          "Egypt",
          "Croatia",
          "Mexico",
          "Lebanon",
          "Panama",
          "South Africa",
          "Iraq",
          "Colombia",
          "Argentina",
          "Serbia",
          "Dominican Republic",
          "Algeria",
          "Armenia",
          "Kuwait",
          "Bulgaria",
          "Slovakia",
          "San Marino",
          "Taiwan",
          "UAE",
          "Latvia",
          "Uruguay",
          "Hungary",
          "Lithuania",
          "Costa Rica",
          "North Macedonia",
          "Faeroe Islands",
          "Andorra",
          "Vietnam",
          "Morocco",
          "Jordan",
          "Cyprus",
          "Bosnia and Herzegovina",
          "Moldova",
          "Malta",
          "Albania",
          "Brunei",
          "Cambodia",
          "Sri Lanka",
          "Belarus",
          "Burkina Faso",
          "Tunisia",
          "Venezuela",
          "New Zealand",
          "Azerbaijan",
          "Kazakhstan",
          "Palestine",
          "Senegal",
          "Guadeloupe",
          "Oman",
          "Georgia",
          "Trinidad and Tobago",
          "Ukraine",
          "Réunion",
          "Uzbekistan",
          "Cameroon",
          "Martinique",
          "Liechtenstein",
          "Cuba",
          "Afghanistan",
          "Channel Islands",
          "Nigeria",
          "DRC",
          "Bangladesh",
          "Guam",
          "Honduras",
          "Mauritius",
          "Bolivia",
          "Puerto Rico",
          "Paraguay",
          "Macao",
          "Ghana",
          "Jamaica",
          "French Guiana",
          "Guyana",
          "Monaco",
          "Guatemala",
          "Rwanda",
          "Montenegro",
          "Togo",
          "French Polynesia",
          "Gibraltar",
          "Kenya",
          "Barbados",
          "Ivory Coast",
          "Kyrgyzstan",
          "Maldives",
          "Tanzania",
          "Ethiopia",
          "Mayotte",
          "Mongolia",
          "Aruba",
          "Seychelles",
          "Equatorial Guinea",
          "U.S. Virgin Islands",
          "Saint Martin",
          "Suriname",
          "Gabon",
          "Isle of Man",
          "New Caledonia",
          "Eswatini",
          "Bahamas",
          "Liberia",
          "Zimbabwe",
          "Zambia",
          "St. Barth",
          "Namibia",
          "Madagascar",
          "El Salvador",
          "Congo",
          "CAR",
          "Cabo Verde",
          "Curaçao",
          "Cayman Islands",
          "Saint Lucia",
          "Niger",
          "Nicaragua",
          "Mauritania",
          "Haiti",
          "Guinea",
          "Greenland",
          "Fiji",
          "Bermuda",
          "Benin",
          "Angola",
          "Sudan",
          "Bhutan",
          "Montserrat",
          "Timor-Leste",
          "Somalia",
          "Sint Maarten",
          "St. Vincent Grenadines",
          "Papua New Guinea",
          "Mozambique",
          "Eritrea",
          "Vatican City",
          "Gambia",
          "Djibouti",
          "Chad",
          "Antigua and Barbuda",
          "Nepal",
          "Uganda"
         ],
         "type": "choropleth",
         "z": [
          3261,
          5476,
          396,
          1756,
          93,
          1685,
          562,
          104,
          98,
          281,
          179,
          75,
          16,
          7,
          21,
          14,
          20,
          13,
          7,
          10,
          18,
          0,
          36,
          21,
          1,
          8,
          14,
          3,
          8,
          3,
          1,
          7,
          1,
          15,
          1,
          1,
          48,
          0,
          0,
          2,
          2,
          2,
          7,
          25,
          1,
          5,
          2,
          0,
          4,
          10,
          1,
          2,
          4,
          3,
          0,
          20,
          2,
          4,
          2,
          3,
          17,
          0,
          0,
          3,
          0,
          20,
          2,
          2,
          0,
          0,
          6,
          1,
          2,
          1,
          0,
          1,
          0,
          3,
          0,
          1,
          1,
          1,
          0,
          2,
          0,
          0,
          0,
          0,
          4,
          3,
          0,
          0,
          1,
          0,
          0,
          0,
          1,
          0,
          0,
          0,
          3,
          0,
          0,
          0,
          1,
          0,
          1,
          1,
          0,
          0,
          1,
          2,
          1,
          0,
          2,
          0,
          1,
          1,
          0,
          1,
          1,
          0,
          1,
          0,
          1,
          0,
          0,
          0,
          0,
          0,
          0,
          0,
          0,
          0,
          0,
          0,
          0,
          0,
          0,
          0,
          0,
          0,
          0,
          0,
          0,
          1,
          0,
          0,
          0,
          0,
          0,
          0,
          0,
          0,
          0,
          0,
          0,
          0,
          0,
          0,
          1,
          1,
          0,
          0,
          0,
          0,
          0,
          0,
          0,
          0,
          0,
          0,
          0,
          1,
          0,
          0,
          0,
          0,
          0,
          0,
          0,
          0,
          0,
          0,
          0,
          0,
          0,
          0,
          0,
          0
         ]
        }
       ],
       "layout": {
        "template": {
         "data": {
          "bar": [
           {
            "error_x": {
             "color": "#2a3f5f"
            },
            "error_y": {
             "color": "#2a3f5f"
            },
            "marker": {
             "line": {
              "color": "#E5ECF6",
              "width": 0.5
             }
            },
            "type": "bar"
           }
          ],
          "barpolar": [
           {
            "marker": {
             "line": {
              "color": "#E5ECF6",
              "width": 0.5
             }
            },
            "type": "barpolar"
           }
          ],
          "carpet": [
           {
            "aaxis": {
             "endlinecolor": "#2a3f5f",
             "gridcolor": "white",
             "linecolor": "white",
             "minorgridcolor": "white",
             "startlinecolor": "#2a3f5f"
            },
            "baxis": {
             "endlinecolor": "#2a3f5f",
             "gridcolor": "white",
             "linecolor": "white",
             "minorgridcolor": "white",
             "startlinecolor": "#2a3f5f"
            },
            "type": "carpet"
           }
          ],
          "choropleth": [
           {
            "colorbar": {
             "outlinewidth": 0,
             "ticks": ""
            },
            "type": "choropleth"
           }
          ],
          "contour": [
           {
            "colorbar": {
             "outlinewidth": 0,
             "ticks": ""
            },
            "colorscale": [
             [
              0,
              "#0d0887"
             ],
             [
              0.1111111111111111,
              "#46039f"
             ],
             [
              0.2222222222222222,
              "#7201a8"
             ],
             [
              0.3333333333333333,
              "#9c179e"
             ],
             [
              0.4444444444444444,
              "#bd3786"
             ],
             [
              0.5555555555555556,
              "#d8576b"
             ],
             [
              0.6666666666666666,
              "#ed7953"
             ],
             [
              0.7777777777777778,
              "#fb9f3a"
             ],
             [
              0.8888888888888888,
              "#fdca26"
             ],
             [
              1,
              "#f0f921"
             ]
            ],
            "type": "contour"
           }
          ],
          "contourcarpet": [
           {
            "colorbar": {
             "outlinewidth": 0,
             "ticks": ""
            },
            "type": "contourcarpet"
           }
          ],
          "heatmap": [
           {
            "colorbar": {
             "outlinewidth": 0,
             "ticks": ""
            },
            "colorscale": [
             [
              0,
              "#0d0887"
             ],
             [
              0.1111111111111111,
              "#46039f"
             ],
             [
              0.2222222222222222,
              "#7201a8"
             ],
             [
              0.3333333333333333,
              "#9c179e"
             ],
             [
              0.4444444444444444,
              "#bd3786"
             ],
             [
              0.5555555555555556,
              "#d8576b"
             ],
             [
              0.6666666666666666,
              "#ed7953"
             ],
             [
              0.7777777777777778,
              "#fb9f3a"
             ],
             [
              0.8888888888888888,
              "#fdca26"
             ],
             [
              1,
              "#f0f921"
             ]
            ],
            "type": "heatmap"
           }
          ],
          "heatmapgl": [
           {
            "colorbar": {
             "outlinewidth": 0,
             "ticks": ""
            },
            "colorscale": [
             [
              0,
              "#0d0887"
             ],
             [
              0.1111111111111111,
              "#46039f"
             ],
             [
              0.2222222222222222,
              "#7201a8"
             ],
             [
              0.3333333333333333,
              "#9c179e"
             ],
             [
              0.4444444444444444,
              "#bd3786"
             ],
             [
              0.5555555555555556,
              "#d8576b"
             ],
             [
              0.6666666666666666,
              "#ed7953"
             ],
             [
              0.7777777777777778,
              "#fb9f3a"
             ],
             [
              0.8888888888888888,
              "#fdca26"
             ],
             [
              1,
              "#f0f921"
             ]
            ],
            "type": "heatmapgl"
           }
          ],
          "histogram": [
           {
            "marker": {
             "colorbar": {
              "outlinewidth": 0,
              "ticks": ""
             }
            },
            "type": "histogram"
           }
          ],
          "histogram2d": [
           {
            "colorbar": {
             "outlinewidth": 0,
             "ticks": ""
            },
            "colorscale": [
             [
              0,
              "#0d0887"
             ],
             [
              0.1111111111111111,
              "#46039f"
             ],
             [
              0.2222222222222222,
              "#7201a8"
             ],
             [
              0.3333333333333333,
              "#9c179e"
             ],
             [
              0.4444444444444444,
              "#bd3786"
             ],
             [
              0.5555555555555556,
              "#d8576b"
             ],
             [
              0.6666666666666666,
              "#ed7953"
             ],
             [
              0.7777777777777778,
              "#fb9f3a"
             ],
             [
              0.8888888888888888,
              "#fdca26"
             ],
             [
              1,
              "#f0f921"
             ]
            ],
            "type": "histogram2d"
           }
          ],
          "histogram2dcontour": [
           {
            "colorbar": {
             "outlinewidth": 0,
             "ticks": ""
            },
            "colorscale": [
             [
              0,
              "#0d0887"
             ],
             [
              0.1111111111111111,
              "#46039f"
             ],
             [
              0.2222222222222222,
              "#7201a8"
             ],
             [
              0.3333333333333333,
              "#9c179e"
             ],
             [
              0.4444444444444444,
              "#bd3786"
             ],
             [
              0.5555555555555556,
              "#d8576b"
             ],
             [
              0.6666666666666666,
              "#ed7953"
             ],
             [
              0.7777777777777778,
              "#fb9f3a"
             ],
             [
              0.8888888888888888,
              "#fdca26"
             ],
             [
              1,
              "#f0f921"
             ]
            ],
            "type": "histogram2dcontour"
           }
          ],
          "mesh3d": [
           {
            "colorbar": {
             "outlinewidth": 0,
             "ticks": ""
            },
            "type": "mesh3d"
           }
          ],
          "parcoords": [
           {
            "line": {
             "colorbar": {
              "outlinewidth": 0,
              "ticks": ""
             }
            },
            "type": "parcoords"
           }
          ],
          "pie": [
           {
            "automargin": true,
            "type": "pie"
           }
          ],
          "scatter": [
           {
            "marker": {
             "colorbar": {
              "outlinewidth": 0,
              "ticks": ""
             }
            },
            "type": "scatter"
           }
          ],
          "scatter3d": [
           {
            "line": {
             "colorbar": {
              "outlinewidth": 0,
              "ticks": ""
             }
            },
            "marker": {
             "colorbar": {
              "outlinewidth": 0,
              "ticks": ""
             }
            },
            "type": "scatter3d"
           }
          ],
          "scattercarpet": [
           {
            "marker": {
             "colorbar": {
              "outlinewidth": 0,
              "ticks": ""
             }
            },
            "type": "scattercarpet"
           }
          ],
          "scattergeo": [
           {
            "marker": {
             "colorbar": {
              "outlinewidth": 0,
              "ticks": ""
             }
            },
            "type": "scattergeo"
           }
          ],
          "scattergl": [
           {
            "marker": {
             "colorbar": {
              "outlinewidth": 0,
              "ticks": ""
             }
            },
            "type": "scattergl"
           }
          ],
          "scattermapbox": [
           {
            "marker": {
             "colorbar": {
              "outlinewidth": 0,
              "ticks": ""
             }
            },
            "type": "scattermapbox"
           }
          ],
          "scatterpolar": [
           {
            "marker": {
             "colorbar": {
              "outlinewidth": 0,
              "ticks": ""
             }
            },
            "type": "scatterpolar"
           }
          ],
          "scatterpolargl": [
           {
            "marker": {
             "colorbar": {
              "outlinewidth": 0,
              "ticks": ""
             }
            },
            "type": "scatterpolargl"
           }
          ],
          "scatterternary": [
           {
            "marker": {
             "colorbar": {
              "outlinewidth": 0,
              "ticks": ""
             }
            },
            "type": "scatterternary"
           }
          ],
          "surface": [
           {
            "colorbar": {
             "outlinewidth": 0,
             "ticks": ""
            },
            "colorscale": [
             [
              0,
              "#0d0887"
             ],
             [
              0.1111111111111111,
              "#46039f"
             ],
             [
              0.2222222222222222,
              "#7201a8"
             ],
             [
              0.3333333333333333,
              "#9c179e"
             ],
             [
              0.4444444444444444,
              "#bd3786"
             ],
             [
              0.5555555555555556,
              "#d8576b"
             ],
             [
              0.6666666666666666,
              "#ed7953"
             ],
             [
              0.7777777777777778,
              "#fb9f3a"
             ],
             [
              0.8888888888888888,
              "#fdca26"
             ],
             [
              1,
              "#f0f921"
             ]
            ],
            "type": "surface"
           }
          ],
          "table": [
           {
            "cells": {
             "fill": {
              "color": "#EBF0F8"
             },
             "line": {
              "color": "white"
             }
            },
            "header": {
             "fill": {
              "color": "#C8D4E3"
             },
             "line": {
              "color": "white"
             }
            },
            "type": "table"
           }
          ]
         },
         "layout": {
          "annotationdefaults": {
           "arrowcolor": "#2a3f5f",
           "arrowhead": 0,
           "arrowwidth": 1
          },
          "coloraxis": {
           "colorbar": {
            "outlinewidth": 0,
            "ticks": ""
           }
          },
          "colorscale": {
           "diverging": [
            [
             0,
             "#8e0152"
            ],
            [
             0.1,
             "#c51b7d"
            ],
            [
             0.2,
             "#de77ae"
            ],
            [
             0.3,
             "#f1b6da"
            ],
            [
             0.4,
             "#fde0ef"
            ],
            [
             0.5,
             "#f7f7f7"
            ],
            [
             0.6,
             "#e6f5d0"
            ],
            [
             0.7,
             "#b8e186"
            ],
            [
             0.8,
             "#7fbc41"
            ],
            [
             0.9,
             "#4d9221"
            ],
            [
             1,
             "#276419"
            ]
           ],
           "sequential": [
            [
             0,
             "#0d0887"
            ],
            [
             0.1111111111111111,
             "#46039f"
            ],
            [
             0.2222222222222222,
             "#7201a8"
            ],
            [
             0.3333333333333333,
             "#9c179e"
            ],
            [
             0.4444444444444444,
             "#bd3786"
            ],
            [
             0.5555555555555556,
             "#d8576b"
            ],
            [
             0.6666666666666666,
             "#ed7953"
            ],
            [
             0.7777777777777778,
             "#fb9f3a"
            ],
            [
             0.8888888888888888,
             "#fdca26"
            ],
            [
             1,
             "#f0f921"
            ]
           ],
           "sequentialminus": [
            [
             0,
             "#0d0887"
            ],
            [
             0.1111111111111111,
             "#46039f"
            ],
            [
             0.2222222222222222,
             "#7201a8"
            ],
            [
             0.3333333333333333,
             "#9c179e"
            ],
            [
             0.4444444444444444,
             "#bd3786"
            ],
            [
             0.5555555555555556,
             "#d8576b"
            ],
            [
             0.6666666666666666,
             "#ed7953"
            ],
            [
             0.7777777777777778,
             "#fb9f3a"
            ],
            [
             0.8888888888888888,
             "#fdca26"
            ],
            [
             1,
             "#f0f921"
            ]
           ]
          },
          "colorway": [
           "#636efa",
           "#EF553B",
           "#00cc96",
           "#ab63fa",
           "#FFA15A",
           "#19d3f3",
           "#FF6692",
           "#B6E880",
           "#FF97FF",
           "#FECB52"
          ],
          "font": {
           "color": "#2a3f5f"
          },
          "geo": {
           "bgcolor": "white",
           "lakecolor": "white",
           "landcolor": "#E5ECF6",
           "showlakes": true,
           "showland": true,
           "subunitcolor": "white"
          },
          "hoverlabel": {
           "align": "left"
          },
          "hovermode": "closest",
          "mapbox": {
           "style": "light"
          },
          "paper_bgcolor": "white",
          "plot_bgcolor": "#E5ECF6",
          "polar": {
           "angularaxis": {
            "gridcolor": "white",
            "linecolor": "white",
            "ticks": ""
           },
           "bgcolor": "#E5ECF6",
           "radialaxis": {
            "gridcolor": "white",
            "linecolor": "white",
            "ticks": ""
           }
          },
          "scene": {
           "xaxis": {
            "backgroundcolor": "#E5ECF6",
            "gridcolor": "white",
            "gridwidth": 2,
            "linecolor": "white",
            "showbackground": true,
            "ticks": "",
            "zerolinecolor": "white"
           },
           "yaxis": {
            "backgroundcolor": "#E5ECF6",
            "gridcolor": "white",
            "gridwidth": 2,
            "linecolor": "white",
            "showbackground": true,
            "ticks": "",
            "zerolinecolor": "white"
           },
           "zaxis": {
            "backgroundcolor": "#E5ECF6",
            "gridcolor": "white",
            "gridwidth": 2,
            "linecolor": "white",
            "showbackground": true,
            "ticks": "",
            "zerolinecolor": "white"
           }
          },
          "shapedefaults": {
           "line": {
            "color": "#2a3f5f"
           }
          },
          "ternary": {
           "aaxis": {
            "gridcolor": "white",
            "linecolor": "white",
            "ticks": ""
           },
           "baxis": {
            "gridcolor": "white",
            "linecolor": "white",
            "ticks": ""
           },
           "bgcolor": "#E5ECF6",
           "caxis": {
            "gridcolor": "white",
            "linecolor": "white",
            "ticks": ""
           }
          },
          "title": {
           "x": 0.05
          },
          "xaxis": {
           "automargin": true,
           "gridcolor": "white",
           "linecolor": "white",
           "ticks": "",
           "title": {
            "standoff": 15
           },
           "zerolinecolor": "white",
           "zerolinewidth": 2
          },
          "yaxis": {
           "automargin": true,
           "gridcolor": "white",
           "linecolor": "white",
           "ticks": "",
           "title": {
            "standoff": 15
           },
           "zerolinecolor": "white",
           "zerolinewidth": 2
          }
         }
        },
        "title": {
         "text": "Corona virus affected countries"
        }
       }
      },
      "text/html": [
       "<div>\n",
       "        \n",
       "        \n",
       "            <div id=\"23c5abfe-5a0d-4e1b-964f-7e5084f1207c\" class=\"plotly-graph-div\" style=\"height:525px; width:100%;\"></div>\n",
       "            <script type=\"text/javascript\">\n",
       "                require([\"plotly\"], function(Plotly) {\n",
       "                    window.PLOTLYENV=window.PLOTLYENV || {};\n",
       "                    \n",
       "                if (document.getElementById(\"23c5abfe-5a0d-4e1b-964f-7e5084f1207c\")) {\n",
       "                    Plotly.newPlot(\n",
       "                        '23c5abfe-5a0d-4e1b-964f-7e5084f1207c',\n",
       "                        [{\"autocolorscale\": false, \"colorscale\": [[0.0, \"rgb(243, 231, 155)\"], [0.16666666666666666, \"rgb(250, 196, 132)\"], [0.3333333333333333, \"rgb(248, 160, 126)\"], [0.5, \"rgb(235, 127, 134)\"], [0.6666666666666666, \"rgb(206, 102, 147)\"], [0.8333333333333334, \"rgb(160, 89, 160)\"], [1.0, \"rgb(92, 83, 165)\"]], \"geo\": \"geo\", \"locationmode\": \"country names\", \"locations\": [\"China\", \"Italy\", \"USA\", \"Spain\", \"Germany\", \"Iran\", \"France\", \"S. Korea\", \"Switzerland\", \"UK\", \"Netherlands\", \"Belgium\", \"Austria\", \"Norway\", \"Sweden\", \"Portugal\", \"Canada\", \"Denmark\", \"Australia\", \"Malaysia\", \"Brazil\", \"Czechia\", \"Japan\", \"Turkey\", \"Israel\", \"Luxembourg\", \"Ecuador\", \"Ireland\", \"Diamond Princess\", \"Pakistan\", \"Chile\", \"Poland\", \"Finland\", \"Greece\", \"Thailand\", \"Iceland\", \"Indonesia\", \"Saudi Arabia\", \"Qatar\", \"Singapore\", \"Romania\", \"Slovenia\", \"India\", \"Philippines\", \"Russia\", \"Peru\", \"Bahrain\", \"Estonia\", \"Hong Kong\", \"Egypt\", \"Croatia\", \"Mexico\", \"Lebanon\", \"Panama\", \"South Africa\", \"Iraq\", \"Colombia\", \"Argentina\", \"Serbia\", \"Dominican Republic\", \"Algeria\", \"Armenia\", \"Kuwait\", \"Bulgaria\", \"Slovakia\", \"San Marino\", \"Taiwan\", \"UAE\", \"Latvia\", \"Uruguay\", \"Hungary\", \"Lithuania\", \"Costa Rica\", \"North Macedonia\", \"Faeroe Islands\", \"Andorra\", \"Vietnam\", \"Morocco\", \"Jordan\", \"Cyprus\", \"Bosnia and Herzegovina\", \"Moldova\", \"Malta\", \"Albania\", \"Brunei\", \"Cambodia\", \"Sri Lanka\", \"Belarus\", \"Burkina Faso\", \"Tunisia\", \"Venezuela\", \"New Zealand\", \"Azerbaijan\", \"Kazakhstan\", \"Palestine\", \"Senegal\", \"Guadeloupe\", \"Oman\", \"Georgia\", \"Trinidad and Tobago\", \"Ukraine\", \"R\\u00e9union\", \"Uzbekistan\", \"Cameroon\", \"Martinique\", \"Liechtenstein\", \"Cuba\", \"Afghanistan\", \"Channel Islands\", \"Nigeria\", \"DRC\", \"Bangladesh\", \"Guam\", \"Honduras\", \"Mauritius\", \"Bolivia\", \"Puerto Rico\", \"Paraguay\", \"Macao\", \"Ghana\", \"Jamaica\", \"French Guiana\", \"Guyana\", \"Monaco\", \"Guatemala\", \"Rwanda\", \"Montenegro\", \"Togo\", \"French Polynesia\", \"Gibraltar\", \"Kenya\", \"Barbados\", \"Ivory Coast\", \"Kyrgyzstan\", \"Maldives\", \"Tanzania\", \"Ethiopia\", \"Mayotte\", \"Mongolia\", \"Aruba\", \"Seychelles\", \"Equatorial Guinea\", \"U.S. Virgin Islands\", \"Saint Martin\", \"Suriname\", \"Gabon\", \"Isle of Man\", \"New Caledonia\", \"Eswatini\", \"Bahamas\", \"Liberia\", \"Zimbabwe\", \"Zambia\", \"St. Barth\", \"Namibia\", \"Madagascar\", \"El Salvador\", \"Congo\", \"CAR\", \"Cabo Verde\", \"Cura\\u00e7ao\", \"Cayman Islands\", \"Saint Lucia\", \"Niger\", \"Nicaragua\", \"Mauritania\", \"Haiti\", \"Guinea\", \"Greenland\", \"Fiji\", \"Bermuda\", \"Benin\", \"Angola\", \"Sudan\", \"Bhutan\", \"Montserrat\", \"Timor-Leste\", \"Somalia\", \"Sint Maarten\", \"St. Vincent Grenadines\", \"Papua New Guinea\", \"Mozambique\", \"Eritrea\", \"Vatican City\", \"Gambia\", \"Djibouti\", \"Chad\", \"Antigua and Barbuda\", \"Nepal\", \"Uganda\"], \"showscale\": true, \"text\": [\"China\", \"Italy\", \"USA\", \"Spain\", \"Germany\", \"Iran\", \"France\", \"S. Korea\", \"Switzerland\", \"UK\", \"Netherlands\", \"Belgium\", \"Austria\", \"Norway\", \"Sweden\", \"Portugal\", \"Canada\", \"Denmark\", \"Australia\", \"Malaysia\", \"Brazil\", \"Czechia\", \"Japan\", \"Turkey\", \"Israel\", \"Luxembourg\", \"Ecuador\", \"Ireland\", \"Diamond Princess\", \"Pakistan\", \"Chile\", \"Poland\", \"Finland\", \"Greece\", \"Thailand\", \"Iceland\", \"Indonesia\", \"Saudi Arabia\", \"Qatar\", \"Singapore\", \"Romania\", \"Slovenia\", \"India\", \"Philippines\", \"Russia\", \"Peru\", \"Bahrain\", \"Estonia\", \"Hong Kong\", \"Egypt\", \"Croatia\", \"Mexico\", \"Lebanon\", \"Panama\", \"South Africa\", \"Iraq\", \"Colombia\", \"Argentina\", \"Serbia\", \"Dominican Republic\", \"Algeria\", \"Armenia\", \"Kuwait\", \"Bulgaria\", \"Slovakia\", \"San Marino\", \"Taiwan\", \"UAE\", \"Latvia\", \"Uruguay\", \"Hungary\", \"Lithuania\", \"Costa Rica\", \"North Macedonia\", \"Faeroe Islands\", \"Andorra\", \"Vietnam\", \"Morocco\", \"Jordan\", \"Cyprus\", \"Bosnia and Herzegovina\", \"Moldova\", \"Malta\", \"Albania\", \"Brunei\", \"Cambodia\", \"Sri Lanka\", \"Belarus\", \"Burkina Faso\", \"Tunisia\", \"Venezuela\", \"New Zealand\", \"Azerbaijan\", \"Kazakhstan\", \"Palestine\", \"Senegal\", \"Guadeloupe\", \"Oman\", \"Georgia\", \"Trinidad and Tobago\", \"Ukraine\", \"R\\u00e9union\", \"Uzbekistan\", \"Cameroon\", \"Martinique\", \"Liechtenstein\", \"Cuba\", \"Afghanistan\", \"Channel Islands\", \"Nigeria\", \"DRC\", \"Bangladesh\", \"Guam\", \"Honduras\", \"Mauritius\", \"Bolivia\", \"Puerto Rico\", \"Paraguay\", \"Macao\", \"Ghana\", \"Jamaica\", \"French Guiana\", \"Guyana\", \"Monaco\", \"Guatemala\", \"Rwanda\", \"Montenegro\", \"Togo\", \"French Polynesia\", \"Gibraltar\", \"Kenya\", \"Barbados\", \"Ivory Coast\", \"Kyrgyzstan\", \"Maldives\", \"Tanzania\", \"Ethiopia\", \"Mayotte\", \"Mongolia\", \"Aruba\", \"Seychelles\", \"Equatorial Guinea\", \"U.S. Virgin Islands\", \"Saint Martin\", \"Suriname\", \"Gabon\", \"Isle of Man\", \"New Caledonia\", \"Eswatini\", \"Bahamas\", \"Liberia\", \"Zimbabwe\", \"Zambia\", \"St. Barth\", \"Namibia\", \"Madagascar\", \"El Salvador\", \"Congo\", \"CAR\", \"Cabo Verde\", \"Cura\\u00e7ao\", \"Cayman Islands\", \"Saint Lucia\", \"Niger\", \"Nicaragua\", \"Mauritania\", \"Haiti\", \"Guinea\", \"Greenland\", \"Fiji\", \"Bermuda\", \"Benin\", \"Angola\", \"Sudan\", \"Bhutan\", \"Montserrat\", \"Timor-Leste\", \"Somalia\", \"Sint Maarten\", \"St. Vincent Grenadines\", \"Papua New Guinea\", \"Mozambique\", \"Eritrea\", \"Vatican City\", \"Gambia\", \"Djibouti\", \"Chad\", \"Antigua and Barbuda\", \"Nepal\", \"Uganda\"], \"type\": \"choropleth\", \"z\": [3261.0, 5476.0, 396.0, 1756.0, 93.0, 1685.0, 562.0, 104.0, 98.0, 281.0, 179.0, 75.0, 16.0, 7.0, 21.0, 14.0, 20.0, 13.0, 7.0, 10.0, 18.0, 0.0, 36.0, 21.0, 1.0, 8.0, 14.0, 3.0, 8.0, 3.0, 1.0, 7.0, 1.0, 15.0, 1.0, 1.0, 48.0, 0.0, 0.0, 2.0, 2.0, 2.0, 7.0, 25.0, 1.0, 5.0, 2.0, 0.0, 4.0, 10.0, 1.0, 2.0, 4.0, 3.0, 0.0, 20.0, 2.0, 4.0, 2.0, 3.0, 17.0, 0.0, 0.0, 3.0, 0.0, 20.0, 2.0, 2.0, 0.0, 0.0, 6.0, 1.0, 2.0, 1.0, 0.0, 1.0, 0.0, 3.0, 0.0, 1.0, 1.0, 1.0, 0.0, 2.0, 0.0, 0.0, 0.0, 0.0, 4.0, 3.0, 0.0, 0.0, 1.0, 0.0, 0.0, 0.0, 1.0, 0.0, 0.0, 0.0, 3.0, 0.0, 0.0, 0.0, 1.0, 0.0, 1.0, 1.0, 0.0, 0.0, 1.0, 2.0, 1.0, 0.0, 2.0, 0.0, 1.0, 1.0, 0.0, 1.0, 1.0, 0.0, 1.0, 0.0, 1.0, 0.0, 0.0, 0.0, 0.0, 0.0, 0.0, 0.0, 0.0, 0.0, 0.0, 0.0, 0.0, 0.0, 0.0, 0.0, 0.0, 0.0, 0.0, 0.0, 0.0, 1.0, 0.0, 0.0, 0.0, 0.0, 0.0, 0.0, 0.0, 0.0, 0.0, 0.0, 0.0, 0.0, 0.0, 0.0, 1.0, 1.0, 0.0, 0.0, 0.0, 0.0, 0.0, 0.0, 0.0, 0.0, 0.0, 0.0, 0.0, 1.0, 0.0, 0.0, 0.0, 0.0, 0.0, 0.0, 0.0, 0.0, 0.0, 0.0, 0.0, 0.0, 0.0, 0.0, 0.0, 0.0]}],\n",
       "                        {\"template\": {\"data\": {\"bar\": [{\"error_x\": {\"color\": \"#2a3f5f\"}, \"error_y\": {\"color\": \"#2a3f5f\"}, \"marker\": {\"line\": {\"color\": \"#E5ECF6\", \"width\": 0.5}}, \"type\": \"bar\"}], \"barpolar\": [{\"marker\": {\"line\": {\"color\": \"#E5ECF6\", \"width\": 0.5}}, \"type\": \"barpolar\"}], \"carpet\": [{\"aaxis\": {\"endlinecolor\": \"#2a3f5f\", \"gridcolor\": \"white\", \"linecolor\": \"white\", \"minorgridcolor\": \"white\", \"startlinecolor\": \"#2a3f5f\"}, \"baxis\": {\"endlinecolor\": \"#2a3f5f\", \"gridcolor\": \"white\", \"linecolor\": \"white\", \"minorgridcolor\": \"white\", \"startlinecolor\": \"#2a3f5f\"}, \"type\": \"carpet\"}], \"choropleth\": [{\"colorbar\": {\"outlinewidth\": 0, \"ticks\": \"\"}, \"type\": \"choropleth\"}], \"contour\": [{\"colorbar\": {\"outlinewidth\": 0, \"ticks\": \"\"}, \"colorscale\": [[0.0, \"#0d0887\"], [0.1111111111111111, \"#46039f\"], [0.2222222222222222, \"#7201a8\"], [0.3333333333333333, \"#9c179e\"], [0.4444444444444444, \"#bd3786\"], [0.5555555555555556, \"#d8576b\"], [0.6666666666666666, \"#ed7953\"], [0.7777777777777778, \"#fb9f3a\"], [0.8888888888888888, \"#fdca26\"], [1.0, \"#f0f921\"]], \"type\": \"contour\"}], \"contourcarpet\": [{\"colorbar\": {\"outlinewidth\": 0, \"ticks\": \"\"}, \"type\": \"contourcarpet\"}], \"heatmap\": [{\"colorbar\": {\"outlinewidth\": 0, \"ticks\": \"\"}, \"colorscale\": [[0.0, \"#0d0887\"], [0.1111111111111111, \"#46039f\"], [0.2222222222222222, \"#7201a8\"], [0.3333333333333333, \"#9c179e\"], [0.4444444444444444, \"#bd3786\"], [0.5555555555555556, \"#d8576b\"], [0.6666666666666666, \"#ed7953\"], [0.7777777777777778, \"#fb9f3a\"], [0.8888888888888888, \"#fdca26\"], [1.0, \"#f0f921\"]], \"type\": \"heatmap\"}], \"heatmapgl\": [{\"colorbar\": {\"outlinewidth\": 0, \"ticks\": \"\"}, \"colorscale\": [[0.0, \"#0d0887\"], [0.1111111111111111, \"#46039f\"], [0.2222222222222222, \"#7201a8\"], [0.3333333333333333, \"#9c179e\"], [0.4444444444444444, \"#bd3786\"], [0.5555555555555556, \"#d8576b\"], [0.6666666666666666, \"#ed7953\"], [0.7777777777777778, \"#fb9f3a\"], [0.8888888888888888, \"#fdca26\"], [1.0, \"#f0f921\"]], \"type\": \"heatmapgl\"}], \"histogram\": [{\"marker\": {\"colorbar\": {\"outlinewidth\": 0, \"ticks\": \"\"}}, \"type\": \"histogram\"}], \"histogram2d\": [{\"colorbar\": {\"outlinewidth\": 0, \"ticks\": \"\"}, \"colorscale\": [[0.0, \"#0d0887\"], [0.1111111111111111, \"#46039f\"], [0.2222222222222222, \"#7201a8\"], [0.3333333333333333, \"#9c179e\"], [0.4444444444444444, \"#bd3786\"], [0.5555555555555556, \"#d8576b\"], [0.6666666666666666, \"#ed7953\"], [0.7777777777777778, \"#fb9f3a\"], [0.8888888888888888, \"#fdca26\"], [1.0, \"#f0f921\"]], \"type\": \"histogram2d\"}], \"histogram2dcontour\": [{\"colorbar\": {\"outlinewidth\": 0, \"ticks\": \"\"}, \"colorscale\": [[0.0, \"#0d0887\"], [0.1111111111111111, \"#46039f\"], [0.2222222222222222, \"#7201a8\"], [0.3333333333333333, \"#9c179e\"], [0.4444444444444444, \"#bd3786\"], [0.5555555555555556, \"#d8576b\"], [0.6666666666666666, \"#ed7953\"], [0.7777777777777778, \"#fb9f3a\"], [0.8888888888888888, \"#fdca26\"], [1.0, \"#f0f921\"]], \"type\": \"histogram2dcontour\"}], \"mesh3d\": [{\"colorbar\": {\"outlinewidth\": 0, \"ticks\": \"\"}, \"type\": \"mesh3d\"}], \"parcoords\": [{\"line\": {\"colorbar\": {\"outlinewidth\": 0, \"ticks\": \"\"}}, \"type\": \"parcoords\"}], \"pie\": [{\"automargin\": true, \"type\": \"pie\"}], \"scatter\": [{\"marker\": {\"colorbar\": {\"outlinewidth\": 0, \"ticks\": \"\"}}, \"type\": \"scatter\"}], \"scatter3d\": [{\"line\": {\"colorbar\": {\"outlinewidth\": 0, \"ticks\": \"\"}}, \"marker\": {\"colorbar\": {\"outlinewidth\": 0, \"ticks\": \"\"}}, \"type\": \"scatter3d\"}], \"scattercarpet\": [{\"marker\": {\"colorbar\": {\"outlinewidth\": 0, \"ticks\": \"\"}}, \"type\": \"scattercarpet\"}], \"scattergeo\": [{\"marker\": {\"colorbar\": {\"outlinewidth\": 0, \"ticks\": \"\"}}, \"type\": \"scattergeo\"}], \"scattergl\": [{\"marker\": {\"colorbar\": {\"outlinewidth\": 0, \"ticks\": \"\"}}, \"type\": \"scattergl\"}], \"scattermapbox\": [{\"marker\": {\"colorbar\": {\"outlinewidth\": 0, \"ticks\": \"\"}}, \"type\": \"scattermapbox\"}], \"scatterpolar\": [{\"marker\": {\"colorbar\": {\"outlinewidth\": 0, \"ticks\": \"\"}}, \"type\": \"scatterpolar\"}], \"scatterpolargl\": [{\"marker\": {\"colorbar\": {\"outlinewidth\": 0, \"ticks\": \"\"}}, \"type\": \"scatterpolargl\"}], \"scatterternary\": [{\"marker\": {\"colorbar\": {\"outlinewidth\": 0, \"ticks\": \"\"}}, \"type\": \"scatterternary\"}], \"surface\": [{\"colorbar\": {\"outlinewidth\": 0, \"ticks\": \"\"}, \"colorscale\": [[0.0, \"#0d0887\"], [0.1111111111111111, \"#46039f\"], [0.2222222222222222, \"#7201a8\"], [0.3333333333333333, \"#9c179e\"], [0.4444444444444444, \"#bd3786\"], [0.5555555555555556, \"#d8576b\"], [0.6666666666666666, \"#ed7953\"], [0.7777777777777778, \"#fb9f3a\"], [0.8888888888888888, \"#fdca26\"], [1.0, \"#f0f921\"]], \"type\": \"surface\"}], \"table\": [{\"cells\": {\"fill\": {\"color\": \"#EBF0F8\"}, \"line\": {\"color\": \"white\"}}, \"header\": {\"fill\": {\"color\": \"#C8D4E3\"}, \"line\": {\"color\": \"white\"}}, \"type\": \"table\"}]}, \"layout\": {\"annotationdefaults\": {\"arrowcolor\": \"#2a3f5f\", \"arrowhead\": 0, \"arrowwidth\": 1}, \"coloraxis\": {\"colorbar\": {\"outlinewidth\": 0, \"ticks\": \"\"}}, \"colorscale\": {\"diverging\": [[0, \"#8e0152\"], [0.1, \"#c51b7d\"], [0.2, \"#de77ae\"], [0.3, \"#f1b6da\"], [0.4, \"#fde0ef\"], [0.5, \"#f7f7f7\"], [0.6, \"#e6f5d0\"], [0.7, \"#b8e186\"], [0.8, \"#7fbc41\"], [0.9, \"#4d9221\"], [1, \"#276419\"]], \"sequential\": [[0.0, \"#0d0887\"], [0.1111111111111111, \"#46039f\"], [0.2222222222222222, \"#7201a8\"], [0.3333333333333333, \"#9c179e\"], [0.4444444444444444, \"#bd3786\"], [0.5555555555555556, \"#d8576b\"], [0.6666666666666666, \"#ed7953\"], [0.7777777777777778, \"#fb9f3a\"], [0.8888888888888888, \"#fdca26\"], [1.0, \"#f0f921\"]], \"sequentialminus\": [[0.0, \"#0d0887\"], [0.1111111111111111, \"#46039f\"], [0.2222222222222222, \"#7201a8\"], [0.3333333333333333, \"#9c179e\"], [0.4444444444444444, \"#bd3786\"], [0.5555555555555556, \"#d8576b\"], [0.6666666666666666, \"#ed7953\"], [0.7777777777777778, \"#fb9f3a\"], [0.8888888888888888, \"#fdca26\"], [1.0, \"#f0f921\"]]}, \"colorway\": [\"#636efa\", \"#EF553B\", \"#00cc96\", \"#ab63fa\", \"#FFA15A\", \"#19d3f3\", \"#FF6692\", \"#B6E880\", \"#FF97FF\", \"#FECB52\"], \"font\": {\"color\": \"#2a3f5f\"}, \"geo\": {\"bgcolor\": \"white\", \"lakecolor\": \"white\", \"landcolor\": \"#E5ECF6\", \"showlakes\": true, \"showland\": true, \"subunitcolor\": \"white\"}, \"hoverlabel\": {\"align\": \"left\"}, \"hovermode\": \"closest\", \"mapbox\": {\"style\": \"light\"}, \"paper_bgcolor\": \"white\", \"plot_bgcolor\": \"#E5ECF6\", \"polar\": {\"angularaxis\": {\"gridcolor\": \"white\", \"linecolor\": \"white\", \"ticks\": \"\"}, \"bgcolor\": \"#E5ECF6\", \"radialaxis\": {\"gridcolor\": \"white\", \"linecolor\": \"white\", \"ticks\": \"\"}}, \"scene\": {\"xaxis\": {\"backgroundcolor\": \"#E5ECF6\", \"gridcolor\": \"white\", \"gridwidth\": 2, \"linecolor\": \"white\", \"showbackground\": true, \"ticks\": \"\", \"zerolinecolor\": \"white\"}, \"yaxis\": {\"backgroundcolor\": \"#E5ECF6\", \"gridcolor\": \"white\", \"gridwidth\": 2, \"linecolor\": \"white\", \"showbackground\": true, \"ticks\": \"\", \"zerolinecolor\": \"white\"}, \"zaxis\": {\"backgroundcolor\": \"#E5ECF6\", \"gridcolor\": \"white\", \"gridwidth\": 2, \"linecolor\": \"white\", \"showbackground\": true, \"ticks\": \"\", \"zerolinecolor\": \"white\"}}, \"shapedefaults\": {\"line\": {\"color\": \"#2a3f5f\"}}, \"ternary\": {\"aaxis\": {\"gridcolor\": \"white\", \"linecolor\": \"white\", \"ticks\": \"\"}, \"baxis\": {\"gridcolor\": \"white\", \"linecolor\": \"white\", \"ticks\": \"\"}, \"bgcolor\": \"#E5ECF6\", \"caxis\": {\"gridcolor\": \"white\", \"linecolor\": \"white\", \"ticks\": \"\"}}, \"title\": {\"x\": 0.05}, \"xaxis\": {\"automargin\": true, \"gridcolor\": \"white\", \"linecolor\": \"white\", \"ticks\": \"\", \"title\": {\"standoff\": 15}, \"zerolinecolor\": \"white\", \"zerolinewidth\": 2}, \"yaxis\": {\"automargin\": true, \"gridcolor\": \"white\", \"linecolor\": \"white\", \"ticks\": \"\", \"title\": {\"standoff\": 15}, \"zerolinecolor\": \"white\", \"zerolinewidth\": 2}}}, \"title\": {\"text\": \"Corona virus affected countries\"}},\n",
       "                        {\"responsive\": true}\n",
       "                    ).then(function(){\n",
       "                            \n",
       "var gd = document.getElementById('23c5abfe-5a0d-4e1b-964f-7e5084f1207c');\n",
       "var x = new MutationObserver(function (mutations, observer) {{\n",
       "        var display = window.getComputedStyle(gd).display;\n",
       "        if (!display || display === 'none') {{\n",
       "            console.log([gd, 'removed!']);\n",
       "            Plotly.purge(gd);\n",
       "            observer.disconnect();\n",
       "        }}\n",
       "}});\n",
       "\n",
       "// Listen for the removal of the full notebook cells\n",
       "var notebookContainer = gd.closest('#notebook-container');\n",
       "if (notebookContainer) {{\n",
       "    x.observe(notebookContainer, {childList: true});\n",
       "}}\n",
       "\n",
       "// Listen for the clearing of the current output cell\n",
       "var outputEl = gd.closest('.output');\n",
       "if (outputEl) {{\n",
       "    x.observe(outputEl, {childList: true});\n",
       "}}\n",
       "\n",
       "                        })\n",
       "                };\n",
       "                });\n",
       "            </script>\n",
       "        </div>"
      ]
     },
     "metadata": {},
     "output_type": "display_data"
    }
   ],
   "source": [
    "fig = go.Figure()\n",
    "fig.add_trace(go.Choropleth(\n",
    "        locationmode = 'country names',\n",
    "        locations = dff[\"Country\"],\n",
    "        z = dff.TotalDeaths,\n",
    "        text = dff[\"Country\"],\n",
    "        colorscale='sunset',\n",
    "        autocolorscale = False,\n",
    "        showscale = True,\n",
    "        geo = 'geo'\n",
    "    ))\n",
    "fig.update_layout(title_text='Corona virus affected countries')"
   ]
  },
  {
   "cell_type": "code",
   "execution_count": null,
   "metadata": {},
   "outputs": [],
   "source": []
  }
 ],
 "metadata": {
  "kernelspec": {
   "display_name": "Python 3",
   "language": "python",
   "name": "python3"
  },
  "language_info": {
   "codemirror_mode": {
    "name": "ipython",
    "version": 3
   },
   "file_extension": ".py",
   "mimetype": "text/x-python",
   "name": "python",
   "nbconvert_exporter": "python",
   "pygments_lexer": "ipython3",
   "version": "3.7.4"
  }
 },
 "nbformat": 4,
 "nbformat_minor": 2
}
